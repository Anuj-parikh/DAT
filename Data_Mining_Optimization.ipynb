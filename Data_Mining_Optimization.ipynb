{
 "cells": [
  {
   "cell_type": "code",
   "execution_count": 1,
   "metadata": {},
   "outputs": [],
   "source": [
    "import operator\n",
    "import numpy as np\n",
    "import pandas as pd\n",
    "import matplotlib.pyplot as plt\n",
    "import seaborn as sns\n",
    "import xgboost as xgb\n",
    "from sklearn.model_selection import train_test_split\n",
    "import statsmodels.api as sm\n",
    "from sklearn.model_selection import GridSearchCV\n",
    "from sklearn.model_selection import RandomizedSearchCV\n",
    "from sklearn.model_selection import StratifiedKFold"
   ]
  },
  {
   "cell_type": "code",
   "execution_count": 2,
   "metadata": {},
   "outputs": [],
   "source": [
    "nba_data = pd.read_csv('F:/Rahul Subjects/Data Mining/nba_logreg.csv')"
   ]
  },
  {
   "cell_type": "code",
   "execution_count": 3,
   "metadata": {},
   "outputs": [
    {
     "data": {
      "text/html": [
       "<div>\n",
       "<style scoped>\n",
       "    .dataframe tbody tr th:only-of-type {\n",
       "        vertical-align: middle;\n",
       "    }\n",
       "\n",
       "    .dataframe tbody tr th {\n",
       "        vertical-align: top;\n",
       "    }\n",
       "\n",
       "    .dataframe thead th {\n",
       "        text-align: right;\n",
       "    }\n",
       "</style>\n",
       "<table border=\"1\" class=\"dataframe\">\n",
       "  <thead>\n",
       "    <tr style=\"text-align: right;\">\n",
       "      <th></th>\n",
       "      <th>Name</th>\n",
       "      <th>GP</th>\n",
       "      <th>MIN</th>\n",
       "      <th>PTS</th>\n",
       "      <th>FGM</th>\n",
       "      <th>FGA</th>\n",
       "      <th>FG%</th>\n",
       "      <th>3P Made</th>\n",
       "      <th>3PA</th>\n",
       "      <th>3P%</th>\n",
       "      <th>...</th>\n",
       "      <th>FTA</th>\n",
       "      <th>FT%</th>\n",
       "      <th>OREB</th>\n",
       "      <th>DREB</th>\n",
       "      <th>REB</th>\n",
       "      <th>AST</th>\n",
       "      <th>STL</th>\n",
       "      <th>BLK</th>\n",
       "      <th>TOV</th>\n",
       "      <th>TARGET_5Yrs</th>\n",
       "    </tr>\n",
       "  </thead>\n",
       "  <tbody>\n",
       "    <tr>\n",
       "      <th>0</th>\n",
       "      <td>Brandon Ingram</td>\n",
       "      <td>36</td>\n",
       "      <td>27.4</td>\n",
       "      <td>7.4</td>\n",
       "      <td>2.6</td>\n",
       "      <td>7.6</td>\n",
       "      <td>34.7</td>\n",
       "      <td>0.5</td>\n",
       "      <td>2.1</td>\n",
       "      <td>25.0</td>\n",
       "      <td>...</td>\n",
       "      <td>2.3</td>\n",
       "      <td>69.9</td>\n",
       "      <td>0.7</td>\n",
       "      <td>3.4</td>\n",
       "      <td>4.1</td>\n",
       "      <td>1.9</td>\n",
       "      <td>0.4</td>\n",
       "      <td>0.4</td>\n",
       "      <td>1.3</td>\n",
       "      <td>0.0</td>\n",
       "    </tr>\n",
       "    <tr>\n",
       "      <th>1</th>\n",
       "      <td>Andrew Harrison</td>\n",
       "      <td>35</td>\n",
       "      <td>26.9</td>\n",
       "      <td>7.2</td>\n",
       "      <td>2.0</td>\n",
       "      <td>6.7</td>\n",
       "      <td>29.6</td>\n",
       "      <td>0.7</td>\n",
       "      <td>2.8</td>\n",
       "      <td>23.5</td>\n",
       "      <td>...</td>\n",
       "      <td>3.4</td>\n",
       "      <td>76.5</td>\n",
       "      <td>0.5</td>\n",
       "      <td>2.0</td>\n",
       "      <td>2.4</td>\n",
       "      <td>3.7</td>\n",
       "      <td>1.1</td>\n",
       "      <td>0.5</td>\n",
       "      <td>1.6</td>\n",
       "      <td>0.0</td>\n",
       "    </tr>\n",
       "    <tr>\n",
       "      <th>2</th>\n",
       "      <td>JaKarr Sampson</td>\n",
       "      <td>74</td>\n",
       "      <td>15.3</td>\n",
       "      <td>5.2</td>\n",
       "      <td>2.0</td>\n",
       "      <td>4.7</td>\n",
       "      <td>42.2</td>\n",
       "      <td>0.4</td>\n",
       "      <td>1.7</td>\n",
       "      <td>24.4</td>\n",
       "      <td>...</td>\n",
       "      <td>1.3</td>\n",
       "      <td>67.0</td>\n",
       "      <td>0.5</td>\n",
       "      <td>1.7</td>\n",
       "      <td>2.2</td>\n",
       "      <td>1.0</td>\n",
       "      <td>0.5</td>\n",
       "      <td>0.3</td>\n",
       "      <td>1.0</td>\n",
       "      <td>0.0</td>\n",
       "    </tr>\n",
       "    <tr>\n",
       "      <th>3</th>\n",
       "      <td>Malik Sealy</td>\n",
       "      <td>58</td>\n",
       "      <td>11.6</td>\n",
       "      <td>5.7</td>\n",
       "      <td>2.3</td>\n",
       "      <td>5.5</td>\n",
       "      <td>42.6</td>\n",
       "      <td>0.1</td>\n",
       "      <td>0.5</td>\n",
       "      <td>22.6</td>\n",
       "      <td>...</td>\n",
       "      <td>1.3</td>\n",
       "      <td>68.9</td>\n",
       "      <td>1.0</td>\n",
       "      <td>0.9</td>\n",
       "      <td>1.9</td>\n",
       "      <td>0.8</td>\n",
       "      <td>0.6</td>\n",
       "      <td>0.1</td>\n",
       "      <td>1.0</td>\n",
       "      <td>1.0</td>\n",
       "    </tr>\n",
       "    <tr>\n",
       "      <th>4</th>\n",
       "      <td>Matt Geiger</td>\n",
       "      <td>48</td>\n",
       "      <td>11.5</td>\n",
       "      <td>4.5</td>\n",
       "      <td>1.6</td>\n",
       "      <td>3.0</td>\n",
       "      <td>52.4</td>\n",
       "      <td>0.0</td>\n",
       "      <td>0.1</td>\n",
       "      <td>0.0</td>\n",
       "      <td>...</td>\n",
       "      <td>1.9</td>\n",
       "      <td>67.4</td>\n",
       "      <td>1.0</td>\n",
       "      <td>1.5</td>\n",
       "      <td>2.5</td>\n",
       "      <td>0.3</td>\n",
       "      <td>0.3</td>\n",
       "      <td>0.4</td>\n",
       "      <td>0.8</td>\n",
       "      <td>1.0</td>\n",
       "    </tr>\n",
       "  </tbody>\n",
       "</table>\n",
       "<p>5 rows × 21 columns</p>\n",
       "</div>"
      ],
      "text/plain": [
       "              Name  GP   MIN  PTS  FGM  FGA   FG%  3P Made  3PA   3P%  ...  \\\n",
       "0   Brandon Ingram  36  27.4  7.4  2.6  7.6  34.7      0.5  2.1  25.0  ...   \n",
       "1  Andrew Harrison  35  26.9  7.2  2.0  6.7  29.6      0.7  2.8  23.5  ...   \n",
       "2   JaKarr Sampson  74  15.3  5.2  2.0  4.7  42.2      0.4  1.7  24.4  ...   \n",
       "3      Malik Sealy  58  11.6  5.7  2.3  5.5  42.6      0.1  0.5  22.6  ...   \n",
       "4      Matt Geiger  48  11.5  4.5  1.6  3.0  52.4      0.0  0.1   0.0  ...   \n",
       "\n",
       "   FTA   FT%  OREB  DREB  REB  AST  STL  BLK  TOV  TARGET_5Yrs  \n",
       "0  2.3  69.9   0.7   3.4  4.1  1.9  0.4  0.4  1.3          0.0  \n",
       "1  3.4  76.5   0.5   2.0  2.4  3.7  1.1  0.5  1.6          0.0  \n",
       "2  1.3  67.0   0.5   1.7  2.2  1.0  0.5  0.3  1.0          0.0  \n",
       "3  1.3  68.9   1.0   0.9  1.9  0.8  0.6  0.1  1.0          1.0  \n",
       "4  1.9  67.4   1.0   1.5  2.5  0.3  0.3  0.4  0.8          1.0  \n",
       "\n",
       "[5 rows x 21 columns]"
      ]
     },
     "execution_count": 3,
     "metadata": {},
     "output_type": "execute_result"
    }
   ],
   "source": [
    "nba_data.head()"
   ]
  },
  {
   "cell_type": "markdown",
   "metadata": {},
   "source": [
    "# Handling Null Values"
   ]
  },
  {
   "cell_type": "code",
   "execution_count": 4,
   "metadata": {},
   "outputs": [
    {
     "data": {
      "text/plain": [
       "Name            0\n",
       "GP              0\n",
       "MIN             0\n",
       "PTS             0\n",
       "FGM             0\n",
       "FGA             0\n",
       "FG%             0\n",
       "3P Made         0\n",
       "3PA             0\n",
       "3P%            11\n",
       "FTM             0\n",
       "FTA             0\n",
       "FT%             0\n",
       "OREB            0\n",
       "DREB            0\n",
       "REB             0\n",
       "AST             0\n",
       "STL             0\n",
       "BLK             0\n",
       "TOV             0\n",
       "TARGET_5Yrs     0\n",
       "dtype: int64"
      ]
     },
     "execution_count": 4,
     "metadata": {},
     "output_type": "execute_result"
    }
   ],
   "source": [
    "nba_data.isnull().sum()"
   ]
  },
  {
   "cell_type": "code",
   "execution_count": 5,
   "metadata": {},
   "outputs": [
    {
     "data": {
      "text/html": [
       "<div>\n",
       "<style scoped>\n",
       "    .dataframe tbody tr th:only-of-type {\n",
       "        vertical-align: middle;\n",
       "    }\n",
       "\n",
       "    .dataframe tbody tr th {\n",
       "        vertical-align: top;\n",
       "    }\n",
       "\n",
       "    .dataframe thead th {\n",
       "        text-align: right;\n",
       "    }\n",
       "</style>\n",
       "<table border=\"1\" class=\"dataframe\">\n",
       "  <thead>\n",
       "    <tr style=\"text-align: right;\">\n",
       "      <th></th>\n",
       "      <th>Name</th>\n",
       "      <th>GP</th>\n",
       "      <th>MIN</th>\n",
       "      <th>PTS</th>\n",
       "      <th>FGM</th>\n",
       "      <th>FGA</th>\n",
       "      <th>FG%</th>\n",
       "      <th>3P Made</th>\n",
       "      <th>3PA</th>\n",
       "      <th>3P%</th>\n",
       "      <th>...</th>\n",
       "      <th>FTA</th>\n",
       "      <th>FT%</th>\n",
       "      <th>OREB</th>\n",
       "      <th>DREB</th>\n",
       "      <th>REB</th>\n",
       "      <th>AST</th>\n",
       "      <th>STL</th>\n",
       "      <th>BLK</th>\n",
       "      <th>TOV</th>\n",
       "      <th>TARGET_5Yrs</th>\n",
       "    </tr>\n",
       "  </thead>\n",
       "  <tbody>\n",
       "    <tr>\n",
       "      <th>338</th>\n",
       "      <td>Ken Johnson</td>\n",
       "      <td>64</td>\n",
       "      <td>12.7</td>\n",
       "      <td>4.1</td>\n",
       "      <td>1.8</td>\n",
       "      <td>3.3</td>\n",
       "      <td>52.8</td>\n",
       "      <td>0.0</td>\n",
       "      <td>0.0</td>\n",
       "      <td>NaN</td>\n",
       "      <td>...</td>\n",
       "      <td>1.3</td>\n",
       "      <td>43.5</td>\n",
       "      <td>1.4</td>\n",
       "      <td>2.4</td>\n",
       "      <td>3.8</td>\n",
       "      <td>0.3</td>\n",
       "      <td>0.2</td>\n",
       "      <td>0.3</td>\n",
       "      <td>0.9</td>\n",
       "      <td>0.0</td>\n",
       "    </tr>\n",
       "    <tr>\n",
       "      <th>339</th>\n",
       "      <td>Ken Johnson</td>\n",
       "      <td>64</td>\n",
       "      <td>12.7</td>\n",
       "      <td>4.1</td>\n",
       "      <td>1.8</td>\n",
       "      <td>3.3</td>\n",
       "      <td>52.8</td>\n",
       "      <td>0.0</td>\n",
       "      <td>0.0</td>\n",
       "      <td>NaN</td>\n",
       "      <td>...</td>\n",
       "      <td>1.3</td>\n",
       "      <td>43.5</td>\n",
       "      <td>1.4</td>\n",
       "      <td>2.4</td>\n",
       "      <td>3.8</td>\n",
       "      <td>0.3</td>\n",
       "      <td>0.2</td>\n",
       "      <td>0.3</td>\n",
       "      <td>0.9</td>\n",
       "      <td>0.0</td>\n",
       "    </tr>\n",
       "    <tr>\n",
       "      <th>340</th>\n",
       "      <td>Pete Williams</td>\n",
       "      <td>53</td>\n",
       "      <td>10.8</td>\n",
       "      <td>2.8</td>\n",
       "      <td>1.3</td>\n",
       "      <td>2.1</td>\n",
       "      <td>60.4</td>\n",
       "      <td>0.0</td>\n",
       "      <td>0.0</td>\n",
       "      <td>NaN</td>\n",
       "      <td>...</td>\n",
       "      <td>0.8</td>\n",
       "      <td>42.5</td>\n",
       "      <td>0.9</td>\n",
       "      <td>1.9</td>\n",
       "      <td>2.8</td>\n",
       "      <td>0.3</td>\n",
       "      <td>0.4</td>\n",
       "      <td>0.4</td>\n",
       "      <td>0.4</td>\n",
       "      <td>0.0</td>\n",
       "    </tr>\n",
       "    <tr>\n",
       "      <th>358</th>\n",
       "      <td>Melvin Turpin</td>\n",
       "      <td>79</td>\n",
       "      <td>24.7</td>\n",
       "      <td>10.6</td>\n",
       "      <td>4.6</td>\n",
       "      <td>9.0</td>\n",
       "      <td>51.1</td>\n",
       "      <td>0.0</td>\n",
       "      <td>0.0</td>\n",
       "      <td>NaN</td>\n",
       "      <td>...</td>\n",
       "      <td>1.8</td>\n",
       "      <td>78.4</td>\n",
       "      <td>2.0</td>\n",
       "      <td>3.8</td>\n",
       "      <td>5.7</td>\n",
       "      <td>0.5</td>\n",
       "      <td>0.5</td>\n",
       "      <td>1.1</td>\n",
       "      <td>1.5</td>\n",
       "      <td>1.0</td>\n",
       "    </tr>\n",
       "    <tr>\n",
       "      <th>386</th>\n",
       "      <td>Jim Petersen</td>\n",
       "      <td>60</td>\n",
       "      <td>11.9</td>\n",
       "      <td>3.2</td>\n",
       "      <td>1.2</td>\n",
       "      <td>2.4</td>\n",
       "      <td>48.6</td>\n",
       "      <td>0.0</td>\n",
       "      <td>0.0</td>\n",
       "      <td>NaN</td>\n",
       "      <td>...</td>\n",
       "      <td>1.1</td>\n",
       "      <td>75.8</td>\n",
       "      <td>0.7</td>\n",
       "      <td>1.7</td>\n",
       "      <td>2.5</td>\n",
       "      <td>0.5</td>\n",
       "      <td>0.2</td>\n",
       "      <td>0.5</td>\n",
       "      <td>1.2</td>\n",
       "      <td>1.0</td>\n",
       "    </tr>\n",
       "    <tr>\n",
       "      <th>397</th>\n",
       "      <td>Tom Scheffler</td>\n",
       "      <td>39</td>\n",
       "      <td>6.9</td>\n",
       "      <td>1.3</td>\n",
       "      <td>0.5</td>\n",
       "      <td>1.3</td>\n",
       "      <td>41.2</td>\n",
       "      <td>0.0</td>\n",
       "      <td>0.0</td>\n",
       "      <td>NaN</td>\n",
       "      <td>...</td>\n",
       "      <td>0.5</td>\n",
       "      <td>50.0</td>\n",
       "      <td>0.5</td>\n",
       "      <td>1.5</td>\n",
       "      <td>1.9</td>\n",
       "      <td>0.3</td>\n",
       "      <td>0.2</td>\n",
       "      <td>0.3</td>\n",
       "      <td>0.4</td>\n",
       "      <td>0.0</td>\n",
       "    </tr>\n",
       "    <tr>\n",
       "      <th>507</th>\n",
       "      <td>Sam Williams</td>\n",
       "      <td>59</td>\n",
       "      <td>18.2</td>\n",
       "      <td>6.1</td>\n",
       "      <td>2.6</td>\n",
       "      <td>4.7</td>\n",
       "      <td>55.6</td>\n",
       "      <td>0.0</td>\n",
       "      <td>0.0</td>\n",
       "      <td>NaN</td>\n",
       "      <td>...</td>\n",
       "      <td>1.5</td>\n",
       "      <td>55.1</td>\n",
       "      <td>1.5</td>\n",
       "      <td>3.7</td>\n",
       "      <td>5.2</td>\n",
       "      <td>0.6</td>\n",
       "      <td>0.8</td>\n",
       "      <td>1.3</td>\n",
       "      <td>1.1</td>\n",
       "      <td>0.0</td>\n",
       "    </tr>\n",
       "    <tr>\n",
       "      <th>509</th>\n",
       "      <td>Kurt Nimphius</td>\n",
       "      <td>63</td>\n",
       "      <td>17.2</td>\n",
       "      <td>5.3</td>\n",
       "      <td>2.2</td>\n",
       "      <td>4.7</td>\n",
       "      <td>46.1</td>\n",
       "      <td>0.0</td>\n",
       "      <td>0.0</td>\n",
       "      <td>NaN</td>\n",
       "      <td>...</td>\n",
       "      <td>1.7</td>\n",
       "      <td>58.3</td>\n",
       "      <td>1.5</td>\n",
       "      <td>3.2</td>\n",
       "      <td>4.7</td>\n",
       "      <td>1.0</td>\n",
       "      <td>0.3</td>\n",
       "      <td>1.3</td>\n",
       "      <td>0.9</td>\n",
       "      <td>1.0</td>\n",
       "    </tr>\n",
       "    <tr>\n",
       "      <th>510</th>\n",
       "      <td>Pete Verhoeven</td>\n",
       "      <td>71</td>\n",
       "      <td>17.0</td>\n",
       "      <td>4.9</td>\n",
       "      <td>2.1</td>\n",
       "      <td>4.2</td>\n",
       "      <td>50.3</td>\n",
       "      <td>0.0</td>\n",
       "      <td>0.0</td>\n",
       "      <td>NaN</td>\n",
       "      <td>...</td>\n",
       "      <td>1.0</td>\n",
       "      <td>70.8</td>\n",
       "      <td>1.5</td>\n",
       "      <td>2.1</td>\n",
       "      <td>3.6</td>\n",
       "      <td>0.7</td>\n",
       "      <td>0.6</td>\n",
       "      <td>0.3</td>\n",
       "      <td>0.8</td>\n",
       "      <td>1.0</td>\n",
       "    </tr>\n",
       "    <tr>\n",
       "      <th>521</th>\n",
       "      <td>Jim Smith</td>\n",
       "      <td>72</td>\n",
       "      <td>11.9</td>\n",
       "      <td>2.9</td>\n",
       "      <td>1.2</td>\n",
       "      <td>2.3</td>\n",
       "      <td>50.9</td>\n",
       "      <td>0.0</td>\n",
       "      <td>0.0</td>\n",
       "      <td>NaN</td>\n",
       "      <td>...</td>\n",
       "      <td>1.2</td>\n",
       "      <td>45.9</td>\n",
       "      <td>1.0</td>\n",
       "      <td>1.5</td>\n",
       "      <td>2.5</td>\n",
       "      <td>0.6</td>\n",
       "      <td>0.3</td>\n",
       "      <td>0.7</td>\n",
       "      <td>0.7</td>\n",
       "      <td>0.0</td>\n",
       "    </tr>\n",
       "    <tr>\n",
       "      <th>559</th>\n",
       "      <td>Jeff Wilkins</td>\n",
       "      <td>56</td>\n",
       "      <td>18.9</td>\n",
       "      <td>4.7</td>\n",
       "      <td>2.1</td>\n",
       "      <td>4.6</td>\n",
       "      <td>45.0</td>\n",
       "      <td>0.0</td>\n",
       "      <td>0.0</td>\n",
       "      <td>NaN</td>\n",
       "      <td>...</td>\n",
       "      <td>0.7</td>\n",
       "      <td>67.5</td>\n",
       "      <td>1.1</td>\n",
       "      <td>3.8</td>\n",
       "      <td>4.9</td>\n",
       "      <td>0.7</td>\n",
       "      <td>0.6</td>\n",
       "      <td>0.8</td>\n",
       "      <td>1.1</td>\n",
       "      <td>1.0</td>\n",
       "    </tr>\n",
       "  </tbody>\n",
       "</table>\n",
       "<p>11 rows × 21 columns</p>\n",
       "</div>"
      ],
      "text/plain": [
       "               Name  GP   MIN   PTS  FGM  FGA   FG%  3P Made  3PA  3P%  ...  \\\n",
       "338     Ken Johnson  64  12.7   4.1  1.8  3.3  52.8      0.0  0.0  NaN  ...   \n",
       "339     Ken Johnson  64  12.7   4.1  1.8  3.3  52.8      0.0  0.0  NaN  ...   \n",
       "340   Pete Williams  53  10.8   2.8  1.3  2.1  60.4      0.0  0.0  NaN  ...   \n",
       "358   Melvin Turpin  79  24.7  10.6  4.6  9.0  51.1      0.0  0.0  NaN  ...   \n",
       "386    Jim Petersen  60  11.9   3.2  1.2  2.4  48.6      0.0  0.0  NaN  ...   \n",
       "397   Tom Scheffler  39   6.9   1.3  0.5  1.3  41.2      0.0  0.0  NaN  ...   \n",
       "507    Sam Williams  59  18.2   6.1  2.6  4.7  55.6      0.0  0.0  NaN  ...   \n",
       "509   Kurt Nimphius  63  17.2   5.3  2.2  4.7  46.1      0.0  0.0  NaN  ...   \n",
       "510  Pete Verhoeven  71  17.0   4.9  2.1  4.2  50.3      0.0  0.0  NaN  ...   \n",
       "521       Jim Smith  72  11.9   2.9  1.2  2.3  50.9      0.0  0.0  NaN  ...   \n",
       "559    Jeff Wilkins  56  18.9   4.7  2.1  4.6  45.0      0.0  0.0  NaN  ...   \n",
       "\n",
       "     FTA   FT%  OREB  DREB  REB  AST  STL  BLK  TOV  TARGET_5Yrs  \n",
       "338  1.3  43.5   1.4   2.4  3.8  0.3  0.2  0.3  0.9          0.0  \n",
       "339  1.3  43.5   1.4   2.4  3.8  0.3  0.2  0.3  0.9          0.0  \n",
       "340  0.8  42.5   0.9   1.9  2.8  0.3  0.4  0.4  0.4          0.0  \n",
       "358  1.8  78.4   2.0   3.8  5.7  0.5  0.5  1.1  1.5          1.0  \n",
       "386  1.1  75.8   0.7   1.7  2.5  0.5  0.2  0.5  1.2          1.0  \n",
       "397  0.5  50.0   0.5   1.5  1.9  0.3  0.2  0.3  0.4          0.0  \n",
       "507  1.5  55.1   1.5   3.7  5.2  0.6  0.8  1.3  1.1          0.0  \n",
       "509  1.7  58.3   1.5   3.2  4.7  1.0  0.3  1.3  0.9          1.0  \n",
       "510  1.0  70.8   1.5   2.1  3.6  0.7  0.6  0.3  0.8          1.0  \n",
       "521  1.2  45.9   1.0   1.5  2.5  0.6  0.3  0.7  0.7          0.0  \n",
       "559  0.7  67.5   1.1   3.8  4.9  0.7  0.6  0.8  1.1          1.0  \n",
       "\n",
       "[11 rows x 21 columns]"
      ]
     },
     "execution_count": 5,
     "metadata": {},
     "output_type": "execute_result"
    }
   ],
   "source": [
    "nba_data[nba_data.isna().any(axis=1)]"
   ]
  },
  {
   "cell_type": "markdown",
   "metadata": {},
   "source": [
    "### 3P% = (3P Made/3PA)*100\n",
    "### FG% = (FGM/FGA)*100\n",
    "### FT% = (FTM/FTA)*100"
   ]
  },
  {
   "cell_type": "code",
   "execution_count": 6,
   "metadata": {},
   "outputs": [],
   "source": [
    "nba_data = nba_data.fillna(0)"
   ]
  },
  {
   "cell_type": "markdown",
   "metadata": {},
   "source": [
    "### This is because the 3P% is calculated from 3P Made and 3PA. And we can see from the above table that both 3P Made and 3PA are 0's so it is better to fill the 3P% with 0 as well."
   ]
  },
  {
   "cell_type": "code",
   "execution_count": null,
   "metadata": {},
   "outputs": [],
   "source": []
  },
  {
   "cell_type": "code",
   "execution_count": null,
   "metadata": {},
   "outputs": [],
   "source": []
  },
  {
   "cell_type": "markdown",
   "metadata": {},
   "source": [
    "# Handling Duplicates"
   ]
  },
  {
   "cell_type": "code",
   "execution_count": 7,
   "metadata": {},
   "outputs": [],
   "source": [
    "df = nba_data"
   ]
  },
  {
   "cell_type": "code",
   "execution_count": 8,
   "metadata": {},
   "outputs": [
    {
     "data": {
      "text/plain": [
       "(1340, 21)"
      ]
     },
     "execution_count": 8,
     "metadata": {},
     "output_type": "execute_result"
    }
   ],
   "source": [
    "nba_data.shape"
   ]
  },
  {
   "cell_type": "code",
   "execution_count": 9,
   "metadata": {},
   "outputs": [
    {
     "name": "stdout",
     "output_type": "stream",
     "text": [
      "(1328, 21)\n"
     ]
    }
   ],
   "source": [
    "df = df.drop_duplicates()\n",
    "print( df.shape )"
   ]
  },
  {
   "cell_type": "markdown",
   "metadata": {},
   "source": [
    "### There were twelve duplicates and we dropped them."
   ]
  },
  {
   "cell_type": "code",
   "execution_count": null,
   "metadata": {},
   "outputs": [],
   "source": []
  },
  {
   "cell_type": "code",
   "execution_count": null,
   "metadata": {},
   "outputs": [],
   "source": []
  },
  {
   "cell_type": "markdown",
   "metadata": {},
   "source": [
    "# Handling Outliers"
   ]
  },
  {
   "cell_type": "code",
   "execution_count": 10,
   "metadata": {},
   "outputs": [],
   "source": [
    "df = df.drop('Name', axis=1)"
   ]
  },
  {
   "cell_type": "code",
   "execution_count": null,
   "metadata": {},
   "outputs": [],
   "source": []
  },
  {
   "cell_type": "code",
   "execution_count": 11,
   "metadata": {},
   "outputs": [
    {
     "data": {
      "image/png": "[encoded data removed]",
      "text/plain": [
       "<Figure size 360x360 with 1 Axes>"
      ]
     },
     "metadata": {
      "needs_background": "light"
     },
     "output_type": "display_data"
    },
    {
     "data": {
      "image/png": "[encoded data removed]",
      "text/plain": [
       "<Figure size 360x360 with 1 Axes>"
      ]
     },
     "metadata": {
      "needs_background": "light"
     },
     "output_type": "display_data"
    },
    {
     "data": {
      "image/png": "[encoded data removed]",
      "text/plain": [
       "<Figure size 360x360 with 1 Axes>"
      ]
     },
     "metadata": {
      "needs_background": "light"
     },
     "output_type": "display_data"
    },
    {
     "data": {
      "image/png": "[encoded data removed]",
      "text/plain": [
       "<Figure size 360x360 with 1 Axes>"
      ]
     },
     "metadata": {
      "needs_background": "light"
     },
     "output_type": "display_data"
    },
    {
     "data": {
      "image/png": "[encoded data removed]",
      "text/plain": [
       "<Figure size 360x360 with 1 Axes>"
      ]
     },
     "metadata": {
      "needs_background": "light"
     },
     "output_type": "display_data"
    },
    {
     "data": {
      "image/png": "[encoded data removed]",
      "text/plain": [
       "<Figure size 360x360 with 1 Axes>"
      ]
     },
     "metadata": {
      "needs_background": "light"
     },
     "output_type": "display_data"
    },
    {
     "data": {
      "image/png": "[encoded data removed]",
      "text/plain": [
       "<Figure size 360x360 with 1 Axes>"
      ]
     },
     "metadata": {
      "needs_background": "light"
     },
     "output_type": "display_data"
    },
    {
     "data": {
      "image/png": "[encoded data removed]",
      "text/plain": [
       "<Figure size 360x360 with 1 Axes>"
      ]
     },
     "metadata": {
      "needs_background": "light"
     },
     "output_type": "display_data"
    },
    {
     "data": {
      "image/png": "[encoded data removed]",
      "text/plain": [
       "<Figure size 360x360 with 1 Axes>"
      ]
     },
     "metadata": {
      "needs_background": "light"
     },
     "output_type": "display_data"
    },
    {
     "data": {
      "image/png": "[encoded data removed]",
      "text/plain": [
       "<Figure size 360x360 with 1 Axes>"
      ]
     },
     "metadata": {
      "needs_background": "light"
     },
     "output_type": "display_data"
    },
    {
     "data": {
      "image/png": "[encoded data removed]",
      "text/plain": [
       "<Figure size 360x360 with 1 Axes>"
      ]
     },
     "metadata": {
      "needs_background": "light"
     },
     "output_type": "display_data"
    },
    {
     "data": {
      "image/png": "[encoded data removed]",
      "text/plain": [
       "<Figure size 360x360 with 1 Axes>"
      ]
     },
     "metadata": {
      "needs_background": "light"
     },
     "output_type": "display_data"
    },
    {
     "data": {
      "image/png": "[encoded data removed]",
      "text/plain": [
       "<Figure size 360x360 with 1 Axes>"
      ]
     },
     "metadata": {
      "needs_background": "light"
     },
     "output_type": "display_data"
    },
    {
     "data": {
      "image/png": "[encoded data removed]",
      "text/plain": [
       "<Figure size 360x360 with 1 Axes>"
      ]
     },
     "metadata": {
      "needs_background": "light"
     },
     "output_type": "display_data"
    },
    {
     "data": {
      "image/png": "[encoded data removed]",
      "text/plain": [
       "<Figure size 360x360 with 1 Axes>"
      ]
     },
     "metadata": {
      "needs_background": "light"
     },
     "output_type": "display_data"
    },
    {
     "data": {
      "image/png": "[encoded data removed]",
      "text/plain": [
       "<Figure size 360x360 with 1 Axes>"
      ]
     },
     "metadata": {
      "needs_background": "light"
     },
     "output_type": "display_data"
    },
    {
     "data": {
      "image/png": "[encoded data removed]",
      "text/plain": [
       "<Figure size 360x360 with 1 Axes>"
      ]
     },
     "metadata": {
      "needs_background": "light"
     },
     "output_type": "display_data"
    },
    {
     "data": {
      "image/png": "[encoded data removed]",
      "text/plain": [
       "<Figure size 360x360 with 1 Axes>"
      ]
     },
     "metadata": {
      "needs_background": "light"
     },
     "output_type": "display_data"
    },
    {
     "data": {
      "image/png": "[encoded data removed]",
      "text/plain": [
       "<Figure size 360x360 with 1 Axes>"
      ]
     },
     "metadata": {
      "needs_background": "light"
     },
     "output_type": "display_data"
    },
    {
     "data": {
      "image/png": "[encoded data removed]",
      "text/plain": [
       "<Figure size 360x360 with 1 Axes>"
      ]
     },
     "metadata": {
      "needs_background": "light"
     },
     "output_type": "display_data"
    }
   ],
   "source": [
    "for col in df.columns:\n",
    "    plt.figure(figsize=(5,5))\n",
    "    ax = sns.boxplot(x=df[col])"
   ]
  },
  {
   "cell_type": "markdown",
   "metadata": {},
   "source": [
    "### From these set of graphs we take the graphs that have outstanding outliers and remove them. "
   ]
  },
  {
   "cell_type": "code",
   "execution_count": 12,
   "metadata": {},
   "outputs": [
    {
     "data": {
      "text/plain": [
       "<matplotlib.axes._subplots.AxesSubplot at 0x1c93f5a5c88>"
      ]
     },
     "execution_count": 12,
     "metadata": {},
     "output_type": "execute_result"
    },
    {
     "data": {
      "image/png": "[encoded data removed]",
      "text/plain": [
       "<Figure size 432x288 with 1 Axes>"
      ]
     },
     "metadata": {
      "needs_background": "light"
     },
     "output_type": "display_data"
    }
   ],
   "source": [
    "sns.boxplot(df['PTS'])"
   ]
  },
  {
   "cell_type": "code",
   "execution_count": 13,
   "metadata": {},
   "outputs": [
    {
     "data": {
      "text/plain": [
       "352     28.2\n",
       "118     24.3\n",
       "442     23.7\n",
       "1157    23.5\n",
       "1308    23.4\n",
       "Name: PTS, dtype: float64"
      ]
     },
     "execution_count": 13,
     "metadata": {},
     "output_type": "execute_result"
    }
   ],
   "source": [
    "df['PTS'].sort_values(ascending=False).head()"
   ]
  },
  {
   "cell_type": "code",
   "execution_count": 14,
   "metadata": {},
   "outputs": [
    {
     "data": {
      "text/plain": [
       "(1327, 20)"
      ]
     },
     "execution_count": 14,
     "metadata": {},
     "output_type": "execute_result"
    }
   ],
   "source": [
    "df = df[df['PTS'] <=25 ]\n",
    "df.shape"
   ]
  },
  {
   "cell_type": "code",
   "execution_count": 15,
   "metadata": {},
   "outputs": [
    {
     "data": {
      "text/plain": [
       "<matplotlib.axes._subplots.AxesSubplot at 0x1c93f371348>"
      ]
     },
     "execution_count": 15,
     "metadata": {},
     "output_type": "execute_result"
    },
    {
     "data": {
      "image/png": "[encoded data removed]",
      "text/plain": [
       "<Figure size 432x288 with 1 Axes>"
      ]
     },
     "metadata": {
      "needs_background": "light"
     },
     "output_type": "display_data"
    }
   ],
   "source": [
    "sns.boxplot(df['FG%'])"
   ]
  },
  {
   "cell_type": "code",
   "execution_count": 16,
   "metadata": {},
   "outputs": [
    {
     "data": {
      "text/plain": [
       "1109    73.7\n",
       "728     66.2\n",
       "692     66.1\n",
       "301     65.9\n",
       "761     63.3\n",
       "791     61.6\n",
       "500     61.3\n",
       "597     60.8\n",
       "340     60.4\n",
       "359     60.0\n",
       "Name: FG%, dtype: float64"
      ]
     },
     "execution_count": 16,
     "metadata": {},
     "output_type": "execute_result"
    }
   ],
   "source": [
    "df['FG%'].sort_values(ascending=False).head(10)"
   ]
  },
  {
   "cell_type": "code",
   "execution_count": 17,
   "metadata": {},
   "outputs": [
    {
     "data": {
      "text/plain": [
       "(1326, 20)"
      ]
     },
     "execution_count": 17,
     "metadata": {},
     "output_type": "execute_result"
    }
   ],
   "source": [
    "df = df[df['FG%'] <=70 ]\n",
    "df.shape"
   ]
  },
  {
   "cell_type": "code",
   "execution_count": 18,
   "metadata": {},
   "outputs": [
    {
     "data": {
      "text/plain": [
       "<matplotlib.axes._subplots.AxesSubplot at 0x1c93f5ae5c8>"
      ]
     },
     "execution_count": 18,
     "metadata": {},
     "output_type": "execute_result"
    },
    {
     "data": {
      "image/png": "[encoded data removed]",
      "text/plain": [
       "<Figure size 432x288 with 1 Axes>"
      ]
     },
     "metadata": {
      "needs_background": "light"
     },
     "output_type": "display_data"
    }
   ],
   "source": [
    "sns.boxplot(df['3PA'])"
   ]
  },
  {
   "cell_type": "code",
   "execution_count": 19,
   "metadata": {},
   "outputs": [
    {
     "data": {
      "text/plain": [
       "1087    6.5\n",
       "585     6.1\n",
       "1157    6.0\n",
       "1158    5.1\n",
       "922     4.9\n",
       "1190    4.8\n",
       "172     4.8\n",
       "698     4.8\n",
       "699     4.7\n",
       "1164    4.6\n",
       "Name: 3PA, dtype: float64"
      ]
     },
     "execution_count": 19,
     "metadata": {},
     "output_type": "execute_result"
    }
   ],
   "source": [
    "df['3PA'].sort_values(ascending=False).head(10)"
   ]
  },
  {
   "cell_type": "code",
   "execution_count": 20,
   "metadata": {},
   "outputs": [
    {
     "data": {
      "text/plain": [
       "(1323, 20)"
      ]
     },
     "execution_count": 20,
     "metadata": {},
     "output_type": "execute_result"
    }
   ],
   "source": [
    "df = df[df['3PA'] <=5.5 ]\n",
    "df.shape"
   ]
  },
  {
   "cell_type": "code",
   "execution_count": 21,
   "metadata": {},
   "outputs": [
    {
     "data": {
      "text/plain": [
       "<matplotlib.axes._subplots.AxesSubplot at 0x1c93f5508c8>"
      ]
     },
     "execution_count": 21,
     "metadata": {},
     "output_type": "execute_result"
    },
    {
     "data": {
      "image/png": "[encoded data removed]",
      "text/plain": [
       "<Figure size 432x288 with 1 Axes>"
      ]
     },
     "metadata": {
      "needs_background": "light"
     },
     "output_type": "display_data"
    }
   ],
   "source": [
    "sns.boxplot(df['3P%'])"
   ]
  },
  {
   "cell_type": "code",
   "execution_count": 22,
   "metadata": {},
   "outputs": [
    {
     "data": {
      "text/plain": [
       "1253    100.0\n",
       "1174    100.0\n",
       "45      100.0\n",
       "1053    100.0\n",
       "528      66.7\n",
       "Name: 3P%, dtype: float64"
      ]
     },
     "execution_count": 22,
     "metadata": {},
     "output_type": "execute_result"
    }
   ],
   "source": [
    "df['3P%'].sort_values(ascending=False).head()"
   ]
  },
  {
   "cell_type": "code",
   "execution_count": 23,
   "metadata": {},
   "outputs": [
    {
     "data": {
      "text/plain": [
       "(1319, 20)"
      ]
     },
     "execution_count": 23,
     "metadata": {},
     "output_type": "execute_result"
    }
   ],
   "source": [
    "df = df[df['3P%'] <=80 ]\n",
    "df.shape"
   ]
  },
  {
   "cell_type": "code",
   "execution_count": 24,
   "metadata": {},
   "outputs": [
    {
     "data": {
      "text/plain": [
       "<matplotlib.axes._subplots.AxesSubplot at 0x1c93cfbc2c8>"
      ]
     },
     "execution_count": 24,
     "metadata": {},
     "output_type": "execute_result"
    },
    {
     "data": {
      "image/png": "[encoded data removed]",
      "text/plain": [
       "<Figure size 432x288 with 1 Axes>"
      ]
     },
     "metadata": {
      "needs_background": "light"
     },
     "output_type": "display_data"
    }
   ],
   "source": [
    "sns.boxplot(df['FTM'])"
   ]
  },
  {
   "cell_type": "code",
   "execution_count": 25,
   "metadata": {},
   "outputs": [
    {
     "data": {
      "text/plain": [
       "118     7.5\n",
       "1312    6.3\n",
       "490     6.0\n",
       "1310    5.7\n",
       "1192    5.4\n",
       "Name: FTM, dtype: float64"
      ]
     },
     "execution_count": 25,
     "metadata": {},
     "output_type": "execute_result"
    }
   ],
   "source": [
    "df['FTM'].sort_values(ascending=False).head()"
   ]
  },
  {
   "cell_type": "code",
   "execution_count": 26,
   "metadata": {},
   "outputs": [
    {
     "data": {
      "text/plain": [
       "(1318, 20)"
      ]
     },
     "execution_count": 26,
     "metadata": {},
     "output_type": "execute_result"
    }
   ],
   "source": [
    "df = df[df['FTM'] <=7.0 ]\n",
    "df.shape"
   ]
  },
  {
   "cell_type": "code",
   "execution_count": 27,
   "metadata": {},
   "outputs": [
    {
     "data": {
      "text/plain": [
       "<matplotlib.axes._subplots.AxesSubplot at 0x1c93eed6d88>"
      ]
     },
     "execution_count": 27,
     "metadata": {},
     "output_type": "execute_result"
    },
    {
     "data": {
      "image/png": "[encoded data removed]",
      "text/plain": [
       "<Figure size 432x288 with 1 Axes>"
      ]
     },
     "metadata": {
      "needs_background": "light"
     },
     "output_type": "display_data"
    }
   ],
   "source": [
    "sns.boxplot(df['FT%'])"
   ]
  },
  {
   "cell_type": "code",
   "execution_count": 28,
   "metadata": {},
   "outputs": [
    {
     "data": {
      "text/plain": [
       "809     0.0\n",
       "12     28.6\n",
       "887    29.6\n",
       "441    31.3\n",
       "485    31.3\n",
       "Name: FT%, dtype: float64"
      ]
     },
     "execution_count": 28,
     "metadata": {},
     "output_type": "execute_result"
    }
   ],
   "source": [
    "df['FT%'].sort_values(ascending=True).head()"
   ]
  },
  {
   "cell_type": "code",
   "execution_count": 29,
   "metadata": {},
   "outputs": [
    {
     "data": {
      "text/plain": [
       "(1317, 20)"
      ]
     },
     "execution_count": 29,
     "metadata": {},
     "output_type": "execute_result"
    }
   ],
   "source": [
    "df = df[df['FT%'] >=20.0 ]\n",
    "df.shape"
   ]
  },
  {
   "cell_type": "code",
   "execution_count": 30,
   "metadata": {},
   "outputs": [
    {
     "data": {
      "text/plain": [
       "<matplotlib.axes._subplots.AxesSubplot at 0x1c93e713688>"
      ]
     },
     "execution_count": 30,
     "metadata": {},
     "output_type": "execute_result"
    },
    {
     "data": {
      "image/png": "[encoded data removed]",
      "text/plain": [
       "<Figure size 432x288 with 1 Axes>"
      ]
     },
     "metadata": {
      "needs_background": "light"
     },
     "output_type": "display_data"
    }
   ],
   "source": [
    "sns.boxplot(df['OREB'])"
   ]
  },
  {
   "cell_type": "code",
   "execution_count": 31,
   "metadata": {},
   "outputs": [
    {
     "data": {
      "text/plain": [
       "538     5.3\n",
       "442     4.3\n",
       "1055    4.3\n",
       "443     4.2\n",
       "491     4.2\n",
       "Name: OREB, dtype: float64"
      ]
     },
     "execution_count": 31,
     "metadata": {},
     "output_type": "execute_result"
    }
   ],
   "source": [
    "df['OREB'].sort_values(ascending=False).head()"
   ]
  },
  {
   "cell_type": "code",
   "execution_count": 32,
   "metadata": {},
   "outputs": [
    {
     "data": {
      "text/plain": [
       "(1316, 20)"
      ]
     },
     "execution_count": 32,
     "metadata": {},
     "output_type": "execute_result"
    }
   ],
   "source": [
    "df = df[df['OREB'] <=5.0 ]\n",
    "df.shape"
   ]
  },
  {
   "cell_type": "code",
   "execution_count": 33,
   "metadata": {},
   "outputs": [
    {
     "data": {
      "text/plain": [
       "<matplotlib.axes._subplots.AxesSubplot at 0x1c93f5294c8>"
      ]
     },
     "execution_count": 33,
     "metadata": {},
     "output_type": "execute_result"
    },
    {
     "data": {
      "image/png": "[encoded data removed]",
      "text/plain": [
       "<Figure size 432x288 with 1 Axes>"
      ]
     },
     "metadata": {
      "needs_background": "light"
     },
     "output_type": "display_data"
    }
   ],
   "source": [
    "sns.boxplot(df['REB'])"
   ]
  },
  {
   "cell_type": "code",
   "execution_count": 34,
   "metadata": {},
   "outputs": [
    {
     "data": {
      "text/plain": [
       "1308    13.9\n",
       "491     12.3\n",
       "666     12.1\n",
       "400     11.1\n",
       "18      11.0\n",
       "19      11.0\n",
       "889     10.9\n",
       "442     10.6\n",
       "443     10.6\n",
       "719     10.5\n",
       "1093    10.3\n",
       "65      10.3\n",
       "1312    10.3\n",
       "1055    10.0\n",
       "891     10.0\n",
       "1311     9.6\n",
       "536      9.3\n",
       "497      9.3\n",
       "748      9.1\n",
       "1270     9.1\n",
       "Name: REB, dtype: float64"
      ]
     },
     "execution_count": 34,
     "metadata": {},
     "output_type": "execute_result"
    }
   ],
   "source": [
    "df['REB'].sort_values(ascending=False).head(20)"
   ]
  },
  {
   "cell_type": "code",
   "execution_count": 35,
   "metadata": {},
   "outputs": [
    {
     "data": {
      "text/plain": [
       "(1315, 20)"
      ]
     },
     "execution_count": 35,
     "metadata": {},
     "output_type": "execute_result"
    }
   ],
   "source": [
    "df = df[df['REB'] <=13.0 ]\n",
    "df.shape"
   ]
  },
  {
   "cell_type": "code",
   "execution_count": 36,
   "metadata": {},
   "outputs": [
    {
     "data": {
      "text/plain": [
       "<matplotlib.axes._subplots.AxesSubplot at 0x1c93f369e88>"
      ]
     },
     "execution_count": 36,
     "metadata": {},
     "output_type": "execute_result"
    },
    {
     "data": {
      "image/png": "[encoded data removed]",
      "text/plain": [
       "<Figure size 432x288 with 1 Axes>"
      ]
     },
     "metadata": {
      "needs_background": "light"
     },
     "output_type": "display_data"
    }
   ],
   "source": [
    "sns.boxplot(df['AST'])"
   ]
  },
  {
   "cell_type": "code",
   "execution_count": 37,
   "metadata": {},
   "outputs": [
    {
     "data": {
      "text/plain": [
       "236     10.6\n",
       "1190     9.3\n",
       "121      8.7\n",
       "120      8.7\n",
       "667      8.3\n",
       "Name: AST, dtype: float64"
      ]
     },
     "execution_count": 37,
     "metadata": {},
     "output_type": "execute_result"
    }
   ],
   "source": [
    "df['AST'].sort_values(ascending=False).head()"
   ]
  },
  {
   "cell_type": "code",
   "execution_count": 38,
   "metadata": {},
   "outputs": [
    {
     "data": {
      "text/plain": [
       "(1314, 20)"
      ]
     },
     "execution_count": 38,
     "metadata": {},
     "output_type": "execute_result"
    }
   ],
   "source": [
    "df = df[df['AST'] <=10.0 ]\n",
    "df.shape"
   ]
  },
  {
   "cell_type": "code",
   "execution_count": 39,
   "metadata": {},
   "outputs": [
    {
     "data": {
      "text/plain": [
       "<matplotlib.axes._subplots.AxesSubplot at 0x1c93efdad08>"
      ]
     },
     "execution_count": 39,
     "metadata": {},
     "output_type": "execute_result"
    },
    {
     "data": {
      "image/png": "[encoded data removed]",
      "text/plain": [
       "<Figure size 432x288 with 1 Axes>"
      ]
     },
     "metadata": {
      "needs_background": "light"
     },
     "output_type": "display_data"
    }
   ],
   "source": [
    "sns.boxplot(df['BLK'])"
   ]
  },
  {
   "cell_type": "code",
   "execution_count": 40,
   "metadata": {},
   "outputs": [
    {
     "data": {
      "text/plain": [
       "1312    3.5\n",
       "458     3.4\n",
       "354     2.7\n",
       "318     2.6\n",
       "400     2.4\n",
       "496     2.2\n",
       "1270    2.2\n",
       "314     2.1\n",
       "274     2.1\n",
       "1163    2.1\n",
       "Name: BLK, dtype: float64"
      ]
     },
     "execution_count": 40,
     "metadata": {},
     "output_type": "execute_result"
    }
   ],
   "source": [
    "df['BLK'].sort_values(ascending=False).head(10)"
   ]
  },
  {
   "cell_type": "code",
   "execution_count": 41,
   "metadata": {},
   "outputs": [
    {
     "data": {
      "text/plain": [
       "(1312, 20)"
      ]
     },
     "execution_count": 41,
     "metadata": {},
     "output_type": "execute_result"
    }
   ],
   "source": [
    "df = df[df['BLK'] <=3.0 ]\n",
    "df.shape"
   ]
  },
  {
   "cell_type": "code",
   "execution_count": null,
   "metadata": {},
   "outputs": [],
   "source": []
  },
  {
   "cell_type": "code",
   "execution_count": null,
   "metadata": {},
   "outputs": [],
   "source": []
  },
  {
   "cell_type": "markdown",
   "metadata": {},
   "source": [
    "# Feature Selection"
   ]
  },
  {
   "cell_type": "code",
   "execution_count": null,
   "metadata": {},
   "outputs": [],
   "source": []
  },
  {
   "cell_type": "code",
   "execution_count": 42,
   "metadata": {},
   "outputs": [],
   "source": [
    "X = df.drop('TARGET_5Yrs', axis=1)\n",
    "y = df['TARGET_5Yrs']"
   ]
  },
  {
   "cell_type": "code",
   "execution_count": 43,
   "metadata": {},
   "outputs": [],
   "source": [
    "X_vars = df.drop('TARGET_5Yrs', axis=1)\n",
    "X_vars = sm.add_constant(X_vars)\n",
    "X_vars_train, X_vars_test, y_train, y_test = train_test_split(X_vars, y, test_size=0.25)"
   ]
  },
  {
   "cell_type": "code",
   "execution_count": 44,
   "metadata": {},
   "outputs": [
    {
     "name": "stdout",
     "output_type": "stream",
     "text": [
      "                            OLS Regression Results                            \n",
      "==============================================================================\n",
      "Dep. Variable:            TARGET_5Yrs   R-squared:                       0.205\n",
      "Model:                            OLS   Adj. R-squared:                  0.194\n",
      "Method:                 Least Squares   F-statistic:                     17.57\n",
      "Date:                Tue, 17 Nov 2020   Prob (F-statistic):           3.45e-52\n",
      "Time:                        01:18:30   Log-Likelihood:                -764.29\n",
      "No. Observations:                1312   AIC:                             1569.\n",
      "Df Residuals:                    1292   BIC:                             1672.\n",
      "Df Model:                          19                                         \n",
      "Covariance Type:            nonrobust                                         \n",
      "==============================================================================\n",
      "                 coef    std err          t      P>|t|      [0.025      0.975]\n",
      "------------------------------------------------------------------------------\n",
      "const         -0.6273      0.228     -2.757      0.006      -1.074      -0.181\n",
      "GP             0.0079      0.001      8.722      0.000       0.006       0.010\n",
      "MIN           -0.0069      0.006     -1.181      0.238      -0.018       0.005\n",
      "PTS           -0.0676      0.168     -0.402      0.688      -0.398       0.262\n",
      "FGM           -0.0109      0.331     -0.033      0.974      -0.660       0.638\n",
      "FGA            0.0782      0.039      1.985      0.047       0.001       0.155\n",
      "FG%            0.0104      0.004      2.593      0.010       0.003       0.018\n",
      "3P Made        0.6749      0.243      2.780      0.006       0.199       1.151\n",
      "3PA           -0.2285      0.074     -3.095      0.002      -0.373      -0.084\n",
      "3P%            0.0007      0.001      0.666      0.506      -0.001       0.003\n",
      "FTM            0.0953      0.187      0.509      0.611      -0.272       0.462\n",
      "FTA            0.0022      0.080      0.027      0.979      -0.155       0.159\n",
      "FT%            0.0029      0.002      1.549      0.122      -0.001       0.007\n",
      "OREB           0.0904      0.244      0.370      0.711      -0.389       0.570\n",
      "DREB          -0.0644      0.243     -0.265      0.791      -0.541       0.413\n",
      "REB            0.0400      0.242      0.165      0.869      -0.435       0.515\n",
      "AST            0.0456      0.019      2.432      0.015       0.009       0.082\n",
      "STL           -0.0073      0.056     -0.130      0.896      -0.117       0.103\n",
      "BLK            0.0876      0.045      1.933      0.054      -0.001       0.176\n",
      "TOV           -0.0489      0.047     -1.033      0.302      -0.142       0.044\n",
      "==============================================================================\n",
      "Omnibus:                      414.729   Durbin-Watson:                   2.075\n",
      "Prob(Omnibus):                  0.000   Jarque-Bera (JB):               83.190\n",
      "Skew:                          -0.316   Prob(JB):                     8.62e-19\n",
      "Kurtosis:                       1.940   Cond. No.                     3.88e+03\n",
      "==============================================================================\n",
      "\n",
      "Warnings:\n",
      "[1] Standard Errors assume that the covariance matrix of the errors is correctly specified.\n",
      "[2] The condition number is large, 3.88e+03. This might indicate that there are\n",
      "strong multicollinearity or other numerical problems.\n"
     ]
    }
   ],
   "source": [
    "mod = sm.OLS(y, X_vars)\n",
    "res = mod.fit()\n",
    "print(res.summary())"
   ]
  },
  {
   "cell_type": "markdown",
   "metadata": {},
   "source": [
    "### Features we got from OLS Regression"
   ]
  },
  {
   "cell_type": "markdown",
   "metadata": {},
   "source": [
    "| Feature | p-value |\n",
    "| --- | --- |\n",
    "| GP | 0.000 |\n",
    "| FGA | 0.047 |\n",
    "| FG% | 0.010 |\n",
    "| 3P Made | 0.006 |\n",
    "| 3PA | 0.002 |\n",
    "| AST | 0.015 |\n",
    "| BLK | (Barely qulaifies)0.054 |\n",
    "| constant | 0.006 |"
   ]
  },
  {
   "cell_type": "markdown",
   "metadata": {},
   "source": [
    "# Notes - \n",
    "##### 1. R-squared close to 1 and R-squared close to Adjusted R-square indicates that the features are relevant to target.\n",
    "##### 2. Intercept only model: constant column with no other column\n",
    "##### 3. Specified model: All the features i.e., all the columns other than constant column.\n",
    "##### 4. Null-Hypothesis:(In case of F-Statistic): These 2 models are equal.\n",
    "##### 5. Alternate Hypothesis: Intercept only model is worse than specified model(our model).\n",
    "\n",
    "### F-statistic:\n",
    "##### 1. If p-value is close to 0 and f-statistic value is really large then we can reject null hypothesis.\n",
    "##### 2. In our case p-value is close to 0 and f-statistic value is large but not that large. We can reject null hypothesis i.e., the specified model(our model) fits the data better than the intercept only model(model with no columns/features except for constants). \n",
    "\n",
    "##### 3. f-statistic >1, p-value close to 0 and p- value < 0.05 indicates that the features are closely related to the target variable.\n",
    "\n",
    "### T-statistic:\n",
    "##### 1. Null-Hypothesis: the corresponding features coefficient value is going to be equal to 0.\n",
    "##### 2. Alternate-Hypothesis: the corresponding features coefficient value will not be equal to 0.\n",
    "##### 3. Here P>|t| means p-value of t-test\n",
    "##### 4. Here t means t-value\n",
    "##### 5. The higher the t-value the greater the chances that you reject the null hypothesis & you accept the alternate hypothesis.\n",
    "##### 6. If p-value is lower (i.e., p<0.05) then we reject the null hypothesis.\n",
    "##### 7. Rejecting null hypothesis means the coefficient value is non-zero.\n",
    "##### 8. Accepting null hypothesis means the coefficient value of a feature will be 0 i.e., feature will be irrelevant.\n"
   ]
  },
  {
   "cell_type": "code",
   "execution_count": null,
   "metadata": {},
   "outputs": [],
   "source": []
  },
  {
   "cell_type": "code",
   "execution_count": null,
   "metadata": {},
   "outputs": [],
   "source": []
  },
  {
   "cell_type": "code",
   "execution_count": 45,
   "metadata": {},
   "outputs": [
    {
     "name": "stdout",
     "output_type": "stream",
     "text": [
      "Optimization terminated successfully.\n",
      "         Current function value: 0.551663\n",
      "         Iterations 6\n",
      "                           Logit Regression Results                           \n",
      "==============================================================================\n",
      "Dep. Variable:            TARGET_5Yrs   No. Observations:                 1312\n",
      "Model:                          Logit   Df Residuals:                     1292\n",
      "Method:                           MLE   Df Model:                           19\n",
      "Date:                Tue, 17 Nov 2020   Pseudo R-squ.:                  0.1708\n",
      "Time:                        01:18:30   Log-Likelihood:                -723.78\n",
      "converged:                       True   LL-Null:                       -872.92\n",
      "Covariance Type:            nonrobust   LLR p-value:                 4.526e-52\n",
      "==============================================================================\n",
      "                 coef    std err          z      P>|z|      [0.025      0.975]\n",
      "------------------------------------------------------------------------------\n",
      "const         -4.5880      1.263     -3.634      0.000      -7.063      -2.113\n",
      "GP             0.0372      0.005      7.758      0.000       0.028       0.047\n",
      "MIN           -0.0546      0.033     -1.630      0.103      -0.120       0.011\n",
      "PTS           -0.1372      0.891     -0.154      0.878      -1.883       1.609\n",
      "FGM           -0.1775      1.757     -0.101      0.920      -3.622       3.267\n",
      "FGA            0.2887      0.238      1.216      0.224      -0.177       0.754\n",
      "FG%            0.0331      0.022      1.484      0.138      -0.011       0.077\n",
      "3P Made        3.5563      1.343      2.648      0.008       0.924       6.189\n",
      "3PA           -1.2618      0.416     -3.030      0.002      -2.078      -0.446\n",
      "3P%            0.0047      0.006      0.810      0.418      -0.007       0.016\n",
      "FTM            0.6117      1.027      0.596      0.551      -1.402       2.625\n",
      "FTA           -0.1960      0.477     -0.411      0.681      -1.132       0.740\n",
      "FT%            0.0118      0.010      1.171      0.242      -0.008       0.032\n",
      "OREB           0.4330      1.290      0.336      0.737      -2.096       2.962\n",
      "DREB          -0.5590      1.286     -0.435      0.664      -3.079       1.961\n",
      "REB            0.4441      1.280      0.347      0.729      -2.064       2.952\n",
      "AST            0.3149      0.113      2.789      0.005       0.094       0.536\n",
      "STL           -0.1000      0.320     -0.313      0.754      -0.726       0.526\n",
      "BLK            0.5356      0.277      1.933      0.053      -0.008       1.079\n",
      "TOV           -0.3009      0.274     -1.099      0.272      -0.837       0.236\n",
      "==============================================================================\n"
     ]
    }
   ],
   "source": [
    "mod = sm.Logit(y, X_vars)\n",
    "res = mod.fit()\n",
    "print(res.summary())"
   ]
  },
  {
   "cell_type": "markdown",
   "metadata": {},
   "source": [
    "### Features we got from Logistic Regression (i.e., p < 0.05)"
   ]
  },
  {
   "cell_type": "markdown",
   "metadata": {},
   "source": [
    "| Feature | p-value |\n",
    "| --- | --- |\n",
    "| GP | 0.000 |\n",
    "| 3P Made | 0.008 |\n",
    "| 3PA | 0.002 |\n",
    "| AST | 0.005 |\n",
    "| BLK | (Barely qualifies)0.053 |\n",
    "| constant | 0.000 |"
   ]
  },
  {
   "cell_type": "markdown",
   "metadata": {},
   "source": [
    "# Notes-\n",
    "\n",
    "#### The same rules from OLS Regression applies for Logistic Regression with a slight change where the t-value is replaced with z-value."
   ]
  },
  {
   "cell_type": "code",
   "execution_count": null,
   "metadata": {},
   "outputs": [],
   "source": []
  },
  {
   "cell_type": "code",
   "execution_count": 46,
   "metadata": {},
   "outputs": [
    {
     "name": "stdout",
     "output_type": "stream",
     "text": [
      "Optimization terminated successfully.\n",
      "         Current function value: 0.551663\n",
      "         Iterations 6\n",
      "                           Logit Regression Results                           \n",
      "==============================================================================\n",
      "Dep. Variable:            TARGET_5Yrs   No. Observations:                 1312\n",
      "Model:                          Logit   Df Residuals:                     1292\n",
      "Method:                           MLE   Df Model:                           19\n",
      "Date:                Tue, 17 Nov 2020   Pseudo R-squ.:                  0.1708\n",
      "Time:                        01:18:30   Log-Likelihood:                -723.78\n",
      "converged:                       True   LL-Null:                       -872.92\n",
      "Covariance Type:            nonrobust   LLR p-value:                 4.526e-52\n",
      "==============================================================================\n",
      "                 coef    std err          z      P>|z|      [0.025      0.975]\n",
      "------------------------------------------------------------------------------\n",
      "const         -4.5880      1.263     -3.634      0.000      -7.063      -2.113\n",
      "GP             0.0372      0.005      7.758      0.000       0.028       0.047\n",
      "MIN           -0.0546      0.033     -1.630      0.103      -0.120       0.011\n",
      "PTS           -0.1372      0.891     -0.154      0.878      -1.883       1.609\n",
      "FGM           -0.1775      1.757     -0.101      0.920      -3.622       3.267\n",
      "FGA            0.2887      0.238      1.216      0.224      -0.177       0.754\n",
      "FG%            0.0331      0.022      1.484      0.138      -0.011       0.077\n",
      "3P Made        3.5563      1.343      2.648      0.008       0.924       6.189\n",
      "3PA           -1.2618      0.416     -3.030      0.002      -2.078      -0.446\n",
      "3P%            0.0047      0.006      0.810      0.418      -0.007       0.016\n",
      "FTM            0.6117      1.027      0.596      0.551      -1.402       2.625\n",
      "FTA           -0.1960      0.477     -0.411      0.681      -1.132       0.740\n",
      "FT%            0.0118      0.010      1.171      0.242      -0.008       0.032\n",
      "OREB           0.4330      1.290      0.336      0.737      -2.096       2.962\n",
      "DREB          -0.5590      1.286     -0.435      0.664      -3.079       1.961\n",
      "REB            0.4441      1.280      0.347      0.729      -2.064       2.952\n",
      "AST            0.3149      0.113      2.789      0.005       0.094       0.536\n",
      "STL           -0.1000      0.320     -0.313      0.754      -0.726       0.526\n",
      "BLK            0.5356      0.277      1.933      0.053      -0.008       1.079\n",
      "TOV           -0.3009      0.274     -1.099      0.272      -0.837       0.236\n",
      "==============================================================================\n"
     ]
    }
   ],
   "source": [
    "mod = sm.Logit(y, X_vars)\n",
    "res = mod.fit(method = 'newton')\n",
    "print(res.summary())"
   ]
  },
  {
   "cell_type": "markdown",
   "metadata": {},
   "source": [
    "##### Logit Newton "
   ]
  },
  {
   "cell_type": "markdown",
   "metadata": {},
   "source": [
    "| Feature | p-value |\n",
    "| --- | --- |\n",
    "| GP | 0.000 |\n",
    "| 3P Made | 0.008 |\n",
    "| 3PA | 0.002 |\n",
    "| AST | 0.005 |\n",
    "| BLK | (Barely qualifies)0.053 |\n",
    "| constant | 0.000 |"
   ]
  },
  {
   "cell_type": "markdown",
   "metadata": {},
   "source": [
    "#### Methods for Logistic Regression \n",
    "##### methods = ['newton'(default), bfgs, lbfgs, powell, cg, ncg, basinhopping, minimize] "
   ]
  },
  {
   "cell_type": "code",
   "execution_count": null,
   "metadata": {},
   "outputs": [],
   "source": []
  },
  {
   "cell_type": "code",
   "execution_count": null,
   "metadata": {},
   "outputs": [],
   "source": []
  },
  {
   "cell_type": "code",
   "execution_count": 47,
   "metadata": {},
   "outputs": [
    {
     "name": "stdout",
     "output_type": "stream",
     "text": [
      "Warning: Maximum number of iterations has been exceeded.\n",
      "         Current function value: 0.557438\n",
      "         Iterations: 35\n",
      "         Function evaluations: 40\n",
      "         Gradient evaluations: 40\n",
      "                           Logit Regression Results                           \n",
      "==============================================================================\n",
      "Dep. Variable:            TARGET_5Yrs   No. Observations:                 1312\n",
      "Model:                          Logit   Df Residuals:                     1292\n",
      "Method:                           MLE   Df Model:                           19\n",
      "Date:                Tue, 17 Nov 2020   Pseudo R-squ.:                  0.1622\n",
      "Time:                        01:18:30   Log-Likelihood:                -731.36\n",
      "converged:                      False   LL-Null:                       -872.92\n",
      "Covariance Type:            nonrobust   LLR p-value:                 5.691e-49\n",
      "==============================================================================\n",
      "                 coef    std err          z      P>|z|      [0.025      0.975]\n",
      "------------------------------------------------------------------------------\n",
      "const         -1.0070      1.242     -0.811      0.418      -3.442       1.428\n",
      "GP             0.0366      0.005      7.673      0.000       0.027       0.046\n",
      "MIN           -0.0465      0.033     -1.388      0.165      -0.112       0.019\n",
      "PTS            0.6019      0.889      0.677      0.498      -1.141       2.345\n",
      "FGM           -0.1419      1.759     -0.081      0.936      -3.589       3.305\n",
      "FGA           -0.4038      0.242     -1.667      0.095      -0.878       0.071\n",
      "FG%           -0.0304      0.023     -1.346      0.178      -0.075       0.014\n",
      "3P Made        0.6576      1.308      0.503      0.615      -1.905       3.220\n",
      "3PA           -0.3961      0.402     -0.984      0.325      -1.185       0.393\n",
      "3P%            0.0053      0.006      0.916      0.360      -0.006       0.017\n",
      "FTM            0.3654      1.029      0.355      0.723      -1.652       2.382\n",
      "FTA           -0.5827      0.484     -1.204      0.229      -1.531       0.366\n",
      "FT%           -0.0003      0.010     -0.027      0.978      -0.020       0.019\n",
      "OREB           0.7387      1.292      0.572      0.567      -1.793       3.270\n",
      "DREB          -0.4872      1.286     -0.379      0.705      -3.008       2.033\n",
      "REB            0.2939      1.281      0.230      0.818      -2.216       2.804\n",
      "AST            0.3728      0.114      3.269      0.001       0.149       0.596\n",
      "STL           -0.2391      0.322     -0.743      0.457      -0.869       0.391\n",
      "BLK            0.7280      0.287      2.537      0.011       0.166       1.290\n",
      "TOV           -0.3306      0.277     -1.192      0.233      -0.874       0.213\n",
      "==============================================================================\n"
     ]
    },
    {
     "name": "stderr",
     "output_type": "stream",
     "text": [
      "C:\\Users\\rahul\\anaconda3\\lib\\site-packages\\statsmodels\\base\\model.py:568: ConvergenceWarning: Maximum Likelihood optimization failed to converge. Check mle_retvals\n",
      "  \"Check mle_retvals\", ConvergenceWarning)\n"
     ]
    }
   ],
   "source": [
    "mod = sm.Logit(y, X_vars)\n",
    "res = mod.fit(method = 'bfgs')\n",
    "print(res.summary())"
   ]
  },
  {
   "cell_type": "markdown",
   "metadata": {},
   "source": [
    "##### Logit Bfgs "
   ]
  },
  {
   "cell_type": "markdown",
   "metadata": {},
   "source": [
    "| Feature | p-value |\n",
    "| --- | --- |\n",
    "| GP | 0.000 |\n",
    "| AST | 0.001 |\n",
    "| BLK | 0.011 |"
   ]
  },
  {
   "cell_type": "code",
   "execution_count": null,
   "metadata": {},
   "outputs": [],
   "source": []
  },
  {
   "cell_type": "code",
   "execution_count": null,
   "metadata": {},
   "outputs": [],
   "source": []
  },
  {
   "cell_type": "code",
   "execution_count": 48,
   "metadata": {},
   "outputs": [
    {
     "name": "stdout",
     "output_type": "stream",
     "text": [
      "                           Logit Regression Results                           \n",
      "==============================================================================\n",
      "Dep. Variable:            TARGET_5Yrs   No. Observations:                 1312\n",
      "Model:                          Logit   Df Residuals:                     1292\n",
      "Method:                           MLE   Df Model:                           19\n",
      "Date:                Tue, 17 Nov 2020   Pseudo R-squ.:                  0.1323\n",
      "Time:                        01:18:30   Log-Likelihood:                -757.41\n",
      "converged:                      False   LL-Null:                       -872.92\n",
      "Covariance Type:            nonrobust   LLR p-value:                 2.119e-38\n",
      "==============================================================================\n",
      "                 coef    std err          z      P>|z|      [0.025      0.975]\n",
      "------------------------------------------------------------------------------\n",
      "const         -0.0241      1.206     -0.020      0.984      -2.389       2.341\n",
      "GP             0.0351      0.005      7.554      0.000       0.026       0.044\n",
      "MIN           -0.0582      0.033     -1.779      0.075      -0.122       0.006\n",
      "PTS            0.1486      0.868      0.171      0.864      -1.552       1.849\n",
      "FGM            0.0536      1.711      0.031      0.975      -3.301       3.408\n",
      "FGA            0.0157      0.237      0.066      0.947      -0.448       0.480\n",
      "FG%           -0.0230      0.022     -1.044      0.296      -0.066       0.020\n",
      "3P Made       -0.0123      1.258     -0.010      0.992      -2.477       2.452\n",
      "3PA           -0.0678      0.390     -0.174      0.862      -0.832       0.696\n",
      "3P%           -0.0006      0.006     -0.115      0.909      -0.012       0.010\n",
      "FTM            0.0544      1.029      0.053      0.958      -1.962       2.071\n",
      "FTA            0.0494      0.494      0.100      0.920      -0.918       1.017\n",
      "FT%           -0.0162      0.010     -1.634      0.102      -0.036       0.003\n",
      "OREB           0.0628      1.261      0.050      0.960      -2.409       2.534\n",
      "DREB           0.0324      1.256      0.026      0.979      -2.430       2.495\n",
      "REB            0.0956      1.250      0.077      0.939      -2.355       2.546\n",
      "AST           -0.0088      0.106     -0.083      0.934      -0.216       0.199\n",
      "STL           -0.0069      0.306     -0.022      0.982      -0.607       0.594\n",
      "BLK            0.0233      0.264      0.088      0.930      -0.494       0.540\n",
      "TOV           -0.0072      0.269     -0.027      0.979      -0.534       0.519\n",
      "==============================================================================\n"
     ]
    },
    {
     "name": "stderr",
     "output_type": "stream",
     "text": [
      "C:\\Users\\rahul\\anaconda3\\lib\\site-packages\\statsmodels\\base\\model.py:568: ConvergenceWarning: Maximum Likelihood optimization failed to converge. Check mle_retvals\n",
      "  \"Check mle_retvals\", ConvergenceWarning)\n"
     ]
    }
   ],
   "source": [
    "mod = sm.Logit(y, X_vars)\n",
    "res = mod.fit(method = 'lbfgs')\n",
    "print(res.summary())"
   ]
  },
  {
   "cell_type": "markdown",
   "metadata": {},
   "source": [
    "##### Logit Lbfgs "
   ]
  },
  {
   "cell_type": "markdown",
   "metadata": {},
   "source": [
    "| Feature | p-value |\n",
    "| --- | --- |\n",
    "| GP | 0.000 |"
   ]
  },
  {
   "cell_type": "code",
   "execution_count": null,
   "metadata": {},
   "outputs": [],
   "source": []
  },
  {
   "cell_type": "code",
   "execution_count": null,
   "metadata": {},
   "outputs": [],
   "source": []
  },
  {
   "cell_type": "code",
   "execution_count": 49,
   "metadata": {},
   "outputs": [
    {
     "name": "stdout",
     "output_type": "stream",
     "text": [
      "Optimization terminated successfully.\n",
      "         Current function value: 0.555939\n",
      "         Iterations: 14\n",
      "         Function evaluations: 3265\n",
      "                           Logit Regression Results                           \n",
      "==============================================================================\n",
      "Dep. Variable:            TARGET_5Yrs   No. Observations:                 1312\n",
      "Model:                          Logit   Df Residuals:                     1292\n",
      "Method:                           MLE   Df Model:                           19\n",
      "Date:                Tue, 17 Nov 2020   Pseudo R-squ.:                  0.1644\n",
      "Time:                        01:18:31   Log-Likelihood:                -729.39\n",
      "converged:                       True   LL-Null:                       -872.92\n",
      "Covariance Type:            nonrobust   LLR p-value:                 8.946e-50\n",
      "==============================================================================\n",
      "                 coef    std err          z      P>|z|      [0.025      0.975]\n",
      "------------------------------------------------------------------------------\n",
      "const         -1.1934      1.235     -0.967      0.334      -3.614       1.227\n",
      "GP             0.0404      0.005      8.410      0.000       0.031       0.050\n",
      "MIN           -0.0209      0.033     -0.627      0.531      -0.086       0.044\n",
      "PTS            0.1850      0.887      0.209      0.835      -1.553       1.923\n",
      "FGM            0.1445      1.750      0.083      0.934      -3.286       3.575\n",
      "FGA           -0.1412      0.238     -0.592      0.554      -0.609       0.326\n",
      "FG%           -0.0259      0.022     -1.161      0.246      -0.070       0.018\n",
      "3P Made        2.7374      1.322      2.071      0.038       0.147       5.328\n",
      "3PA           -1.1198      0.408     -2.742      0.006      -1.920      -0.319\n",
      "3P%            0.0008      0.006      0.147      0.883      -0.010       0.012\n",
      "FTM            0.6569      1.027      0.639      0.523      -1.356       2.670\n",
      "FTA           -0.4757      0.479     -0.994      0.320      -1.414       0.463\n",
      "FT%           -0.0020      0.010     -0.195      0.845      -0.022       0.018\n",
      "OREB           0.6488      1.287      0.504      0.614      -1.874       3.171\n",
      "DREB          -0.2357      1.281     -0.184      0.854      -2.747       2.276\n",
      "REB            0.0585      1.276      0.046      0.963      -2.442       2.559\n",
      "AST            0.2279      0.112      2.044      0.041       0.009       0.446\n",
      "STL           -0.1371      0.320     -0.429      0.668      -0.764       0.489\n",
      "BLK            0.5108      0.277      1.843      0.065      -0.032       1.054\n",
      "TOV           -0.3101      0.274     -1.130      0.258      -0.848       0.228\n",
      "==============================================================================\n"
     ]
    }
   ],
   "source": [
    "mod = sm.Logit(y, X_vars)\n",
    "res = mod.fit(method = 'powell')\n",
    "print(res.summary())"
   ]
  },
  {
   "cell_type": "markdown",
   "metadata": {},
   "source": [
    "##### Logit Powell "
   ]
  },
  {
   "cell_type": "markdown",
   "metadata": {},
   "source": [
    "| Feature | p-value |\n",
    "| --- | --- |\n",
    "| GP | 0.000 |\n",
    "| 3P Made | 0.038 |\n",
    "| 3PA | 0.006 |\n",
    "| AST | 0.041 |"
   ]
  },
  {
   "cell_type": "code",
   "execution_count": null,
   "metadata": {},
   "outputs": [],
   "source": []
  },
  {
   "cell_type": "code",
   "execution_count": null,
   "metadata": {},
   "outputs": [],
   "source": []
  },
  {
   "cell_type": "code",
   "execution_count": 50,
   "metadata": {
    "scrolled": false
   },
   "outputs": [
    {
     "name": "stdout",
     "output_type": "stream",
     "text": [
      "Warning: Maximum number of iterations has been exceeded.\n",
      "         Current function value: 0.576157\n",
      "         Iterations: 35\n",
      "         Function evaluations: 81\n",
      "         Gradient evaluations: 81\n",
      "                           Logit Regression Results                           \n",
      "==============================================================================\n",
      "Dep. Variable:            TARGET_5Yrs   No. Observations:                 1312\n",
      "Model:                          Logit   Df Residuals:                     1292\n",
      "Method:                           MLE   Df Model:                           19\n",
      "Date:                Tue, 17 Nov 2020   Pseudo R-squ.:                  0.1340\n",
      "Time:                        01:18:31   Log-Likelihood:                -755.92\n",
      "converged:                      False   LL-Null:                       -872.92\n",
      "Covariance Type:            nonrobust   LLR p-value:                 5.291e-39\n",
      "==============================================================================\n",
      "                 coef    std err          z      P>|z|      [0.025      0.975]\n",
      "------------------------------------------------------------------------------\n",
      "const         -0.0341      1.213     -0.028      0.978      -2.412       2.344\n",
      "GP             0.0369      0.005      7.884      0.000       0.028       0.046\n",
      "MIN           -0.0693      0.033     -2.105      0.035      -0.134      -0.005\n",
      "PTS            0.1715      0.870      0.197      0.844      -1.535       1.878\n",
      "FGM            0.0606      1.717      0.035      0.972      -3.305       3.427\n",
      "FGA           -0.0075      0.238     -0.032      0.975      -0.474       0.459\n",
      "FG%           -0.0300      0.022     -1.357      0.175      -0.073       0.013\n",
      "3P Made       -0.0147      1.261     -0.012      0.991      -2.487       2.457\n",
      "3PA           -0.0897      0.391     -0.229      0.819      -0.856       0.677\n",
      "3P%            0.0009      0.006      0.165      0.869      -0.010       0.012\n",
      "FTM            0.0662      1.034      0.064      0.949      -1.960       2.093\n",
      "FTA            0.0546      0.498      0.110      0.913      -0.921       1.030\n",
      "FT%           -0.0130      0.010     -1.302      0.193      -0.033       0.007\n",
      "OREB           0.0821      1.265      0.065      0.948      -2.397       2.561\n",
      "DREB           0.0374      1.261      0.030      0.976      -2.433       2.508\n",
      "REB            0.1202      1.254      0.096      0.924      -2.338       2.579\n",
      "AST            0.0006      0.106      0.006      0.995      -0.207       0.209\n",
      "STL           -0.0079      0.307     -0.026      0.979      -0.610       0.594\n",
      "BLK            0.0315      0.266      0.119      0.906      -0.490       0.553\n",
      "TOV           -0.0132      0.270     -0.049      0.961      -0.542       0.516\n",
      "==============================================================================\n"
     ]
    },
    {
     "name": "stderr",
     "output_type": "stream",
     "text": [
      "C:\\Users\\rahul\\anaconda3\\lib\\site-packages\\statsmodels\\base\\model.py:568: ConvergenceWarning: Maximum Likelihood optimization failed to converge. Check mle_retvals\n",
      "  \"Check mle_retvals\", ConvergenceWarning)\n"
     ]
    }
   ],
   "source": [
    "mod = sm.Logit(y, X_vars)\n",
    "res = mod.fit(method = 'cg')\n",
    "print(res.summary())"
   ]
  },
  {
   "cell_type": "markdown",
   "metadata": {},
   "source": [
    "##### Logit Cg "
   ]
  },
  {
   "cell_type": "markdown",
   "metadata": {},
   "source": [
    "| Feature | p-value |\n",
    "| --- | --- |\n",
    "| GP | 0.000 |\n",
    "| MIN | 0.035 |"
   ]
  },
  {
   "cell_type": "code",
   "execution_count": null,
   "metadata": {},
   "outputs": [],
   "source": []
  },
  {
   "cell_type": "code",
   "execution_count": null,
   "metadata": {},
   "outputs": [],
   "source": []
  },
  {
   "cell_type": "code",
   "execution_count": null,
   "metadata": {},
   "outputs": [],
   "source": []
  },
  {
   "cell_type": "code",
   "execution_count": 51,
   "metadata": {},
   "outputs": [
    {
     "name": "stdout",
     "output_type": "stream",
     "text": [
      "Optimization terminated successfully.\n",
      "         Current function value: 0.558943\n",
      "         Iterations: 13\n",
      "         Function evaluations: 21\n",
      "         Gradient evaluations: 33\n",
      "         Hessian evaluations: 13\n",
      "                           Logit Regression Results                           \n",
      "==============================================================================\n",
      "Dep. Variable:            TARGET_5Yrs   No. Observations:                 1312\n",
      "Model:                          Logit   Df Residuals:                     1292\n",
      "Method:                           MLE   Df Model:                           19\n",
      "Date:                Tue, 17 Nov 2020   Pseudo R-squ.:                  0.1599\n",
      "Time:                        01:18:31   Log-Likelihood:                -733.33\n",
      "converged:                       True   LL-Null:                       -872.92\n",
      "Covariance Type:            nonrobust   LLR p-value:                 3.642e-48\n",
      "==============================================================================\n",
      "                 coef    std err          z      P>|z|      [0.025      0.975]\n",
      "------------------------------------------------------------------------------\n",
      "const         -0.5710      1.240     -0.460      0.645      -3.002       1.860\n",
      "GP             0.0368      0.005      7.737      0.000       0.027       0.046\n",
      "MIN           -0.0395      0.033     -1.191      0.234      -0.105       0.026\n",
      "PTS            0.6787      0.885      0.767      0.443      -1.056       2.413\n",
      "FGM            0.1477      1.748      0.084      0.933      -3.279       3.575\n",
      "FGA           -0.5929      0.242     -2.446      0.014      -1.068      -0.118\n",
      "FG%           -0.0387      0.023     -1.715      0.086      -0.083       0.006\n",
      "3P Made        0.3026      1.301      0.233      0.816      -2.247       2.852\n",
      "3PA           -0.2592      0.399     -0.649      0.516      -1.042       0.523\n",
      "3P%            0.0024      0.006      0.424      0.672      -0.009       0.014\n",
      "FTM            0.1361      1.025      0.133      0.894      -1.874       2.146\n",
      "FTA           -0.4652      0.483     -0.964      0.335      -1.411       0.480\n",
      "FT%         7.238e-05      0.010      0.007      0.994      -0.019       0.020\n",
      "OREB           0.5848      1.285      0.455      0.649      -1.933       3.103\n",
      "DREB          -0.3694      1.278     -0.289      0.773      -2.875       2.136\n",
      "REB            0.2321      1.273      0.182      0.855      -2.263       2.727\n",
      "AST            0.3206      0.113      2.847      0.004       0.100       0.541\n",
      "STL           -0.1296      0.320     -0.405      0.686      -0.757       0.498\n",
      "BLK            0.4294      0.275      1.559      0.119      -0.110       0.969\n",
      "TOV           -0.3898      0.276     -1.414      0.157      -0.930       0.151\n",
      "==============================================================================\n"
     ]
    }
   ],
   "source": [
    "mod = sm.Logit(y, X_vars)\n",
    "res = mod.fit(method = 'ncg')\n",
    "print(res.summary())"
   ]
  },
  {
   "cell_type": "markdown",
   "metadata": {},
   "source": [
    "##### Logit Ncg "
   ]
  },
  {
   "cell_type": "markdown",
   "metadata": {},
   "source": [
    "| Feature | p-value |\n",
    "| --- | --- |\n",
    "| GP | 0.000 |\n",
    "| FGA | 0.014 |\n",
    "| AST | 0.004 |"
   ]
  },
  {
   "cell_type": "code",
   "execution_count": null,
   "metadata": {},
   "outputs": [],
   "source": []
  },
  {
   "cell_type": "code",
   "execution_count": null,
   "metadata": {},
   "outputs": [],
   "source": []
  },
  {
   "cell_type": "code",
   "execution_count": 52,
   "metadata": {},
   "outputs": [
    {
     "name": "stdout",
     "output_type": "stream",
     "text": [
      "basinhopping step 0: f 0.551663\n",
      "basinhopping step 1: f 0.551663 trial_f 0.551663 accepted 1  lowest_f 0.551663\n",
      "found new global minimum on step 1 with function value 0.551663\n",
      "basinhopping step 2: f 0.551663 trial_f 0.551663 accepted 1  lowest_f 0.551663\n",
      "basinhopping step 3: f 0.551663 trial_f 0.551663 accepted 1  lowest_f 0.551663\n",
      "found new global minimum on step 3 with function value 0.551663\n",
      "basinhopping step 4: f 0.551664 trial_f 0.551664 accepted 1  lowest_f 0.551663\n",
      "basinhopping step 5: f 0.551664 trial_f 0.551664 accepted 1  lowest_f 0.551663\n",
      "basinhopping step 6: f 0.551663 trial_f 0.551663 accepted 1  lowest_f 0.551663\n",
      "basinhopping step 7: f 0.551663 trial_f 0.551663 accepted 1  lowest_f 0.551663\n",
      "basinhopping step 8: f 0.551663 trial_f 0.551663 accepted 1  lowest_f 0.551663\n",
      "basinhopping step 9: f 0.551663 trial_f 0.551663 accepted 1  lowest_f 0.551663\n",
      "basinhopping step 10: f 0.551664 trial_f 0.551664 accepted 1  lowest_f 0.551663\n",
      "basinhopping step 11: f 0.551665 trial_f 0.551665 accepted 1  lowest_f 0.551663\n",
      "basinhopping step 12: f 0.551663 trial_f 0.551663 accepted 1  lowest_f 0.551663\n",
      "found new global minimum on step 12 with function value 0.551663\n",
      "basinhopping step 13: f 0.551663 trial_f 0.551663 accepted 1  lowest_f 0.551663\n",
      "basinhopping step 14: f 0.551663 trial_f 0.551663 accepted 1  lowest_f 0.551663\n",
      "basinhopping step 15: f 0.551664 trial_f 0.551664 accepted 1  lowest_f 0.551663\n",
      "basinhopping step 16: f 0.551664 trial_f 0.551664 accepted 1  lowest_f 0.551663\n",
      "basinhopping step 17: f 0.551664 trial_f 0.551664 accepted 1  lowest_f 0.551663\n",
      "basinhopping step 18: f 0.551664 trial_f 0.551664 accepted 1  lowest_f 0.551663\n",
      "basinhopping step 19: f 0.551663 trial_f 0.551663 accepted 1  lowest_f 0.551663\n",
      "basinhopping step 20: f 0.551663 trial_f 0.551663 accepted 1  lowest_f 0.551663\n",
      "basinhopping step 21: f 0.551663 trial_f 0.551663 accepted 1  lowest_f 0.551663\n",
      "basinhopping step 22: f 0.551664 trial_f 0.551664 accepted 1  lowest_f 0.551663\n",
      "basinhopping step 23: f 0.551663 trial_f 0.551663 accepted 1  lowest_f 0.551663\n",
      "basinhopping step 24: f 0.551664 trial_f 0.551664 accepted 1  lowest_f 0.551663\n",
      "basinhopping step 25: f 0.551663 trial_f 0.551663 accepted 1  lowest_f 0.551663\n",
      "basinhopping step 26: f 0.551663 trial_f 0.551663 accepted 1  lowest_f 0.551663\n",
      "basinhopping step 27: f 0.551664 trial_f 0.551664 accepted 1  lowest_f 0.551663\n",
      "basinhopping step 28: f 0.551664 trial_f 0.551664 accepted 1  lowest_f 0.551663\n",
      "basinhopping step 29: f 0.551663 trial_f 0.551663 accepted 1  lowest_f 0.551663\n",
      "basinhopping step 30: f 0.551663 trial_f 0.551663 accepted 1  lowest_f 0.551663\n",
      "basinhopping step 31: f 0.551663 trial_f 0.551663 accepted 1  lowest_f 0.551663\n",
      "basinhopping step 32: f 0.551663 trial_f 0.551663 accepted 1  lowest_f 0.551663\n",
      "basinhopping step 33: f 0.551663 trial_f 0.551663 accepted 1  lowest_f 0.551663\n",
      "basinhopping step 34: f 0.551664 trial_f 0.551664 accepted 1  lowest_f 0.551663\n",
      "basinhopping step 35: f 0.551663 trial_f 0.551663 accepted 1  lowest_f 0.551663\n",
      "basinhopping step 36: f 0.551663 trial_f 0.551663 accepted 1  lowest_f 0.551663\n",
      "basinhopping step 37: f 0.551664 trial_f 0.551664 accepted 1  lowest_f 0.551663\n",
      "basinhopping step 38: f 0.551663 trial_f 0.551663 accepted 1  lowest_f 0.551663\n",
      "basinhopping step 39: f 0.551663 trial_f 0.551663 accepted 1  lowest_f 0.551663\n",
      "basinhopping step 40: f 0.551664 trial_f 0.551664 accepted 1  lowest_f 0.551663\n",
      "basinhopping step 41: f 0.551664 trial_f 0.551664 accepted 1  lowest_f 0.551663\n",
      "basinhopping step 42: f 0.551664 trial_f 0.551664 accepted 1  lowest_f 0.551663\n",
      "basinhopping step 43: f 0.551663 trial_f 0.551663 accepted 1  lowest_f 0.551663\n",
      "basinhopping step 44: f 0.551664 trial_f 0.551664 accepted 1  lowest_f 0.551663\n",
      "basinhopping step 45: f 0.551663 trial_f 0.551663 accepted 1  lowest_f 0.551663\n",
      "basinhopping step 46: f 0.551663 trial_f 0.551663 accepted 1  lowest_f 0.551663\n",
      "basinhopping step 47: f 0.551663 trial_f 0.551663 accepted 1  lowest_f 0.551663\n",
      "basinhopping step 48: f 0.551663 trial_f 0.551663 accepted 1  lowest_f 0.551663\n",
      "basinhopping step 49: f 0.551664 trial_f 0.551664 accepted 1  lowest_f 0.551663\n",
      "adaptive stepsize: acceptance rate 0.980000 target 0.500000 new stepsize 0.555556 old stepsize 0.5\n",
      "basinhopping step 50: f 0.551664 trial_f 0.551664 accepted 1  lowest_f 0.551663\n",
      "basinhopping step 51: f 0.551664 trial_f 0.551664 accepted 1  lowest_f 0.551663\n",
      "basinhopping step 52: f 0.551664 trial_f 0.551664 accepted 1  lowest_f 0.551663\n",
      "basinhopping step 53: f 0.551663 trial_f 0.551663 accepted 1  lowest_f 0.551663\n",
      "basinhopping step 54: f 0.551663 trial_f 0.551663 accepted 1  lowest_f 0.551663\n",
      "basinhopping step 55: f 0.551663 trial_f 0.551663 accepted 1  lowest_f 0.551663\n",
      "basinhopping step 56: f 0.551663 trial_f 0.551663 accepted 1  lowest_f 0.551663\n",
      "basinhopping step 57: f 0.551663 trial_f 0.551663 accepted 1  lowest_f 0.551663\n",
      "found new global minimum on step 57 with function value 0.551663\n",
      "basinhopping step 58: f 0.551664 trial_f 0.551664 accepted 1  lowest_f 0.551663\n",
      "basinhopping step 59: f 0.551663 trial_f 0.551663 accepted 1  lowest_f 0.551663\n",
      "basinhopping step 60: f 0.551663 trial_f 0.551663 accepted 1  lowest_f 0.551663\n",
      "basinhopping step 61: f 0.551663 trial_f 0.551663 accepted 1  lowest_f 0.551663\n",
      "basinhopping step 62: f 0.551664 trial_f 0.551664 accepted 1  lowest_f 0.551663\n",
      "basinhopping step 63: f 0.551663 trial_f 0.551663 accepted 1  lowest_f 0.551663\n",
      "basinhopping step 64: f 0.551664 trial_f 0.551664 accepted 1  lowest_f 0.551663\n",
      "basinhopping step 65: f 0.551664 trial_f 0.551664 accepted 1  lowest_f 0.551663\n",
      "basinhopping step 66: f 0.551663 trial_f 0.551663 accepted 1  lowest_f 0.551663\n",
      "basinhopping step 67: f 0.551663 trial_f 0.551663 accepted 1  lowest_f 0.551663\n",
      "basinhopping step 68: f 0.551663 trial_f 0.551663 accepted 1  lowest_f 0.551663\n",
      "basinhopping step 69: f 0.551663 trial_f 0.551663 accepted 1  lowest_f 0.551663\n",
      "basinhopping step 70: f 0.551663 trial_f 0.551663 accepted 1  lowest_f 0.551663\n",
      "basinhopping step 71: f 0.551663 trial_f 0.551663 accepted 1  lowest_f 0.551663\n",
      "basinhopping step 72: f 0.551664 trial_f 0.551664 accepted 1  lowest_f 0.551663\n",
      "basinhopping step 73: f 0.551663 trial_f 0.551663 accepted 1  lowest_f 0.551663\n",
      "basinhopping step 74: f 0.551663 trial_f 0.551663 accepted 1  lowest_f 0.551663\n",
      "basinhopping step 75: f 0.551663 trial_f 0.551663 accepted 1  lowest_f 0.551663\n",
      "basinhopping step 76: f 0.551663 trial_f 0.551663 accepted 1  lowest_f 0.551663\n",
      "basinhopping step 77: f 0.551664 trial_f 0.551664 accepted 1  lowest_f 0.551663\n",
      "basinhopping step 78: f 0.551663 trial_f 0.551663 accepted 1  lowest_f 0.551663\n",
      "basinhopping step 79: f 0.551664 trial_f 0.551664 accepted 1  lowest_f 0.551663\n",
      "basinhopping step 80: f 0.551663 trial_f 0.551663 accepted 1  lowest_f 0.551663\n",
      "basinhopping step 81: f 0.551663 trial_f 0.551663 accepted 1  lowest_f 0.551663\n",
      "basinhopping step 82: f 0.551663 trial_f 0.551663 accepted 1  lowest_f 0.551663\n",
      "basinhopping step 83: f 0.551663 trial_f 0.551663 accepted 1  lowest_f 0.551663\n",
      "basinhopping step 84: f 0.551663 trial_f 0.551663 accepted 1  lowest_f 0.551663\n",
      "basinhopping step 85: f 0.551664 trial_f 0.551664 accepted 1  lowest_f 0.551663\n",
      "basinhopping step 86: f 0.551663 trial_f 0.551663 accepted 1  lowest_f 0.551663\n",
      "basinhopping step 87: f 0.551663 trial_f 0.551663 accepted 1  lowest_f 0.551663\n",
      "basinhopping step 88: f 0.551663 trial_f 0.551663 accepted 1  lowest_f 0.551663\n",
      "basinhopping step 89: f 0.551663 trial_f 0.551663 accepted 1  lowest_f 0.551663\n",
      "basinhopping step 90: f 0.551663 trial_f 0.551663 accepted 1  lowest_f 0.551663\n",
      "basinhopping step 91: f 0.551664 trial_f 0.551664 accepted 1  lowest_f 0.551663\n",
      "basinhopping step 92: f 0.551663 trial_f 0.551663 accepted 1  lowest_f 0.551663\n",
      "basinhopping step 93: f 0.551664 trial_f 0.551664 accepted 1  lowest_f 0.551663\n",
      "basinhopping step 94: f 0.551663 trial_f 0.551663 accepted 1  lowest_f 0.551663\n",
      "basinhopping step 95: f 0.551663 trial_f 0.551663 accepted 1  lowest_f 0.551663\n",
      "basinhopping step 96: f 0.551663 trial_f 0.551663 accepted 1  lowest_f 0.551663\n",
      "basinhopping step 97: f 0.551663 trial_f 0.551663 accepted 1  lowest_f 0.551663\n",
      "basinhopping step 98: f 0.551663 trial_f 0.551663 accepted 1  lowest_f 0.551663\n",
      "basinhopping step 99: f 0.551663 trial_f 0.551663 accepted 1  lowest_f 0.551663\n"
     ]
    },
    {
     "name": "stdout",
     "output_type": "stream",
     "text": [
      "adaptive stepsize: acceptance rate 0.990000 target 0.500000 new stepsize 0.617284 old stepsize 0.555556\n",
      "basinhopping step 100: f 0.551664 trial_f 0.551664 accepted 1  lowest_f 0.551663\n",
      "                           Logit Regression Results                           \n",
      "==============================================================================\n",
      "Dep. Variable:            TARGET_5Yrs   No. Observations:                 1312\n",
      "Model:                          Logit   Df Residuals:                     1292\n",
      "Method:                           MLE   Df Model:                           19\n",
      "Date:                Tue, 17 Nov 2020   Pseudo R-squ.:                  0.1708\n",
      "Time:                        01:18:34   Log-Likelihood:                -723.78\n",
      "converged:                       True   LL-Null:                       -872.92\n",
      "Covariance Type:            nonrobust   LLR p-value:                 4.526e-52\n",
      "==============================================================================\n",
      "                 coef    std err          z      P>|z|      [0.025      0.975]\n",
      "------------------------------------------------------------------------------\n",
      "const         -4.5897      1.263     -3.635      0.000      -7.064      -2.115\n",
      "GP             0.0372      0.005      7.758      0.000       0.028       0.047\n",
      "MIN           -0.0546      0.033     -1.630      0.103      -0.120       0.011\n",
      "PTS           -0.1369      0.891     -0.154      0.878      -1.883       1.609\n",
      "FGM           -0.1785      1.757     -0.102      0.919      -3.623       3.266\n",
      "FGA            0.2888      0.238      1.216      0.224      -0.177       0.754\n",
      "FG%            0.0331      0.022      1.485      0.137      -0.011       0.077\n",
      "3P Made        3.5544      1.343      2.646      0.008       0.922       6.187\n",
      "3PA           -1.2612      0.416     -3.029      0.002      -2.077      -0.445\n",
      "3P%            0.0047      0.006      0.811      0.418      -0.007       0.016\n",
      "FTM            0.6110      1.027      0.595      0.552      -1.402       2.624\n",
      "FTA           -0.1958      0.477     -0.410      0.682      -1.132       0.740\n",
      "FT%            0.0119      0.010      1.172      0.241      -0.008       0.032\n",
      "OREB           0.4322      1.290      0.335      0.738      -2.097       2.961\n",
      "DREB          -0.5598      1.286     -0.435      0.663      -3.080       1.960\n",
      "REB            0.4449      1.280      0.348      0.728      -2.063       2.953\n",
      "AST            0.3149      0.113      2.789      0.005       0.094       0.536\n",
      "STL           -0.1000      0.320     -0.313      0.754      -0.726       0.526\n",
      "BLK            0.5358      0.277      1.933      0.053      -0.007       1.079\n",
      "TOV           -0.3008      0.274     -1.099      0.272      -0.837       0.236\n",
      "==============================================================================\n"
     ]
    }
   ],
   "source": [
    "mod = sm.Logit(y, X_vars)\n",
    "res = mod.fit(method = 'basinhopping')\n",
    "print(res.summary())"
   ]
  },
  {
   "cell_type": "markdown",
   "metadata": {},
   "source": [
    "##### Logit Basinhopping "
   ]
  },
  {
   "cell_type": "markdown",
   "metadata": {},
   "source": [
    "| Feature | p-value |\n",
    "| --- | --- |\n",
    "| GP | 0.000 |\n",
    "| 3P Made | 0.008 |\n",
    "| 3PA | 0.002 |\n",
    "| AST | 0.005|\n",
    "| BLK | (Barely qualifies)0.053 |\n",
    "| constant | 0.000 |"
   ]
  },
  {
   "cell_type": "code",
   "execution_count": null,
   "metadata": {},
   "outputs": [],
   "source": []
  },
  {
   "cell_type": "code",
   "execution_count": null,
   "metadata": {},
   "outputs": [],
   "source": []
  },
  {
   "cell_type": "code",
   "execution_count": 53,
   "metadata": {},
   "outputs": [
    {
     "name": "stdout",
     "output_type": "stream",
     "text": [
      "Warning: Maximum number of iterations has been exceeded.\n",
      "         Current function value: 0.557438\n",
      "         Iterations: 35\n",
      "         Function evaluations: 40\n",
      "         Gradient evaluations: 40\n",
      "                           Logit Regression Results                           \n",
      "==============================================================================\n",
      "Dep. Variable:            TARGET_5Yrs   No. Observations:                 1312\n",
      "Model:                          Logit   Df Residuals:                     1292\n",
      "Method:                           MLE   Df Model:                           19\n",
      "Date:                Tue, 17 Nov 2020   Pseudo R-squ.:                  0.1622\n",
      "Time:                        01:18:34   Log-Likelihood:                -731.36\n",
      "converged:                      False   LL-Null:                       -872.92\n",
      "Covariance Type:            nonrobust   LLR p-value:                 5.691e-49\n",
      "==============================================================================\n",
      "                 coef    std err          z      P>|z|      [0.025      0.975]\n",
      "------------------------------------------------------------------------------\n",
      "const         -1.0070      1.242     -0.811      0.418      -3.442       1.428\n",
      "GP             0.0366      0.005      7.673      0.000       0.027       0.046\n",
      "MIN           -0.0465      0.033     -1.388      0.165      -0.112       0.019\n",
      "PTS            0.6019      0.889      0.677      0.498      -1.141       2.345\n",
      "FGM           -0.1419      1.759     -0.081      0.936      -3.589       3.305\n",
      "FGA           -0.4038      0.242     -1.667      0.095      -0.878       0.071\n",
      "FG%           -0.0304      0.023     -1.346      0.178      -0.075       0.014\n",
      "3P Made        0.6576      1.308      0.503      0.615      -1.905       3.220\n",
      "3PA           -0.3961      0.402     -0.984      0.325      -1.185       0.393\n",
      "3P%            0.0053      0.006      0.916      0.360      -0.006       0.017\n",
      "FTM            0.3654      1.029      0.355      0.723      -1.652       2.382\n",
      "FTA           -0.5827      0.484     -1.204      0.229      -1.531       0.366\n",
      "FT%           -0.0003      0.010     -0.027      0.978      -0.020       0.019\n",
      "OREB           0.7387      1.292      0.572      0.567      -1.793       3.270\n",
      "DREB          -0.4872      1.286     -0.379      0.705      -3.008       2.033\n",
      "REB            0.2939      1.281      0.230      0.818      -2.216       2.804\n",
      "AST            0.3728      0.114      3.269      0.001       0.149       0.596\n",
      "STL           -0.2391      0.322     -0.743      0.457      -0.869       0.391\n",
      "BLK            0.7280      0.287      2.537      0.011       0.166       1.290\n",
      "TOV           -0.3306      0.277     -1.192      0.233      -0.874       0.213\n",
      "==============================================================================\n"
     ]
    },
    {
     "name": "stderr",
     "output_type": "stream",
     "text": [
      "C:\\Users\\rahul\\anaconda3\\lib\\site-packages\\statsmodels\\base\\model.py:568: ConvergenceWarning: Maximum Likelihood optimization failed to converge. Check mle_retvals\n",
      "  \"Check mle_retvals\", ConvergenceWarning)\n"
     ]
    }
   ],
   "source": [
    "mod = sm.Logit(y, X_vars)\n",
    "res = mod.fit(method = 'minimize')\n",
    "print(res.summary())"
   ]
  },
  {
   "cell_type": "markdown",
   "metadata": {},
   "source": [
    "##### Logit Minimize "
   ]
  },
  {
   "cell_type": "markdown",
   "metadata": {},
   "source": [
    "| Feature | p-value |\n",
    "| --- | --- |\n",
    "| GP | 0.000 |\n",
    "| AST | 0.001|\n",
    "| BLK | 0.011 |"
   ]
  },
  {
   "cell_type": "code",
   "execution_count": null,
   "metadata": {},
   "outputs": [],
   "source": []
  },
  {
   "cell_type": "code",
   "execution_count": null,
   "metadata": {},
   "outputs": [],
   "source": []
  },
  {
   "cell_type": "markdown",
   "metadata": {},
   "source": [
    "## We can see that newton and basinhopping have same features and p-values. So we are gonna select these features for modeling from Logistic Regression. They are: "
   ]
  },
  {
   "cell_type": "markdown",
   "metadata": {},
   "source": [
    "| Feature | p-value |\n",
    "| --- | --- |\n",
    "| GP | 0.000 |\n",
    "| 3P Made | 0.008 |\n",
    "| 3PA | 0.002 |\n",
    "| AST | 0.005|\n",
    "| BLK | (Barely qualifies)0.053 |\n",
    "| constant | 0.000 |"
   ]
  },
  {
   "cell_type": "code",
   "execution_count": null,
   "metadata": {},
   "outputs": [],
   "source": []
  },
  {
   "cell_type": "code",
   "execution_count": 54,
   "metadata": {},
   "outputs": [],
   "source": [
    "X_train, X_test, y_train, y_test = train_test_split(X, y, test_size=0.25, random_state=11)"
   ]
  },
  {
   "cell_type": "code",
   "execution_count": 55,
   "metadata": {},
   "outputs": [],
   "source": [
    "from sklearn.feature_selection import SelectKBest\n",
    "from sklearn.feature_selection import VarianceThreshold, RFE, SelectFromModel, SelectKBest, f_classif, chi2, mutual_info_classif"
   ]
  },
  {
   "cell_type": "code",
   "execution_count": 56,
   "metadata": {},
   "outputs": [
    {
     "data": {
      "text/plain": [
       "(984, 19)"
      ]
     },
     "execution_count": 56,
     "metadata": {},
     "output_type": "execute_result"
    }
   ],
   "source": [
    "X_train.shape"
   ]
  },
  {
   "cell_type": "markdown",
   "metadata": {},
   "source": [
    "### Removing features with low variance "
   ]
  },
  {
   "cell_type": "code",
   "execution_count": 57,
   "metadata": {},
   "outputs": [
    {
     "data": {
      "text/plain": [
       "(984, 19)"
      ]
     },
     "execution_count": 57,
     "metadata": {},
     "output_type": "execute_result"
    }
   ],
   "source": [
    "sel_variance_threshold = VarianceThreshold() \n",
    "X_train_remove_variance = sel_variance_threshold.fit_transform(X_train)\n",
    "X_train_remove_variance.shape"
   ]
  },
  {
   "cell_type": "markdown",
   "metadata": {},
   "source": [
    "#### The data still has 19 features, so no feature is removed."
   ]
  },
  {
   "cell_type": "markdown",
   "metadata": {},
   "source": [
    "# Feature selection using SelectKBest"
   ]
  },
  {
   "cell_type": "code",
   "execution_count": 58,
   "metadata": {},
   "outputs": [
    {
     "name": "stdout",
     "output_type": "stream",
     "text": [
      "\n",
      "From 'chi2' score-function\n",
      "\n",
      "    Features       Score\n",
      "0        GP  730.428324\n",
      "1       MIN  315.469383\n",
      "2       PTS  223.987686\n",
      "4       FGA  147.463620\n",
      "14      REB  105.073961\n",
      "3       FGM   87.975609\n",
      "10      FTA   72.112447\n",
      "13     DREB   60.915314\n",
      "9       FTM   54.639543\n",
      "5       FG%   47.700707\n"
     ]
    }
   ],
   "source": [
    "bestfeatures1 = SelectKBest(score_func = chi2, k = 10)\n",
    "fit1 = bestfeatures1.fit(X_train,y_train)\n",
    "dfscores1 = pd.DataFrame(fit1.scores_)\n",
    "dfcolumns1 = pd.DataFrame(X_train.columns)\n",
    "\n",
    "featureScores1 = pd.concat([dfcolumns1,dfscores1],axis=1)\n",
    "featureScores1.columns = ['Features','Score']  \n",
    "print(\"\\nFrom 'chi2' score-function\\n\\n\", featureScores1.nlargest(10,'Score')) "
   ]
  },
  {
   "cell_type": "code",
   "execution_count": null,
   "metadata": {},
   "outputs": [],
   "source": []
  },
  {
   "cell_type": "code",
   "execution_count": null,
   "metadata": {},
   "outputs": [],
   "source": []
  },
  {
   "cell_type": "code",
   "execution_count": 59,
   "metadata": {},
   "outputs": [
    {
     "name": "stdout",
     "output_type": "stream",
     "text": [
      "\n",
      "From 'f_classif' score-function\n",
      "\n",
      "    Features       Score\n",
      "0        GP  172.494989\n",
      "3       FGM   92.504370\n",
      "2       PTS   91.382153\n",
      "1       MIN   88.691227\n",
      "10      FTA   87.183422\n",
      "14      REB   84.673581\n",
      "9       FTM   84.388287\n",
      "12     OREB   84.230517\n",
      "4       FGA   73.845814\n",
      "13     DREB   73.761657\n"
     ]
    }
   ],
   "source": [
    "bestfeatures2 = SelectKBest(score_func = f_classif, k=10)\n",
    "fit2 = bestfeatures2.fit(X_train,y_train)\n",
    "dfscores2 = pd.DataFrame(fit2.scores_)\n",
    "dfcolumns2 = pd.DataFrame(X_train.columns)\n",
    "\n",
    "featureScores2 = pd.concat([dfcolumns2,dfscores2],axis = 1)\n",
    "featureScores2.columns = ['Features','Score']  \n",
    "print(\"\\nFrom 'f_classif' score-function\\n\\n\", featureScores2.nlargest(10,'Score')) "
   ]
  },
  {
   "cell_type": "code",
   "execution_count": null,
   "metadata": {},
   "outputs": [],
   "source": []
  },
  {
   "cell_type": "code",
   "execution_count": null,
   "metadata": {},
   "outputs": [],
   "source": []
  },
  {
   "cell_type": "code",
   "execution_count": 60,
   "metadata": {},
   "outputs": [
    {
     "name": "stdout",
     "output_type": "stream",
     "text": [
      "\n",
      "From 'mutual_info_classif' score-function\n",
      "\n",
      "    Features     Score\n",
      "3       FGM  0.075798\n",
      "0        GP  0.063791\n",
      "9       FTM  0.059927\n",
      "2       PTS  0.055446\n",
      "14      REB  0.048987\n",
      "12     OREB  0.041619\n",
      "10      FTA  0.041378\n",
      "1       MIN  0.040952\n",
      "18      TOV  0.033067\n",
      "13     DREB  0.032396\n"
     ]
    }
   ],
   "source": [
    "bestfeatures3 = SelectKBest(score_func = mutual_info_classif, k=10)\n",
    "fit3 = bestfeatures3.fit(X_train,y_train)\n",
    "dfscores3 = pd.DataFrame(fit3.scores_)\n",
    "dfcolumns3 = pd.DataFrame(X_train.columns)\n",
    "\n",
    "featureScores3 = pd.concat([dfcolumns3,dfscores3],axis = 1)\n",
    "featureScores3.columns = ['Features','Score']  \n",
    "print(\"\\nFrom 'mutual_info_classif' score-function\\n\\n\", featureScores3.nlargest(10,'Score')) "
   ]
  },
  {
   "cell_type": "markdown",
   "metadata": {},
   "source": [
    "#### score_func = ['f_classif', 'mutual_info_classif', 'chi2', 'f_regression', 'mutual_info_regression', 'SelectPercentile', 'SelectFpr', 'SelectFdr', 'SelectFwe', 'GenericUnivariateSelect'] "
   ]
  },
  {
   "cell_type": "code",
   "execution_count": null,
   "metadata": {},
   "outputs": [],
   "source": []
  },
  {
   "cell_type": "code",
   "execution_count": null,
   "metadata": {},
   "outputs": [],
   "source": []
  },
  {
   "cell_type": "markdown",
   "metadata": {},
   "source": [
    "# Recursive feature elimination"
   ]
  },
  {
   "cell_type": "code",
   "execution_count": 61,
   "metadata": {},
   "outputs": [],
   "source": [
    "from sklearn.linear_model import LogisticRegression\n",
    "from sklearn.ensemble import RandomForestClassifier\n",
    "from sklearn.metrics import confusion_matrix, classification_report\n",
    "from sklearn.metrics import accuracy_score"
   ]
  },
  {
   "cell_type": "code",
   "execution_count": 62,
   "metadata": {},
   "outputs": [
    {
     "name": "stderr",
     "output_type": "stream",
     "text": [
      "C:\\Users\\rahul\\anaconda3\\lib\\site-packages\\sklearn\\linear_model\\_logistic.py:940: ConvergenceWarning: lbfgs failed to converge (status=1):\n",
      "STOP: TOTAL NO. of ITERATIONS REACHED LIMIT.\n",
      "\n",
      "Increase the number of iterations (max_iter) or scale the data as shown in:\n",
      "    https://scikit-learn.org/stable/modules/preprocessing.html\n",
      "Please also refer to the documentation for alternative solver options:\n",
      "    https://scikit-learn.org/stable/modules/linear_model.html#logistic-regression\n",
      "  extra_warning_msg=_LOGISTIC_SOLVER_CONVERGENCE_MSG)\n"
     ]
    }
   ],
   "source": [
    "model_logistic = LogisticRegression(solver='lbfgs', multi_class='multinomial', max_iter=1000)\n",
    "sel_rfe_logistic = RFE(estimator=model_logistic, n_features_to_select=10, step=1)\n",
    "X_train_rfe_logistic = sel_rfe_logistic.fit_transform(X_train, y_train)"
   ]
  },
  {
   "cell_type": "code",
   "execution_count": 63,
   "metadata": {},
   "outputs": [
    {
     "name": "stdout",
     "output_type": "stream",
     "text": [
      "[False False False  True  True False  True  True False  True  True False\n",
      "  True False False  True  True  True False]\n",
      "{'estimator__C': 1.0, 'estimator__class_weight': None, 'estimator__dual': False, 'estimator__fit_intercept': True, 'estimator__intercept_scaling': 1, 'estimator__l1_ratio': None, 'estimator__max_iter': 1000, 'estimator__multi_class': 'multinomial', 'estimator__n_jobs': None, 'estimator__penalty': 'l2', 'estimator__random_state': None, 'estimator__solver': 'lbfgs', 'estimator__tol': 0.0001, 'estimator__verbose': 0, 'estimator__warm_start': False, 'estimator': LogisticRegression(C=1.0, class_weight=None, dual=False, fit_intercept=True,\n",
      "                   intercept_scaling=1, l1_ratio=None, max_iter=1000,\n",
      "                   multi_class='multinomial', n_jobs=None, penalty='l2',\n",
      "                   random_state=None, solver='lbfgs', tol=0.0001, verbose=0,\n",
      "                   warm_start=False), 'n_features_to_select': 10, 'step': 1, 'verbose': 0}\n"
     ]
    }
   ],
   "source": [
    "print(sel_rfe_logistic.get_support())\n",
    "print(sel_rfe_logistic.get_params())"
   ]
  },
  {
   "cell_type": "code",
   "execution_count": 64,
   "metadata": {},
   "outputs": [
    {
     "data": {
      "text/plain": [
       "array([ 7,  6,  8,  1,  1,  5,  1,  1, 10,  1,  1,  9,  1,  2,  3,  1,  1,\n",
       "        1,  4])"
      ]
     },
     "execution_count": 64,
     "metadata": {},
     "output_type": "execute_result"
    }
   ],
   "source": [
    "sel_rfe_logistic.ranking_"
   ]
  },
  {
   "cell_type": "markdown",
   "metadata": {},
   "source": [
    "#### Features with only rank 1 are selected. "
   ]
  },
  {
   "cell_type": "code",
   "execution_count": 65,
   "metadata": {},
   "outputs": [
    {
     "name": "stdout",
     "output_type": "stream",
     "text": [
      "Features Selected are: \n",
      "Column: FGM\n",
      "Column: FGA\n",
      "Column: 3P Made\n",
      "Column: 3PA\n",
      "Column: FTM\n",
      "Column: FTA\n",
      "Column: OREB\n",
      "Column: AST\n",
      "Column: STL\n",
      "Column: BLK\n"
     ]
    }
   ],
   "source": [
    "print(\"Features Selected are: \")\n",
    "for i in range(X_train.shape[1]):\n",
    "    if sel_rfe_logistic.support_[i] == True:\n",
    "        print('Column: %s' % (X_train.columns[i]))"
   ]
  },
  {
   "cell_type": "code",
   "execution_count": null,
   "metadata": {},
   "outputs": [],
   "source": []
  },
  {
   "cell_type": "code",
   "execution_count": null,
   "metadata": {},
   "outputs": [],
   "source": []
  },
  {
   "cell_type": "code",
   "execution_count": 66,
   "metadata": {},
   "outputs": [],
   "source": [
    "model_tree = RandomForestClassifier(random_state=100, n_estimators=50)\n",
    "sel_rfe_tree = RFE(estimator=model_tree, n_features_to_select=10, step=1)\n",
    "X_train_rfe_tree = sel_rfe_tree.fit_transform(X_train, y_train)"
   ]
  },
  {
   "cell_type": "code",
   "execution_count": 67,
   "metadata": {},
   "outputs": [
    {
     "name": "stdout",
     "output_type": "stream",
     "text": [
      "[ True  True  True False  True  True False False False  True  True  True\n",
      " False False  True  True False False False]\n",
      "{'estimator__bootstrap': True, 'estimator__ccp_alpha': 0.0, 'estimator__class_weight': None, 'estimator__criterion': 'gini', 'estimator__max_depth': None, 'estimator__max_features': 'auto', 'estimator__max_leaf_nodes': None, 'estimator__max_samples': None, 'estimator__min_impurity_decrease': 0.0, 'estimator__min_impurity_split': None, 'estimator__min_samples_leaf': 1, 'estimator__min_samples_split': 2, 'estimator__min_weight_fraction_leaf': 0.0, 'estimator__n_estimators': 50, 'estimator__n_jobs': None, 'estimator__oob_score': False, 'estimator__random_state': 100, 'estimator__verbose': 0, 'estimator__warm_start': False, 'estimator': RandomForestClassifier(bootstrap=True, ccp_alpha=0.0, class_weight=None,\n",
      "                       criterion='gini', max_depth=None, max_features='auto',\n",
      "                       max_leaf_nodes=None, max_samples=None,\n",
      "                       min_impurity_decrease=0.0, min_impurity_split=None,\n",
      "                       min_samples_leaf=1, min_samples_split=2,\n",
      "                       min_weight_fraction_leaf=0.0, n_estimators=50,\n",
      "                       n_jobs=None, oob_score=False, random_state=100,\n",
      "                       verbose=0, warm_start=False), 'n_features_to_select': 10, 'step': 1, 'verbose': 0}\n"
     ]
    }
   ],
   "source": [
    "print(sel_rfe_tree.get_support())\n",
    "print(sel_rfe_tree.get_params())"
   ]
  },
  {
   "cell_type": "code",
   "execution_count": 68,
   "metadata": {},
   "outputs": [
    {
     "data": {
      "text/plain": [
       "array([ 1,  1,  1,  3,  1,  1, 10,  6,  5,  1,  1,  1,  2,  4,  1,  1,  9,\n",
       "        8,  7])"
      ]
     },
     "execution_count": 68,
     "metadata": {},
     "output_type": "execute_result"
    }
   ],
   "source": [
    "sel_rfe_tree.ranking_"
   ]
  },
  {
   "cell_type": "code",
   "execution_count": 69,
   "metadata": {},
   "outputs": [
    {
     "name": "stdout",
     "output_type": "stream",
     "text": [
      "Features Selected are: \n",
      "Column: GP\n",
      "Column: MIN\n",
      "Column: PTS\n",
      "Column: FGA\n",
      "Column: FG%\n",
      "Column: FTM\n",
      "Column: FTA\n",
      "Column: FT%\n",
      "Column: REB\n",
      "Column: AST\n"
     ]
    }
   ],
   "source": [
    "print(\"Features Selected are: \")\n",
    "for i in range(X_train.shape[1]):\n",
    "    if sel_rfe_tree.support_[i] == True:\n",
    "        print('Column: %s' % (X_train.columns[i]))"
   ]
  },
  {
   "cell_type": "code",
   "execution_count": null,
   "metadata": {},
   "outputs": [],
   "source": []
  },
  {
   "cell_type": "code",
   "execution_count": null,
   "metadata": {},
   "outputs": [],
   "source": []
  },
  {
   "cell_type": "markdown",
   "metadata": {},
   "source": [
    "# Feature selection using SelectFromModel"
   ]
  },
  {
   "cell_type": "markdown",
   "metadata": {},
   "source": [
    "### (1) L1-based feature selection"
   ]
  },
  {
   "cell_type": "code",
   "execution_count": 70,
   "metadata": {},
   "outputs": [],
   "source": [
    "model_logistic = LogisticRegression(solver='saga', multi_class='multinomial', max_iter=10000, penalty='l1')\n",
    "sel_model_logistic = SelectFromModel(estimator=model_logistic)\n",
    "X_train_sfm_l1 = sel_model_logistic.fit_transform(X_train, y_train)"
   ]
  },
  {
   "cell_type": "code",
   "execution_count": 71,
   "metadata": {},
   "outputs": [
    {
     "name": "stdout",
     "output_type": "stream",
     "text": [
      "[ True  True  True False  True  True  True  True  True  True  True  True\n",
      "  True  True False  True  True  True  True]\n",
      "{'estimator__C': 1.0, 'estimator__class_weight': None, 'estimator__dual': False, 'estimator__fit_intercept': True, 'estimator__intercept_scaling': 1, 'estimator__l1_ratio': None, 'estimator__max_iter': 10000, 'estimator__multi_class': 'multinomial', 'estimator__n_jobs': None, 'estimator__penalty': 'l1', 'estimator__random_state': None, 'estimator__solver': 'saga', 'estimator__tol': 0.0001, 'estimator__verbose': 0, 'estimator__warm_start': False, 'estimator': LogisticRegression(C=1.0, class_weight=None, dual=False, fit_intercept=True,\n",
      "                   intercept_scaling=1, l1_ratio=None, max_iter=10000,\n",
      "                   multi_class='multinomial', n_jobs=None, penalty='l1',\n",
      "                   random_state=None, solver='saga', tol=0.0001, verbose=0,\n",
      "                   warm_start=False), 'max_features': None, 'norm_order': 1, 'prefit': False, 'threshold': None}\n"
     ]
    }
   ],
   "source": [
    "print(sel_model_logistic.get_support())\n",
    "print(sel_model_logistic.get_params())"
   ]
  },
  {
   "cell_type": "code",
   "execution_count": 72,
   "metadata": {},
   "outputs": [
    {
     "name": "stdout",
     "output_type": "stream",
     "text": [
      "Features selected by SelectFromModel: Index(['GP', 'MIN', 'PTS', 'FGA', 'FG%', '3P Made', '3PA', '3P%', 'FTM', 'FTA',\n",
      "       'FT%', 'OREB', 'DREB', 'AST', 'STL', 'BLK', 'TOV'],\n",
      "      dtype='object')\n"
     ]
    }
   ],
   "source": [
    "feature_names = X_train.columns\n",
    "print(\"Features selected by SelectFromModel: \"\n",
    "      f\"{feature_names[sel_model_logistic.get_support()]}\")"
   ]
  },
  {
   "cell_type": "code",
   "execution_count": null,
   "metadata": {},
   "outputs": [],
   "source": []
  },
  {
   "cell_type": "markdown",
   "metadata": {},
   "source": [
    "### (2) Tree-based feature selection"
   ]
  },
  {
   "cell_type": "code",
   "execution_count": 73,
   "metadata": {},
   "outputs": [],
   "source": [
    "from sklearn.ensemble import ExtraTreesClassifier"
   ]
  },
  {
   "cell_type": "code",
   "execution_count": 74,
   "metadata": {},
   "outputs": [
    {
     "name": "stdout",
     "output_type": "stream",
     "text": [
      "[0.09583504 0.05336147 0.05921336 0.05435793 0.04830798 0.06062864\n",
      " 0.03063386 0.04315281 0.04378697 0.05529345 0.05039769 0.04992243\n",
      " 0.05490673 0.05167443 0.05884954 0.04842301 0.04497474 0.04562186\n",
      " 0.05065805]\n"
     ]
    }
   ],
   "source": [
    "model_tree = ExtraTreesClassifier(random_state=100, n_estimators=50)\n",
    "model_tree.fit(X_train, y_train)\n",
    "print(model_tree.feature_importances_)\n",
    "\n",
    "sel_model_tree = SelectFromModel(estimator=model_tree, prefit=True, threshold='mean')\n",
    "X_train_sfm_tree = sel_model_tree.transform(X_train)"
   ]
  },
  {
   "cell_type": "code",
   "execution_count": 75,
   "metadata": {},
   "outputs": [
    {
     "name": "stdout",
     "output_type": "stream",
     "text": [
      "[ True  True  True  True False  True False False False  True False False\n",
      "  True False  True False False False False]\n",
      "{'estimator__bootstrap': False, 'estimator__ccp_alpha': 0.0, 'estimator__class_weight': None, 'estimator__criterion': 'gini', 'estimator__max_depth': None, 'estimator__max_features': 'auto', 'estimator__max_leaf_nodes': None, 'estimator__max_samples': None, 'estimator__min_impurity_decrease': 0.0, 'estimator__min_impurity_split': None, 'estimator__min_samples_leaf': 1, 'estimator__min_samples_split': 2, 'estimator__min_weight_fraction_leaf': 0.0, 'estimator__n_estimators': 50, 'estimator__n_jobs': None, 'estimator__oob_score': False, 'estimator__random_state': 100, 'estimator__verbose': 0, 'estimator__warm_start': False, 'estimator': ExtraTreesClassifier(bootstrap=False, ccp_alpha=0.0, class_weight=None,\n",
      "                     criterion='gini', max_depth=None, max_features='auto',\n",
      "                     max_leaf_nodes=None, max_samples=None,\n",
      "                     min_impurity_decrease=0.0, min_impurity_split=None,\n",
      "                     min_samples_leaf=1, min_samples_split=2,\n",
      "                     min_weight_fraction_leaf=0.0, n_estimators=50, n_jobs=None,\n",
      "                     oob_score=False, random_state=100, verbose=0,\n",
      "                     warm_start=False), 'max_features': None, 'norm_order': 1, 'prefit': True, 'threshold': 'mean'}\n"
     ]
    }
   ],
   "source": [
    "print(sel_model_tree.get_support())\n",
    "print(sel_model_tree.get_params())"
   ]
  },
  {
   "cell_type": "code",
   "execution_count": 76,
   "metadata": {},
   "outputs": [
    {
     "name": "stdout",
     "output_type": "stream",
     "text": [
      "Features selected by SelectFromModel: Index(['GP', 'MIN', 'PTS', 'FGM', 'FG%', 'FTM', 'OREB', 'REB'], dtype='object')\n"
     ]
    }
   ],
   "source": [
    "feature_names = X_train.columns\n",
    "print(\"Features selected by SelectFromModel: \"\n",
    "      f\"{feature_names[sel_model_tree.get_support()]}\")"
   ]
  },
  {
   "cell_type": "code",
   "execution_count": null,
   "metadata": {},
   "outputs": [],
   "source": []
  },
  {
   "cell_type": "markdown",
   "metadata": {},
   "source": [
    "# Optimiztion"
   ]
  },
  {
   "cell_type": "markdown",
   "metadata": {},
   "source": [
    "### Doing with models that got highest accuracy from each area"
   ]
  },
  {
   "cell_type": "code",
   "execution_count": null,
   "metadata": {},
   "outputs": [],
   "source": []
  },
  {
   "cell_type": "markdown",
   "metadata": {},
   "source": [
    "### All Features"
   ]
  },
  {
   "cell_type": "code",
   "execution_count": 77,
   "metadata": {},
   "outputs": [],
   "source": [
    "X_train, X_test, y_train, y_test = train_test_split(X, y, test_size = 0.25, random_state = 11)"
   ]
  },
  {
   "cell_type": "markdown",
   "metadata": {},
   "source": [
    "### Before Standardization"
   ]
  },
  {
   "cell_type": "markdown",
   "metadata": {},
   "source": [
    "### Model - Logistic Regression"
   ]
  },
  {
   "cell_type": "code",
   "execution_count": 78,
   "metadata": {},
   "outputs": [
    {
     "name": "stdout",
     "output_type": "stream",
     "text": [
      "[[ 68  61]\n",
      " [ 36 163]]\n",
      "              precision    recall  f1-score   support\n",
      "\n",
      "         0.0       0.65      0.53      0.58       129\n",
      "         1.0       0.73      0.82      0.77       199\n",
      "\n",
      "    accuracy                           0.70       328\n",
      "   macro avg       0.69      0.67      0.68       328\n",
      "weighted avg       0.70      0.70      0.70       328\n",
      "\n",
      "Score: \n",
      " 70.73\n",
      "Test Score: \n",
      " 70.43\n",
      "Accuracy: \n",
      " 0.7042682926829268\n"
     ]
    },
    {
     "name": "stderr",
     "output_type": "stream",
     "text": [
      "C:\\Users\\rahul\\anaconda3\\lib\\site-packages\\sklearn\\linear_model\\_logistic.py:940: ConvergenceWarning: lbfgs failed to converge (status=1):\n",
      "STOP: TOTAL NO. of ITERATIONS REACHED LIMIT.\n",
      "\n",
      "Increase the number of iterations (max_iter) or scale the data as shown in:\n",
      "    https://scikit-learn.org/stable/modules/preprocessing.html\n",
      "Please also refer to the documentation for alternative solver options:\n",
      "    https://scikit-learn.org/stable/modules/linear_model.html#logistic-regression\n",
      "  extra_warning_msg=_LOGISTIC_SOLVER_CONVERGENCE_MSG)\n"
     ]
    }
   ],
   "source": [
    "from sklearn.linear_model import LogisticRegression\n",
    "\n",
    "lr_bs_af =  LogisticRegression(random_state = 11)\n",
    "lr_bs_af.fit(X_train, y_train)\n",
    "y_pred = lr_bs_af.predict(X_test)\n",
    "\n",
    "print(confusion_matrix(y_test, y_pred))\n",
    "print(classification_report(y_test, y_pred))\n",
    "\n",
    "lr_bs_af_score = round(lr_bs_af.score(X_train, y_train) * 100, 2)\n",
    "lr_bs_af_score_test = round(lr_bs_af.score(X_test, y_test) * 100, 2)\n",
    "print('Score: \\n', lr_bs_af_score)\n",
    "print('Test Score: \\n', lr_bs_af_score_test)\n",
    "print('Accuracy: \\n', accuracy_score(y_test, y_pred))"
   ]
  },
  {
   "cell_type": "markdown",
   "metadata": {},
   "source": [
    "### GridSearch CV"
   ]
  },
  {
   "cell_type": "code",
   "execution_count": 79,
   "metadata": {},
   "outputs": [
    {
     "name": "stderr",
     "output_type": "stream",
     "text": [
      "[Parallel(n_jobs=-1)]: Using backend LokyBackend with 8 concurrent workers.\n"
     ]
    },
    {
     "name": "stdout",
     "output_type": "stream",
     "text": [
      "Fitting 5 folds for each of 800 candidates, totalling 4000 fits\n"
     ]
    },
    {
     "name": "stderr",
     "output_type": "stream",
     "text": [
      "[Parallel(n_jobs=-1)]: Done  34 tasks      | elapsed:    1.9s\n",
      "[Parallel(n_jobs=-1)]: Done 811 tasks      | elapsed:   16.7s\n",
      "[Parallel(n_jobs=-1)]: Done 1591 tasks      | elapsed:   30.9s\n",
      "[Parallel(n_jobs=-1)]: Done 2384 tasks      | elapsed:   59.2s\n",
      "[Parallel(n_jobs=-1)]: Done 3098 tasks      | elapsed:  1.6min\n"
     ]
    },
    {
     "name": "stdout",
     "output_type": "stream",
     "text": [
      "{'C': 4.281332398719396, 'class_weight': None, 'dual': False, 'fit_intercept': True, 'intercept_scaling': 1, 'l1_ratio': None, 'max_iter': 100, 'multi_class': 'auto', 'n_jobs': None, 'penalty': 'l2', 'random_state': 11, 'solver': 'newton-cg', 'tol': 0.0001, 'verbose': 0, 'warm_start': False} \n",
      "\n",
      "Model accuracy is 0.7195121951219512\n"
     ]
    },
    {
     "name": "stderr",
     "output_type": "stream",
     "text": [
      "[Parallel(n_jobs=-1)]: Done 4000 out of 4000 | elapsed:  2.5min finished\n"
     ]
    }
   ],
   "source": [
    "kfold = StratifiedKFold(n_splits=5)\n",
    "\n",
    "param_grid = [\n",
    "    {'penalty' : ['l1', 'l2'],\n",
    "    'C': np.logspace(-4, 4, 20),\n",
    "    'solver' : ['lbfgs','newton-cg','liblinear','sag','saga'],\n",
    "    'max_iter' : [100, 1000,2500, 5000]}\n",
    "]\n",
    "\n",
    "lr_bs_af_gscv = GridSearchCV(lr_bs_af, param_grid = param_grid, cv = kfold, verbose=True, n_jobs=-1)\n",
    "best_lr_bs_af_gscv = lr_bs_af_gscv.fit(X_train, y_train)\n",
    "\n",
    "print(best_lr_bs_af_gscv.best_estimator_.get_params(), '\\n')\n",
    "print('Model accuracy is',best_lr_bs_af_gscv.score(X_test, y_test))"
   ]
  },
  {
   "cell_type": "code",
   "execution_count": 80,
   "metadata": {},
   "outputs": [
    {
     "name": "stdout",
     "output_type": "stream",
     "text": [
      "\n",
      " Accuracy          :  0.7195121951219512 \n",
      " Balanced Accuracy :  0.7121752880054213 \n",
      " Precision         :  0.8542713567839196 \n",
      " Average Precision :  0.8153612851234082 \n",
      " F1-Score          :  0.787037037037037 \n",
      " Recall            :  0.7296137339055794 \n",
      " ROC-AUC           :  0.7886720423824548 \n",
      "\n",
      "              precision    recall  f1-score   support\n",
      "\n",
      "         0.0       0.51      0.69      0.59        95\n",
      "         1.0       0.85      0.73      0.79       233\n",
      "\n",
      "    accuracy                           0.72       328\n",
      "   macro avg       0.68      0.71      0.69       328\n",
      "weighted avg       0.76      0.72      0.73       328\n",
      "\n"
     ]
    }
   ],
   "source": [
    "import sklearn.metrics as metrics\n",
    "\n",
    "probs = best_lr_bs_af_gscv.predict_proba(X_test)\n",
    "preds = probs[:,1]\n",
    "\n",
    "fpr, tpr, threshold = metrics.roc_curve(y_test, preds)\n",
    "roc_auc = metrics.auc(fpr, tpr)\n",
    "\n",
    "classes = best_lr_bs_af_gscv.predict(X_test)\n",
    "    \n",
    "accuracy = metrics.accuracy_score(classes, y_test)\n",
    "    \n",
    "balanced_accuracy = metrics.balanced_accuracy_score(classes, y_test)\n",
    "\n",
    "precision = metrics.precision_score(classes, y_test)\n",
    "    \n",
    "average_precision = metrics.average_precision_score(classes, y_test)\n",
    "    \n",
    "f1_score = metrics.f1_score(classes, y_test)\n",
    "    \n",
    "recall = metrics.recall_score(classes, y_test)\n",
    "\n",
    "print (\"\\n Accuracy          : \", accuracy, \"\\n Balanced Accuracy : \", balanced_accuracy, \"\\n Precision         : \", precision, \"\\n Average Precision : \", average_precision, \"\\n F1-Score          : \", f1_score, \"\\n Recall            : \", recall, \"\\n ROC-AUC           : \", roc_auc, \"\\n\")\n",
    "\n",
    "print(metrics.classification_report(classes, y_test))"
   ]
  },
  {
   "cell_type": "markdown",
   "metadata": {},
   "source": [
    "### RandomSearch CV"
   ]
  },
  {
   "cell_type": "code",
   "execution_count": 81,
   "metadata": {},
   "outputs": [
    {
     "name": "stdout",
     "output_type": "stream",
     "text": [
      "Fitting 5 folds for each of 10 candidates, totalling 50 fits\n"
     ]
    },
    {
     "name": "stderr",
     "output_type": "stream",
     "text": [
      "[Parallel(n_jobs=-1)]: Using backend LokyBackend with 8 concurrent workers.\n"
     ]
    },
    {
     "name": "stdout",
     "output_type": "stream",
     "text": [
      "{'C': 0.615848211066026, 'class_weight': None, 'dual': False, 'fit_intercept': True, 'intercept_scaling': 1, 'l1_ratio': None, 'max_iter': 1000, 'multi_class': 'auto', 'n_jobs': None, 'penalty': 'l2', 'random_state': 11, 'solver': 'newton-cg', 'tol': 0.0001, 'verbose': 0, 'warm_start': False} \n",
      "\n",
      "Model accuracy is 0.725609756097561\n"
     ]
    },
    {
     "name": "stderr",
     "output_type": "stream",
     "text": [
      "[Parallel(n_jobs=-1)]: Done  50 out of  50 | elapsed:    4.6s finished\n"
     ]
    }
   ],
   "source": [
    "kfold = StratifiedKFold(n_splits=5)\n",
    "\n",
    "param_grid = [\n",
    "    {'penalty' : ['l1', 'l2'],\n",
    "    'C': np.logspace(-4, 4, 20),\n",
    "    'solver' : ['lbfgs','newton-cg','liblinear','sag','saga'],\n",
    "    'max_iter' : [100, 1000,2500, 5000]}\n",
    "]\n",
    "\n",
    "lr_bs_af_rscv = RandomizedSearchCV(lr_bs_af, param_distributions = param_grid, cv = kfold, verbose=True, n_jobs=-1, random_state = 11)\n",
    "best_lr_bs_af_rscv = lr_bs_af_rscv.fit(X_train, y_train)\n",
    "\n",
    "print(best_lr_bs_af_rscv.best_estimator_.get_params(), '\\n')\n",
    "print('Model accuracy is',best_lr_bs_af_rscv.score(X_test, y_test))"
   ]
  },
  {
   "cell_type": "code",
   "execution_count": 82,
   "metadata": {},
   "outputs": [
    {
     "name": "stdout",
     "output_type": "stream",
     "text": [
      "\n",
      " Accuracy          :  0.725609756097561 \n",
      " Balanced Accuracy :  0.7184808318828937 \n",
      " Precision         :  0.8542713567839196 \n",
      " Average Precision :  0.8146601580386358 \n",
      " F1-Score          :  0.7906976744186045 \n",
      " Recall            :  0.7359307359307359 \n",
      " ROC-AUC           :  0.7848155506213237 \n",
      "\n",
      "              precision    recall  f1-score   support\n",
      "\n",
      "         0.0       0.53      0.70      0.60        97\n",
      "         1.0       0.85      0.74      0.79       231\n",
      "\n",
      "    accuracy                           0.73       328\n",
      "   macro avg       0.69      0.72      0.70       328\n",
      "weighted avg       0.76      0.73      0.73       328\n",
      "\n"
     ]
    }
   ],
   "source": [
    "import sklearn.metrics as metrics\n",
    "\n",
    "probs = best_lr_bs_af_rscv.predict_proba(X_test)\n",
    "preds = probs[:,1]\n",
    "\n",
    "fpr, tpr, threshold = metrics.roc_curve(y_test, preds)\n",
    "roc_auc = metrics.auc(fpr, tpr)\n",
    "\n",
    "classes = best_lr_bs_af_rscv.predict(X_test)\n",
    "    \n",
    "accuracy = metrics.accuracy_score(classes, y_test)\n",
    "    \n",
    "balanced_accuracy = metrics.balanced_accuracy_score(classes, y_test)\n",
    "\n",
    "precision = metrics.precision_score(classes, y_test)\n",
    "    \n",
    "average_precision = metrics.average_precision_score(classes, y_test)\n",
    "    \n",
    "f1_score = metrics.f1_score(classes, y_test)\n",
    "    \n",
    "recall = metrics.recall_score(classes, y_test)\n",
    "\n",
    "print (\"\\n Accuracy          : \", accuracy, \"\\n Balanced Accuracy : \", balanced_accuracy, \"\\n Precision         : \", precision, \"\\n Average Precision : \", average_precision, \"\\n F1-Score          : \", f1_score, \"\\n Recall            : \", recall, \"\\n ROC-AUC           : \", roc_auc, \"\\n\")\n",
    "\n",
    "print(metrics.classification_report(classes, y_test))"
   ]
  },
  {
   "cell_type": "markdown",
   "metadata": {},
   "source": [
    "### Bayesian Optimization"
   ]
  },
  {
   "cell_type": "code",
   "execution_count": 83,
   "metadata": {},
   "outputs": [],
   "source": [
    "from hyperopt import fmin, tpe, hp, STATUS_OK, Trials\n",
    "import sklearn"
   ]
  },
  {
   "cell_type": "code",
   "execution_count": 84,
   "metadata": {},
   "outputs": [],
   "source": [
    "import warnings\n",
    "warnings.filterwarnings('ignore')"
   ]
  },
  {
   "cell_type": "code",
   "execution_count": 85,
   "metadata": {},
   "outputs": [
    {
     "name": "stdout",
     "output_type": "stream",
     "text": [
      "100%|█████████████████████████████████████████████| 100/100 [00:17<00:00,  5.82trial/s, best loss: -0.7033046721226561]\n",
      "best:\n",
      "{'C': 9.256221100460834, 'max_iter': 2, 'penalty': 1, 'solver': 0}\n",
      "Accuracy :  70.33046721226562\n"
     ]
    }
   ],
   "source": [
    "def f(params):\n",
    "    acc = hyperopt_train_test(params)\n",
    "    return {'loss': -acc, 'status': STATUS_OK}\n",
    "\n",
    "def hyperopt_train_test(params):\n",
    "    lr_bs_af_bo = LogisticRegression(**params, random_state = 11)\n",
    "    return sklearn.model_selection.cross_val_score(lr_bs_af_bo, X_train, y_train).mean()\n",
    "\n",
    "param_grid = {\n",
    "    'C': hp.uniform('C', 0, 20),\n",
    "    'penalty': hp.choice('penalty', ['l1', 'l2']),\n",
    "    'solver': hp.choice('solver', ['lbfgs','newton-cg','liblinear','sag','saga']),\n",
    "    'max_iter' : hp.choice('max_iter', [100, 1000,2500, 5000])\n",
    "}\n",
    "\n",
    "trials = Trials()\n",
    "best = fmin(f, param_grid, algo=tpe.suggest, max_evals=100, trials=trials)\n",
    "print('best:')\n",
    "print(best)\n",
    "print(\"Accuracy : \", -trials.best_trial['result']['loss']*100)"
   ]
  },
  {
   "cell_type": "code",
   "execution_count": null,
   "metadata": {},
   "outputs": [],
   "source": []
  },
  {
   "cell_type": "code",
   "execution_count": null,
   "metadata": {},
   "outputs": [],
   "source": []
  },
  {
   "cell_type": "markdown",
   "metadata": {},
   "source": [
    "### After Standardization"
   ]
  },
  {
   "cell_type": "code",
   "execution_count": 86,
   "metadata": {},
   "outputs": [],
   "source": [
    "X_train, X_test, y_train, y_test = train_test_split(X, y, test_size = 0.25, random_state = 11)"
   ]
  },
  {
   "cell_type": "code",
   "execution_count": 87,
   "metadata": {},
   "outputs": [],
   "source": [
    "train_mean = X_train.mean()\n",
    "train_std = X_train.std()"
   ]
  },
  {
   "cell_type": "code",
   "execution_count": 88,
   "metadata": {},
   "outputs": [],
   "source": [
    "X_train = (X_train - train_mean) / train_std"
   ]
  },
  {
   "cell_type": "code",
   "execution_count": 89,
   "metadata": {},
   "outputs": [
    {
     "data": {
      "text/html": [
       "<div>\n",
       "<style scoped>\n",
       "    .dataframe tbody tr th:only-of-type {\n",
       "        vertical-align: middle;\n",
       "    }\n",
       "\n",
       "    .dataframe tbody tr th {\n",
       "        vertical-align: top;\n",
       "    }\n",
       "\n",
       "    .dataframe thead th {\n",
       "        text-align: right;\n",
       "    }\n",
       "</style>\n",
       "<table border=\"1\" class=\"dataframe\">\n",
       "  <thead>\n",
       "    <tr style=\"text-align: right;\">\n",
       "      <th></th>\n",
       "      <th>GP</th>\n",
       "      <th>MIN</th>\n",
       "      <th>PTS</th>\n",
       "      <th>FGM</th>\n",
       "      <th>FGA</th>\n",
       "      <th>FG%</th>\n",
       "      <th>3P Made</th>\n",
       "      <th>3PA</th>\n",
       "      <th>3P%</th>\n",
       "      <th>FTM</th>\n",
       "      <th>FTA</th>\n",
       "      <th>FT%</th>\n",
       "      <th>OREB</th>\n",
       "      <th>DREB</th>\n",
       "      <th>REB</th>\n",
       "      <th>AST</th>\n",
       "      <th>STL</th>\n",
       "      <th>BLK</th>\n",
       "      <th>TOV</th>\n",
       "    </tr>\n",
       "  </thead>\n",
       "  <tbody>\n",
       "    <tr>\n",
       "      <th>count</th>\n",
       "      <td>9.840000e+02</td>\n",
       "      <td>9.840000e+02</td>\n",
       "      <td>9.840000e+02</td>\n",
       "      <td>9.840000e+02</td>\n",
       "      <td>9.840000e+02</td>\n",
       "      <td>9.840000e+02</td>\n",
       "      <td>9.840000e+02</td>\n",
       "      <td>9.840000e+02</td>\n",
       "      <td>9.840000e+02</td>\n",
       "      <td>9.840000e+02</td>\n",
       "      <td>9.840000e+02</td>\n",
       "      <td>9.840000e+02</td>\n",
       "      <td>9.840000e+02</td>\n",
       "      <td>9.840000e+02</td>\n",
       "      <td>9.840000e+02</td>\n",
       "      <td>9.840000e+02</td>\n",
       "      <td>9.840000e+02</td>\n",
       "      <td>9.840000e+02</td>\n",
       "      <td>9.840000e+02</td>\n",
       "    </tr>\n",
       "    <tr>\n",
       "      <th>mean</th>\n",
       "      <td>3.384826e-17</td>\n",
       "      <td>1.358218e-15</td>\n",
       "      <td>-1.343212e-15</td>\n",
       "      <td>5.451827e-16</td>\n",
       "      <td>-1.886928e-15</td>\n",
       "      <td>-1.311665e-14</td>\n",
       "      <td>1.186043e-15</td>\n",
       "      <td>-1.324370e-15</td>\n",
       "      <td>5.325460e-17</td>\n",
       "      <td>-1.836550e-15</td>\n",
       "      <td>1.356695e-15</td>\n",
       "      <td>6.320035e-15</td>\n",
       "      <td>3.456754e-16</td>\n",
       "      <td>1.510535e-15</td>\n",
       "      <td>-1.996314e-15</td>\n",
       "      <td>6.514662e-16</td>\n",
       "      <td>-5.424748e-16</td>\n",
       "      <td>-2.123866e-15</td>\n",
       "      <td>-7.536880e-17</td>\n",
       "    </tr>\n",
       "    <tr>\n",
       "      <th>std</th>\n",
       "      <td>1.000000e+00</td>\n",
       "      <td>1.000000e+00</td>\n",
       "      <td>1.000000e+00</td>\n",
       "      <td>1.000000e+00</td>\n",
       "      <td>1.000000e+00</td>\n",
       "      <td>1.000000e+00</td>\n",
       "      <td>1.000000e+00</td>\n",
       "      <td>1.000000e+00</td>\n",
       "      <td>1.000000e+00</td>\n",
       "      <td>1.000000e+00</td>\n",
       "      <td>1.000000e+00</td>\n",
       "      <td>1.000000e+00</td>\n",
       "      <td>1.000000e+00</td>\n",
       "      <td>1.000000e+00</td>\n",
       "      <td>1.000000e+00</td>\n",
       "      <td>1.000000e+00</td>\n",
       "      <td>1.000000e+00</td>\n",
       "      <td>1.000000e+00</td>\n",
       "      <td>1.000000e+00</td>\n",
       "    </tr>\n",
       "    <tr>\n",
       "      <th>min</th>\n",
       "      <td>-2.845202e+00</td>\n",
       "      <td>-1.629782e+00</td>\n",
       "      <td>-1.420027e+00</td>\n",
       "      <td>-1.399677e+00</td>\n",
       "      <td>-1.424223e+00</td>\n",
       "      <td>-2.812406e+00</td>\n",
       "      <td>-6.520126e-01</td>\n",
       "      <td>-7.413625e-01</td>\n",
       "      <td>-1.228266e+00</td>\n",
       "      <td>-1.239768e+00</td>\n",
       "      <td>-1.328974e+00</td>\n",
       "      <td>-4.085970e+00</td>\n",
       "      <td>-1.308417e+00</td>\n",
       "      <td>-1.353180e+00</td>\n",
       "      <td>-1.342269e+00</td>\n",
       "      <td>-1.053552e+00</td>\n",
       "      <td>-1.523710e+00</td>\n",
       "      <td>-9.190461e-01</td>\n",
       "      <td>-1.506809e+00</td>\n",
       "    </tr>\n",
       "    <tr>\n",
       "      <th>25%</th>\n",
       "      <td>-7.655035e-01</td>\n",
       "      <td>-8.168270e-01</td>\n",
       "      <td>-7.364365e-01</td>\n",
       "      <td>-7.308572e-01</td>\n",
       "      <td>-7.461772e-01</td>\n",
       "      <td>-6.568735e-01</td>\n",
       "      <td>-6.520126e-01</td>\n",
       "      <td>-7.413625e-01</td>\n",
       "      <td>-1.228266e+00</td>\n",
       "      <td>-7.107428e-01</td>\n",
       "      <td>-6.973822e-01</td>\n",
       "      <td>-5.492547e-01</td>\n",
       "      <td>-7.801651e-01</td>\n",
       "      <td>-7.531557e-01</td>\n",
       "      <td>-7.448281e-01</td>\n",
       "      <td>-6.398944e-01</td>\n",
       "      <td>-7.777742e-01</td>\n",
       "      <td>-6.653027e-01</td>\n",
       "      <td>-6.663555e-01</td>\n",
       "    </tr>\n",
       "    <tr>\n",
       "      <th>50%</th>\n",
       "      <td>1.010378e-01</td>\n",
       "      <td>-1.737431e-01</td>\n",
       "      <td>-2.885666e-01</td>\n",
       "      <td>-3.052447e-01</td>\n",
       "      <td>-2.941470e-01</td>\n",
       "      <td>1.304316e-03</td>\n",
       "      <td>-3.920530e-01</td>\n",
       "      <td>-4.586103e-01</td>\n",
       "      <td>2.082489e-01</td>\n",
       "      <td>-2.875229e-01</td>\n",
       "      <td>-2.236886e-01</td>\n",
       "      <td>8.691529e-02</td>\n",
       "      <td>-2.519129e-01</td>\n",
       "      <td>-2.281343e-01</td>\n",
       "      <td>-2.469605e-01</td>\n",
       "      <td>-2.951796e-01</td>\n",
       "      <td>-2.804839e-01</td>\n",
       "      <td>-4.115594e-01</td>\n",
       "      <td>-2.461287e-01</td>\n",
       "    </tr>\n",
       "    <tr>\n",
       "      <th>75%</th>\n",
       "      <td>9.675790e-01</td>\n",
       "      <td>6.392119e-01</td>\n",
       "      <td>4.657407e-01</td>\n",
       "      <td>4.851784e-01</td>\n",
       "      <td>4.686541e-01</td>\n",
       "      <td>6.101188e-01</td>\n",
       "      <td>3.878260e-01</td>\n",
       "      <td>3.896464e-01</td>\n",
       "      <td>8.828287e-01</td>\n",
       "      <td>3.473070e-01</td>\n",
       "      <td>4.079028e-01</td>\n",
       "      <td>6.743366e-01</td>\n",
       "      <td>5.404653e-01</td>\n",
       "      <td>4.468932e-01</td>\n",
       "      <td>4.500541e-01</td>\n",
       "      <td>2.563641e-01</td>\n",
       "      <td>4.654516e-01</td>\n",
       "      <td>3.496707e-01</td>\n",
       "      <td>4.542492e-01</td>\n",
       "    </tr>\n",
       "    <tr>\n",
       "      <th>max</th>\n",
       "      <td>1.256426e+00</td>\n",
       "      <td>2.835404e+00</td>\n",
       "      <td>3.812979e+00</td>\n",
       "      <td>3.890078e+00</td>\n",
       "      <td>3.915385e+00</td>\n",
       "      <td>3.637737e+00</td>\n",
       "      <td>4.807140e+00</td>\n",
       "      <td>4.065425e+00</td>\n",
       "      <td>2.078307e+00</td>\n",
       "      <td>5.002726e+00</td>\n",
       "      <td>5.302736e+00</td>\n",
       "      <td>2.875339e+00</td>\n",
       "      <td>4.370294e+00</td>\n",
       "      <td>5.097083e+00</td>\n",
       "      <td>4.632142e+00</td>\n",
       "      <td>5.358143e+00</td>\n",
       "      <td>4.692420e+00</td>\n",
       "      <td>5.932025e+00</td>\n",
       "      <td>4.236290e+00</td>\n",
       "    </tr>\n",
       "  </tbody>\n",
       "</table>\n",
       "</div>"
      ],
      "text/plain": [
       "                 GP           MIN           PTS           FGM           FGA  \\\n",
       "count  9.840000e+02  9.840000e+02  9.840000e+02  9.840000e+02  9.840000e+02   \n",
       "mean   3.384826e-17  1.358218e-15 -1.343212e-15  5.451827e-16 -1.886928e-15   \n",
       "std    1.000000e+00  1.000000e+00  1.000000e+00  1.000000e+00  1.000000e+00   \n",
       "min   -2.845202e+00 -1.629782e+00 -1.420027e+00 -1.399677e+00 -1.424223e+00   \n",
       "25%   -7.655035e-01 -8.168270e-01 -7.364365e-01 -7.308572e-01 -7.461772e-01   \n",
       "50%    1.010378e-01 -1.737431e-01 -2.885666e-01 -3.052447e-01 -2.941470e-01   \n",
       "75%    9.675790e-01  6.392119e-01  4.657407e-01  4.851784e-01  4.686541e-01   \n",
       "max    1.256426e+00  2.835404e+00  3.812979e+00  3.890078e+00  3.915385e+00   \n",
       "\n",
       "                FG%       3P Made           3PA           3P%           FTM  \\\n",
       "count  9.840000e+02  9.840000e+02  9.840000e+02  9.840000e+02  9.840000e+02   \n",
       "mean  -1.311665e-14  1.186043e-15 -1.324370e-15  5.325460e-17 -1.836550e-15   \n",
       "std    1.000000e+00  1.000000e+00  1.000000e+00  1.000000e+00  1.000000e+00   \n",
       "min   -2.812406e+00 -6.520126e-01 -7.413625e-01 -1.228266e+00 -1.239768e+00   \n",
       "25%   -6.568735e-01 -6.520126e-01 -7.413625e-01 -1.228266e+00 -7.107428e-01   \n",
       "50%    1.304316e-03 -3.920530e-01 -4.586103e-01  2.082489e-01 -2.875229e-01   \n",
       "75%    6.101188e-01  3.878260e-01  3.896464e-01  8.828287e-01  3.473070e-01   \n",
       "max    3.637737e+00  4.807140e+00  4.065425e+00  2.078307e+00  5.002726e+00   \n",
       "\n",
       "                FTA           FT%          OREB          DREB           REB  \\\n",
       "count  9.840000e+02  9.840000e+02  9.840000e+02  9.840000e+02  9.840000e+02   \n",
       "mean   1.356695e-15  6.320035e-15  3.456754e-16  1.510535e-15 -1.996314e-15   \n",
       "std    1.000000e+00  1.000000e+00  1.000000e+00  1.000000e+00  1.000000e+00   \n",
       "min   -1.328974e+00 -4.085970e+00 -1.308417e+00 -1.353180e+00 -1.342269e+00   \n",
       "25%   -6.973822e-01 -5.492547e-01 -7.801651e-01 -7.531557e-01 -7.448281e-01   \n",
       "50%   -2.236886e-01  8.691529e-02 -2.519129e-01 -2.281343e-01 -2.469605e-01   \n",
       "75%    4.079028e-01  6.743366e-01  5.404653e-01  4.468932e-01  4.500541e-01   \n",
       "max    5.302736e+00  2.875339e+00  4.370294e+00  5.097083e+00  4.632142e+00   \n",
       "\n",
       "                AST           STL           BLK           TOV  \n",
       "count  9.840000e+02  9.840000e+02  9.840000e+02  9.840000e+02  \n",
       "mean   6.514662e-16 -5.424748e-16 -2.123866e-15 -7.536880e-17  \n",
       "std    1.000000e+00  1.000000e+00  1.000000e+00  1.000000e+00  \n",
       "min   -1.053552e+00 -1.523710e+00 -9.190461e-01 -1.506809e+00  \n",
       "25%   -6.398944e-01 -7.777742e-01 -6.653027e-01 -6.663555e-01  \n",
       "50%   -2.951796e-01 -2.804839e-01 -4.115594e-01 -2.461287e-01  \n",
       "75%    2.563641e-01  4.654516e-01  3.496707e-01  4.542492e-01  \n",
       "max    5.358143e+00  4.692420e+00  5.932025e+00  4.236290e+00  "
      ]
     },
     "execution_count": 89,
     "metadata": {},
     "output_type": "execute_result"
    }
   ],
   "source": [
    "X_train.describe()"
   ]
  },
  {
   "cell_type": "code",
   "execution_count": 90,
   "metadata": {},
   "outputs": [],
   "source": [
    "X_test = (X_test - train_mean) / train_std"
   ]
  },
  {
   "cell_type": "code",
   "execution_count": 91,
   "metadata": {},
   "outputs": [
    {
     "data": {
      "text/html": [
       "<div>\n",
       "<style scoped>\n",
       "    .dataframe tbody tr th:only-of-type {\n",
       "        vertical-align: middle;\n",
       "    }\n",
       "\n",
       "    .dataframe tbody tr th {\n",
       "        vertical-align: top;\n",
       "    }\n",
       "\n",
       "    .dataframe thead th {\n",
       "        text-align: right;\n",
       "    }\n",
       "</style>\n",
       "<table border=\"1\" class=\"dataframe\">\n",
       "  <thead>\n",
       "    <tr style=\"text-align: right;\">\n",
       "      <th></th>\n",
       "      <th>GP</th>\n",
       "      <th>MIN</th>\n",
       "      <th>PTS</th>\n",
       "      <th>FGM</th>\n",
       "      <th>FGA</th>\n",
       "      <th>FG%</th>\n",
       "      <th>3P Made</th>\n",
       "      <th>3PA</th>\n",
       "      <th>3P%</th>\n",
       "      <th>FTM</th>\n",
       "      <th>FTA</th>\n",
       "      <th>FT%</th>\n",
       "      <th>OREB</th>\n",
       "      <th>DREB</th>\n",
       "      <th>REB</th>\n",
       "      <th>AST</th>\n",
       "      <th>STL</th>\n",
       "      <th>BLK</th>\n",
       "      <th>TOV</th>\n",
       "    </tr>\n",
       "  </thead>\n",
       "  <tbody>\n",
       "    <tr>\n",
       "      <th>count</th>\n",
       "      <td>328.000000</td>\n",
       "      <td>328.000000</td>\n",
       "      <td>328.000000</td>\n",
       "      <td>328.000000</td>\n",
       "      <td>328.000000</td>\n",
       "      <td>328.000000</td>\n",
       "      <td>328.000000</td>\n",
       "      <td>328.000000</td>\n",
       "      <td>328.000000</td>\n",
       "      <td>328.000000</td>\n",
       "      <td>328.000000</td>\n",
       "      <td>328.000000</td>\n",
       "      <td>328.000000</td>\n",
       "      <td>328.000000</td>\n",
       "      <td>328.000000</td>\n",
       "      <td>328.000000</td>\n",
       "      <td>328.000000</td>\n",
       "      <td>328.000000</td>\n",
       "      <td>328.000000</td>\n",
       "    </tr>\n",
       "    <tr>\n",
       "      <th>mean</th>\n",
       "      <td>0.018258</td>\n",
       "      <td>0.000382</td>\n",
       "      <td>0.009606</td>\n",
       "      <td>0.010072</td>\n",
       "      <td>-0.002412</td>\n",
       "      <td>0.033611</td>\n",
       "      <td>-0.056008</td>\n",
       "      <td>-0.056033</td>\n",
       "      <td>-0.000789</td>\n",
       "      <td>0.031505</td>\n",
       "      <td>0.040357</td>\n",
       "      <td>-0.046638</td>\n",
       "      <td>0.047645</td>\n",
       "      <td>0.002592</td>\n",
       "      <td>0.015634</td>\n",
       "      <td>0.018637</td>\n",
       "      <td>0.022742</td>\n",
       "      <td>-0.039454</td>\n",
       "      <td>0.037866</td>\n",
       "    </tr>\n",
       "    <tr>\n",
       "      <th>std</th>\n",
       "      <td>1.011584</td>\n",
       "      <td>0.980169</td>\n",
       "      <td>0.984359</td>\n",
       "      <td>0.999085</td>\n",
       "      <td>0.979138</td>\n",
       "      <td>0.983559</td>\n",
       "      <td>0.905094</td>\n",
       "      <td>0.900421</td>\n",
       "      <td>1.005049</td>\n",
       "      <td>0.960512</td>\n",
       "      <td>0.959364</td>\n",
       "      <td>1.047490</td>\n",
       "      <td>1.015325</td>\n",
       "      <td>0.973646</td>\n",
       "      <td>0.992538</td>\n",
       "      <td>0.958121</td>\n",
       "      <td>0.992125</td>\n",
       "      <td>0.987205</td>\n",
       "      <td>0.953656</td>\n",
       "    </tr>\n",
       "    <tr>\n",
       "      <th>min</th>\n",
       "      <td>-2.614125</td>\n",
       "      <td>-1.605515</td>\n",
       "      <td>-1.325739</td>\n",
       "      <td>-1.338875</td>\n",
       "      <td>-1.311215</td>\n",
       "      <td>-3.338948</td>\n",
       "      <td>-0.652013</td>\n",
       "      <td>-0.741363</td>\n",
       "      <td>-1.228266</td>\n",
       "      <td>-1.239768</td>\n",
       "      <td>-1.328974</td>\n",
       "      <td>-3.822727</td>\n",
       "      <td>-1.176354</td>\n",
       "      <td>-1.278177</td>\n",
       "      <td>-1.292482</td>\n",
       "      <td>-1.053552</td>\n",
       "      <td>-1.523710</td>\n",
       "      <td>-0.919046</td>\n",
       "      <td>-1.506809</td>\n",
       "    </tr>\n",
       "    <tr>\n",
       "      <th>25%</th>\n",
       "      <td>-0.722176</td>\n",
       "      <td>-0.819860</td>\n",
       "      <td>-0.689292</td>\n",
       "      <td>-0.730857</td>\n",
       "      <td>-0.696736</td>\n",
       "      <td>-0.595169</td>\n",
       "      <td>-0.652013</td>\n",
       "      <td>-0.741363</td>\n",
       "      <td>-1.228266</td>\n",
       "      <td>-0.604938</td>\n",
       "      <td>-0.618433</td>\n",
       "      <td>-0.615065</td>\n",
       "      <td>-0.681118</td>\n",
       "      <td>-0.753156</td>\n",
       "      <td>-0.744828</td>\n",
       "      <td>-0.639894</td>\n",
       "      <td>-0.777774</td>\n",
       "      <td>-0.665303</td>\n",
       "      <td>-0.666356</td>\n",
       "    </tr>\n",
       "    <tr>\n",
       "      <th>50%</th>\n",
       "      <td>0.216577</td>\n",
       "      <td>-0.191944</td>\n",
       "      <td>-0.264995</td>\n",
       "      <td>-0.305245</td>\n",
       "      <td>-0.294147</td>\n",
       "      <td>-0.039832</td>\n",
       "      <td>-0.392053</td>\n",
       "      <td>-0.458610</td>\n",
       "      <td>0.237367</td>\n",
       "      <td>-0.181718</td>\n",
       "      <td>-0.223689</td>\n",
       "      <td>0.047916</td>\n",
       "      <td>-0.251913</td>\n",
       "      <td>-0.228134</td>\n",
       "      <td>-0.246961</td>\n",
       "      <td>-0.226237</td>\n",
       "      <td>-0.280484</td>\n",
       "      <td>-0.411559</td>\n",
       "      <td>-0.246129</td>\n",
       "    </tr>\n",
       "    <tr>\n",
       "      <th>75%</th>\n",
       "      <td>0.967579</td>\n",
       "      <td>0.642245</td>\n",
       "      <td>0.471634</td>\n",
       "      <td>0.485178</td>\n",
       "      <td>0.440402</td>\n",
       "      <td>0.630687</td>\n",
       "      <td>0.127866</td>\n",
       "      <td>0.295396</td>\n",
       "      <td>0.829445</td>\n",
       "      <td>0.453112</td>\n",
       "      <td>0.486852</td>\n",
       "      <td>0.701148</td>\n",
       "      <td>0.672528</td>\n",
       "      <td>0.521896</td>\n",
       "      <td>0.499841</td>\n",
       "      <td>0.342543</td>\n",
       "      <td>0.465452</td>\n",
       "      <td>0.095927</td>\n",
       "      <td>0.454249</td>\n",
       "    </tr>\n",
       "    <tr>\n",
       "      <th>max</th>\n",
       "      <td>1.256426</td>\n",
       "      <td>2.362191</td>\n",
       "      <td>4.001556</td>\n",
       "      <td>4.376492</td>\n",
       "      <td>3.632866</td>\n",
       "      <td>3.588374</td>\n",
       "      <td>4.287221</td>\n",
       "      <td>3.876924</td>\n",
       "      <td>3.087750</td>\n",
       "      <td>4.156286</td>\n",
       "      <td>3.644809</td>\n",
       "      <td>2.875339</td>\n",
       "      <td>4.370294</td>\n",
       "      <td>3.672025</td>\n",
       "      <td>3.785767</td>\n",
       "      <td>4.599771</td>\n",
       "      <td>3.946484</td>\n",
       "      <td>5.678281</td>\n",
       "      <td>3.816063</td>\n",
       "    </tr>\n",
       "  </tbody>\n",
       "</table>\n",
       "</div>"
      ],
      "text/plain": [
       "               GP         MIN         PTS         FGM         FGA         FG%  \\\n",
       "count  328.000000  328.000000  328.000000  328.000000  328.000000  328.000000   \n",
       "mean     0.018258    0.000382    0.009606    0.010072   -0.002412    0.033611   \n",
       "std      1.011584    0.980169    0.984359    0.999085    0.979138    0.983559   \n",
       "min     -2.614125   -1.605515   -1.325739   -1.338875   -1.311215   -3.338948   \n",
       "25%     -0.722176   -0.819860   -0.689292   -0.730857   -0.696736   -0.595169   \n",
       "50%      0.216577   -0.191944   -0.264995   -0.305245   -0.294147   -0.039832   \n",
       "75%      0.967579    0.642245    0.471634    0.485178    0.440402    0.630687   \n",
       "max      1.256426    2.362191    4.001556    4.376492    3.632866    3.588374   \n",
       "\n",
       "          3P Made         3PA         3P%         FTM         FTA         FT%  \\\n",
       "count  328.000000  328.000000  328.000000  328.000000  328.000000  328.000000   \n",
       "mean    -0.056008   -0.056033   -0.000789    0.031505    0.040357   -0.046638   \n",
       "std      0.905094    0.900421    1.005049    0.960512    0.959364    1.047490   \n",
       "min     -0.652013   -0.741363   -1.228266   -1.239768   -1.328974   -3.822727   \n",
       "25%     -0.652013   -0.741363   -1.228266   -0.604938   -0.618433   -0.615065   \n",
       "50%     -0.392053   -0.458610    0.237367   -0.181718   -0.223689    0.047916   \n",
       "75%      0.127866    0.295396    0.829445    0.453112    0.486852    0.701148   \n",
       "max      4.287221    3.876924    3.087750    4.156286    3.644809    2.875339   \n",
       "\n",
       "             OREB        DREB         REB         AST         STL         BLK  \\\n",
       "count  328.000000  328.000000  328.000000  328.000000  328.000000  328.000000   \n",
       "mean     0.047645    0.002592    0.015634    0.018637    0.022742   -0.039454   \n",
       "std      1.015325    0.973646    0.992538    0.958121    0.992125    0.987205   \n",
       "min     -1.176354   -1.278177   -1.292482   -1.053552   -1.523710   -0.919046   \n",
       "25%     -0.681118   -0.753156   -0.744828   -0.639894   -0.777774   -0.665303   \n",
       "50%     -0.251913   -0.228134   -0.246961   -0.226237   -0.280484   -0.411559   \n",
       "75%      0.672528    0.521896    0.499841    0.342543    0.465452    0.095927   \n",
       "max      4.370294    3.672025    3.785767    4.599771    3.946484    5.678281   \n",
       "\n",
       "              TOV  \n",
       "count  328.000000  \n",
       "mean     0.037866  \n",
       "std      0.953656  \n",
       "min     -1.506809  \n",
       "25%     -0.666356  \n",
       "50%     -0.246129  \n",
       "75%      0.454249  \n",
       "max      3.816063  "
      ]
     },
     "execution_count": 91,
     "metadata": {},
     "output_type": "execute_result"
    }
   ],
   "source": [
    "X_test.describe()"
   ]
  },
  {
   "cell_type": "code",
   "execution_count": null,
   "metadata": {},
   "outputs": [],
   "source": []
  },
  {
   "cell_type": "markdown",
   "metadata": {},
   "source": [
    "### Model - Logistic Regression "
   ]
  },
  {
   "cell_type": "code",
   "execution_count": 92,
   "metadata": {},
   "outputs": [
    {
     "name": "stdout",
     "output_type": "stream",
     "text": [
      "[[ 67  62]\n",
      " [ 28 171]]\n",
      "              precision    recall  f1-score   support\n",
      "\n",
      "         0.0       0.71      0.52      0.60       129\n",
      "         1.0       0.73      0.86      0.79       199\n",
      "\n",
      "    accuracy                           0.73       328\n",
      "   macro avg       0.72      0.69      0.69       328\n",
      "weighted avg       0.72      0.73      0.72       328\n",
      "\n",
      "Score: \n",
      " 71.65\n",
      "Test Score: \n",
      " 72.56\n",
      "Accuracy: \n",
      " 0.725609756097561\n"
     ]
    }
   ],
   "source": [
    "from sklearn.linear_model import LogisticRegression\n",
    "\n",
    "lr_as_af =  LogisticRegression(random_state = 11)\n",
    "lr_as_af.fit(X_train, y_train)\n",
    "y_pred = lr_as_af.predict(X_test)\n",
    "\n",
    "print(confusion_matrix(y_test, y_pred))\n",
    "print(classification_report(y_test, y_pred))\n",
    "\n",
    "lr_as_af_score = round(lr_as_af.score(X_train, y_train) * 100, 2)\n",
    "lr_as_af_score_test = round(lr_as_af.score(X_test, y_test) * 100, 2)\n",
    "print('Score: \\n', lr_as_af_score)\n",
    "print('Test Score: \\n', lr_as_af_score_test)\n",
    "print('Accuracy: \\n', accuracy_score(y_test, y_pred))"
   ]
  },
  {
   "cell_type": "markdown",
   "metadata": {},
   "source": [
    "### GridSearch CV"
   ]
  },
  {
   "cell_type": "code",
   "execution_count": 93,
   "metadata": {},
   "outputs": [
    {
     "name": "stdout",
     "output_type": "stream",
     "text": [
      "Fitting 5 folds for each of 800 candidates, totalling 4000 fits\n"
     ]
    },
    {
     "name": "stderr",
     "output_type": "stream",
     "text": [
      "[Parallel(n_jobs=-1)]: Using backend LokyBackend with 8 concurrent workers.\n",
      "[Parallel(n_jobs=-1)]: Done  56 tasks      | elapsed:    0.1s\n",
      "[Parallel(n_jobs=-1)]: Done 2814 tasks      | elapsed:   15.5s\n",
      "[Parallel(n_jobs=-1)]: Done 3296 tasks      | elapsed:   31.3s\n"
     ]
    },
    {
     "name": "stdout",
     "output_type": "stream",
     "text": [
      "{'C': 0.615848211066026, 'class_weight': None, 'dual': False, 'fit_intercept': True, 'intercept_scaling': 1, 'l1_ratio': None, 'max_iter': 100, 'multi_class': 'auto', 'n_jobs': None, 'penalty': 'l1', 'random_state': 11, 'solver': 'liblinear', 'tol': 0.0001, 'verbose': 0, 'warm_start': False} \n",
      "\n",
      "Model accuracy is 0.7164634146341463\n"
     ]
    },
    {
     "name": "stderr",
     "output_type": "stream",
     "text": [
      "[Parallel(n_jobs=-1)]: Done 4000 out of 4000 | elapsed:  1.0min finished\n"
     ]
    }
   ],
   "source": [
    "kfold = StratifiedKFold(n_splits=5)\n",
    "\n",
    "param_grid = [\n",
    "    {'penalty' : ['l1', 'l2'],\n",
    "    'C': np.logspace(-4, 4, 20),\n",
    "    'solver' : ['lbfgs','newton-cg','liblinear','sag','saga'],\n",
    "    'max_iter' : [100, 1000,2500, 5000]}\n",
    "]\n",
    "\n",
    "lr_as_af_gscv = GridSearchCV(lr_as_af, param_grid = param_grid, cv = kfold, verbose=True, n_jobs=-1)\n",
    "best_lr_as_af_gscv = lr_as_af_gscv.fit(X_train, y_train)\n",
    "\n",
    "print(best_lr_as_af_gscv.best_estimator_.get_params(), '\\n')\n",
    "print('Model accuracy is',best_lr_as_af_gscv.score(X_test, y_test))"
   ]
  },
  {
   "cell_type": "code",
   "execution_count": 94,
   "metadata": {},
   "outputs": [
    {
     "name": "stdout",
     "output_type": "stream",
     "text": [
      "\n",
      " Accuracy          :  0.7164634146341463 \n",
      " Balanced Accuracy :  0.7054919312857887 \n",
      " Precision         :  0.8341708542713567 \n",
      " Average Precision :  0.7956363947950414 \n",
      " F1-Score          :  0.7811764705882354 \n",
      " Recall            :  0.7345132743362832 \n",
      " ROC-AUC           :  0.7850103229324921 \n",
      "\n",
      "              precision    recall  f1-score   support\n",
      "\n",
      "         0.0       0.53      0.68      0.60       102\n",
      "         1.0       0.83      0.73      0.78       226\n",
      "\n",
      "    accuracy                           0.72       328\n",
      "   macro avg       0.68      0.71      0.69       328\n",
      "weighted avg       0.74      0.72      0.72       328\n",
      "\n"
     ]
    }
   ],
   "source": [
    "import sklearn.metrics as metrics\n",
    "\n",
    "probs = best_lr_as_af_gscv.predict_proba(X_test)\n",
    "preds = probs[:,1]\n",
    "\n",
    "fpr, tpr, threshold = metrics.roc_curve(y_test, preds)\n",
    "roc_auc = metrics.auc(fpr, tpr)\n",
    "\n",
    "classes = best_lr_as_af_gscv.predict(X_test)\n",
    "    \n",
    "accuracy = metrics.accuracy_score(classes, y_test)\n",
    "    \n",
    "balanced_accuracy = metrics.balanced_accuracy_score(classes, y_test)\n",
    "\n",
    "precision = metrics.precision_score(classes, y_test)\n",
    "    \n",
    "average_precision = metrics.average_precision_score(classes, y_test)\n",
    "    \n",
    "f1_score = metrics.f1_score(classes, y_test)\n",
    "    \n",
    "recall = metrics.recall_score(classes, y_test)\n",
    "\n",
    "print (\"\\n Accuracy          : \", accuracy, \"\\n Balanced Accuracy : \", balanced_accuracy, \"\\n Precision         : \", precision, \"\\n Average Precision : \", average_precision, \"\\n F1-Score          : \", f1_score, \"\\n Recall            : \", recall, \"\\n ROC-AUC           : \", roc_auc, \"\\n\")\n",
    "\n",
    "print(metrics.classification_report(classes, y_test))"
   ]
  },
  {
   "cell_type": "markdown",
   "metadata": {},
   "source": [
    "### RandomSearch CV"
   ]
  },
  {
   "cell_type": "code",
   "execution_count": 95,
   "metadata": {},
   "outputs": [
    {
     "name": "stdout",
     "output_type": "stream",
     "text": [
      "Fitting 5 folds for each of 10 candidates, totalling 50 fits\n"
     ]
    },
    {
     "name": "stderr",
     "output_type": "stream",
     "text": [
      "[Parallel(n_jobs=-1)]: Using backend LokyBackend with 8 concurrent workers.\n"
     ]
    },
    {
     "name": "stdout",
     "output_type": "stream",
     "text": [
      "{'C': 0.615848211066026, 'class_weight': None, 'dual': False, 'fit_intercept': True, 'intercept_scaling': 1, 'l1_ratio': None, 'max_iter': 1000, 'multi_class': 'auto', 'n_jobs': None, 'penalty': 'l2', 'random_state': 11, 'solver': 'newton-cg', 'tol': 0.0001, 'verbose': 0, 'warm_start': False} \n",
      "\n",
      "Model accuracy is 0.725609756097561\n"
     ]
    },
    {
     "name": "stderr",
     "output_type": "stream",
     "text": [
      "[Parallel(n_jobs=-1)]: Done  50 out of  50 | elapsed:    1.5s finished\n"
     ]
    }
   ],
   "source": [
    "kfold = StratifiedKFold(n_splits=5)\n",
    "\n",
    "param_grid = [\n",
    "    {'penalty' : ['l1', 'l2'],\n",
    "    'C': np.logspace(-4, 4, 20),\n",
    "    'solver' : ['lbfgs','newton-cg','liblinear','sag','saga'],\n",
    "    'max_iter' : [100, 1000,2500, 5000]}\n",
    "]\n",
    "\n",
    "lr_as_af_rscv = RandomizedSearchCV(lr_as_af, param_distributions = param_grid, cv = kfold, verbose=True, n_jobs=-1, random_state = 11)\n",
    "best_lr_as_af_rscv = lr_as_af_rscv.fit(X_train, y_train)\n",
    "\n",
    "print(best_lr_as_af_rscv.best_estimator_.get_params(), '\\n')\n",
    "print('Model accuracy is',best_lr_as_af_rscv.score(X_test, y_test))"
   ]
  },
  {
   "cell_type": "code",
   "execution_count": 96,
   "metadata": {},
   "outputs": [
    {
     "name": "stdout",
     "output_type": "stream",
     "text": [
      "\n",
      " Accuracy          :  0.725609756097561 \n",
      " Balanced Accuracy :  0.7184808318828937 \n",
      " Precision         :  0.8542713567839196 \n",
      " Average Precision :  0.8146601580386358 \n",
      " F1-Score          :  0.7906976744186045 \n",
      " Recall            :  0.7359307359307359 \n",
      " ROC-AUC           :  0.786217911261735 \n",
      "\n",
      "              precision    recall  f1-score   support\n",
      "\n",
      "         0.0       0.53      0.70      0.60        97\n",
      "         1.0       0.85      0.74      0.79       231\n",
      "\n",
      "    accuracy                           0.73       328\n",
      "   macro avg       0.69      0.72      0.70       328\n",
      "weighted avg       0.76      0.73      0.73       328\n",
      "\n"
     ]
    }
   ],
   "source": [
    "import sklearn.metrics as metrics\n",
    "\n",
    "probs = best_lr_as_af_rscv.predict_proba(X_test)\n",
    "preds = probs[:,1]\n",
    "\n",
    "fpr, tpr, threshold = metrics.roc_curve(y_test, preds)\n",
    "roc_auc = metrics.auc(fpr, tpr)\n",
    "\n",
    "classes = best_lr_as_af_rscv.predict(X_test)\n",
    "    \n",
    "accuracy = metrics.accuracy_score(classes, y_test)\n",
    "    \n",
    "balanced_accuracy = metrics.balanced_accuracy_score(classes, y_test)\n",
    "\n",
    "precision = metrics.precision_score(classes, y_test)\n",
    "    \n",
    "average_precision = metrics.average_precision_score(classes, y_test)\n",
    "    \n",
    "f1_score = metrics.f1_score(classes, y_test)\n",
    "    \n",
    "recall = metrics.recall_score(classes, y_test)\n",
    "\n",
    "print (\"\\n Accuracy          : \", accuracy, \"\\n Balanced Accuracy : \", balanced_accuracy, \"\\n Precision         : \", precision, \"\\n Average Precision : \", average_precision, \"\\n F1-Score          : \", f1_score, \"\\n Recall            : \", recall, \"\\n ROC-AUC           : \", roc_auc, \"\\n\")\n",
    "\n",
    "print(metrics.classification_report(classes, y_test))"
   ]
  },
  {
   "cell_type": "markdown",
   "metadata": {},
   "source": [
    "### Bayesian Optimization"
   ]
  },
  {
   "cell_type": "code",
   "execution_count": 97,
   "metadata": {},
   "outputs": [],
   "source": [
    "from hyperopt import fmin, tpe, hp, STATUS_OK, Trials\n",
    "import sklearn"
   ]
  },
  {
   "cell_type": "code",
   "execution_count": 98,
   "metadata": {},
   "outputs": [],
   "source": [
    "import warnings\n",
    "warnings.filterwarnings('ignore')"
   ]
  },
  {
   "cell_type": "code",
   "execution_count": 99,
   "metadata": {},
   "outputs": [
    {
     "name": "stdout",
     "output_type": "stream",
     "text": [
      "100%|█████████████████████████████████████████████| 100/100 [00:06<00:00, 15.67trial/s, best loss: -0.7094064021547706]\n",
      "best:\n",
      "{'C': 0.43307347584912836, 'max_iter': 3, 'penalty': 1, 'solver': 4}\n",
      "Accuracy :  70.94064021547706\n"
     ]
    }
   ],
   "source": [
    "def f(params):\n",
    "    acc = hyperopt_train_test(params)\n",
    "    return {'loss': -acc, 'status': STATUS_OK}\n",
    "\n",
    "def hyperopt_train_test(params):\n",
    "    lr_as_af_bo = LogisticRegression(**params, random_state = 11)\n",
    "    return sklearn.model_selection.cross_val_score(lr_as_af_bo, X_train, y_train).mean()\n",
    "\n",
    "param_grid = {\n",
    "    'C': hp.uniform('C', 0, 20),\n",
    "    'penalty': hp.choice('penalty', ['l1', 'l2']),\n",
    "    'solver': hp.choice('solver', ['lbfgs','newton-cg','liblinear','sag','saga']),\n",
    "    'max_iter' : hp.choice('max_iter', [100, 1000,2500, 5000])\n",
    "}\n",
    "\n",
    "trials = Trials()\n",
    "best = fmin(f, param_grid, algo=tpe.suggest, max_evals=100, trials=trials)\n",
    "print('best:')\n",
    "print(best)\n",
    "print(\"Accuracy : \", -trials.best_trial['result']['loss']*100)"
   ]
  },
  {
   "cell_type": "code",
   "execution_count": null,
   "metadata": {},
   "outputs": [],
   "source": []
  },
  {
   "cell_type": "code",
   "execution_count": null,
   "metadata": {},
   "outputs": [],
   "source": []
  },
  {
   "cell_type": "markdown",
   "metadata": {},
   "source": [
    "### 10 Features"
   ]
  },
  {
   "cell_type": "code",
   "execution_count": 100,
   "metadata": {},
   "outputs": [],
   "source": [
    "X_train, X_test, y_train, y_test = train_test_split(X, y, test_size = 0.25, random_state = 11)"
   ]
  },
  {
   "cell_type": "code",
   "execution_count": 101,
   "metadata": {},
   "outputs": [
    {
     "data": {
      "text/plain": [
       "Index(['GP', 'MIN', 'PTS', 'FGM', 'FGA', 'FG%', '3P Made', '3PA', '3P%', 'FTM',\n",
       "       'FTA', 'FT%', 'OREB', 'DREB', 'REB', 'AST', 'STL', 'BLK', 'TOV'],\n",
       "      dtype='object')"
      ]
     },
     "execution_count": 101,
     "metadata": {},
     "output_type": "execute_result"
    }
   ],
   "source": [
    "X_train.columns"
   ]
  },
  {
   "cell_type": "code",
   "execution_count": 102,
   "metadata": {},
   "outputs": [],
   "source": [
    "X_train = X_train[['FGM', 'REB', 'FTM', 'FTA', 'GP', 'MIN', 'TOV', 'FG%', 'DREB', 'AST']]\n",
    "X_test = X_test[['FGM', 'REB', 'FTM', 'FTA', 'GP', 'MIN', 'TOV', 'FG%', 'DREB', 'AST']]"
   ]
  },
  {
   "cell_type": "code",
   "execution_count": null,
   "metadata": {},
   "outputs": [],
   "source": []
  },
  {
   "cell_type": "markdown",
   "metadata": {},
   "source": [
    "### Before Standardization"
   ]
  },
  {
   "cell_type": "markdown",
   "metadata": {},
   "source": [
    "### Model - Logistic Regression "
   ]
  },
  {
   "cell_type": "code",
   "execution_count": 103,
   "metadata": {},
   "outputs": [
    {
     "name": "stdout",
     "output_type": "stream",
     "text": [
      "[[ 66  63]\n",
      " [ 34 165]]\n",
      "              precision    recall  f1-score   support\n",
      "\n",
      "         0.0       0.66      0.51      0.58       129\n",
      "         1.0       0.72      0.83      0.77       199\n",
      "\n",
      "    accuracy                           0.70       328\n",
      "   macro avg       0.69      0.67      0.67       328\n",
      "weighted avg       0.70      0.70      0.70       328\n",
      "\n",
      "Score: \n",
      " 70.83\n",
      "Test Score: \n",
      " 70.43\n",
      "Accuracy: \n",
      " 0.7042682926829268\n"
     ]
    }
   ],
   "source": [
    "from sklearn.linear_model import LogisticRegression\n",
    "\n",
    "lr_bs_tf =  LogisticRegression(random_state = 11)\n",
    "lr_bs_tf.fit(X_train, y_train)\n",
    "y_pred = lr_bs_tf.predict(X_test)\n",
    "\n",
    "print(confusion_matrix(y_test, y_pred))\n",
    "print(classification_report(y_test, y_pred))\n",
    "\n",
    "lr_bs_tf_score = round(lr_bs_tf.score(X_train, y_train) * 100, 2)\n",
    "lr_bs_tf_score_test = round(lr_bs_tf.score(X_test, y_test) * 100, 2)\n",
    "print('Score: \\n', lr_bs_tf_score)\n",
    "print('Test Score: \\n', lr_bs_tf_score_test)\n",
    "print('Accuracy: \\n', accuracy_score(y_test, y_pred))"
   ]
  },
  {
   "cell_type": "markdown",
   "metadata": {},
   "source": [
    "### GridSearch CV"
   ]
  },
  {
   "cell_type": "code",
   "execution_count": 104,
   "metadata": {},
   "outputs": [
    {
     "name": "stdout",
     "output_type": "stream",
     "text": [
      "Fitting 5 folds for each of 800 candidates, totalling 4000 fits\n"
     ]
    },
    {
     "name": "stderr",
     "output_type": "stream",
     "text": [
      "[Parallel(n_jobs=-1)]: Using backend LokyBackend with 8 concurrent workers.\n",
      "[Parallel(n_jobs=-1)]: Done  62 tasks      | elapsed:    0.2s\n",
      "[Parallel(n_jobs=-1)]: Done 964 tasks      | elapsed:   13.7s\n",
      "[Parallel(n_jobs=-1)]: Done 1592 tasks      | elapsed:   26.5s\n",
      "[Parallel(n_jobs=-1)]: Done 2456 tasks      | elapsed:   43.7s\n",
      "[Parallel(n_jobs=-1)]: Done 3468 tasks      | elapsed:  1.1min\n",
      "[Parallel(n_jobs=-1)]: Done 4000 out of 4000 | elapsed:  1.4min finished\n"
     ]
    },
    {
     "name": "stdout",
     "output_type": "stream",
     "text": [
      "{'C': 4.281332398719396, 'class_weight': None, 'dual': False, 'fit_intercept': True, 'intercept_scaling': 1, 'l1_ratio': None, 'max_iter': 2500, 'multi_class': 'auto', 'n_jobs': None, 'penalty': 'l2', 'random_state': 11, 'solver': 'sag', 'tol': 0.0001, 'verbose': 0, 'warm_start': False} \n",
      "\n",
      "Model accuracy is 0.7134146341463414\n"
     ]
    }
   ],
   "source": [
    "kfold = StratifiedKFold(n_splits=5)\n",
    "\n",
    "param_grid = [\n",
    "    {'penalty' : ['l1', 'l2'],\n",
    "    'C': np.logspace(-4, 4, 20),\n",
    "    'solver' : ['lbfgs','newton-cg','liblinear','sag','saga'],\n",
    "    'max_iter' : [100, 1000,2500, 5000]}\n",
    "]\n",
    "\n",
    "lr_bs_tf_gscv = GridSearchCV(lr_bs_tf, param_grid = param_grid, cv = kfold, verbose=True, n_jobs=-1)\n",
    "best_lr_bs_tf_gscv = lr_bs_tf_gscv.fit(X_train, y_train)\n",
    "\n",
    "print(best_lr_bs_tf_gscv.best_estimator_.get_params(), '\\n')\n",
    "print('Model accuracy is',best_lr_bs_tf_gscv.score(X_test, y_test))"
   ]
  },
  {
   "cell_type": "code",
   "execution_count": 105,
   "metadata": {},
   "outputs": [
    {
     "name": "stdout",
     "output_type": "stream",
     "text": [
      "\n",
      " Accuracy          :  0.7134146341463414 \n",
      " Balanced Accuracy :  0.7022724298861605 \n",
      " Precision         :  0.8341708542713567 \n",
      " Average Precision :  0.7959860142012306 \n",
      " F1-Score          :  0.7793427230046948 \n",
      " Recall            :  0.7312775330396476 \n",
      " ROC-AUC           :  0.7805695142378559 \n",
      "\n",
      "              precision    recall  f1-score   support\n",
      "\n",
      "         0.0       0.53      0.67      0.59       101\n",
      "         1.0       0.83      0.73      0.78       227\n",
      "\n",
      "    accuracy                           0.71       328\n",
      "   macro avg       0.68      0.70      0.69       328\n",
      "weighted avg       0.74      0.71      0.72       328\n",
      "\n"
     ]
    }
   ],
   "source": [
    "import sklearn.metrics as metrics\n",
    "\n",
    "probs = best_lr_bs_tf_gscv.predict_proba(X_test)\n",
    "preds = probs[:,1]\n",
    "\n",
    "fpr, tpr, threshold = metrics.roc_curve(y_test, preds)\n",
    "roc_auc = metrics.auc(fpr, tpr)\n",
    "\n",
    "classes = best_lr_bs_tf_gscv.predict(X_test)\n",
    "    \n",
    "accuracy = metrics.accuracy_score(classes, y_test)\n",
    "    \n",
    "balanced_accuracy = metrics.balanced_accuracy_score(classes, y_test)\n",
    "\n",
    "precision = metrics.precision_score(classes, y_test)\n",
    "    \n",
    "average_precision = metrics.average_precision_score(classes, y_test)\n",
    "    \n",
    "f1_score = metrics.f1_score(classes, y_test)\n",
    "    \n",
    "recall = metrics.recall_score(classes, y_test)\n",
    "\n",
    "print (\"\\n Accuracy          : \", accuracy, \"\\n Balanced Accuracy : \", balanced_accuracy, \"\\n Precision         : \", precision, \"\\n Average Precision : \", average_precision, \"\\n F1-Score          : \", f1_score, \"\\n Recall            : \", recall, \"\\n ROC-AUC           : \", roc_auc, \"\\n\")\n",
    "\n",
    "print(metrics.classification_report(classes, y_test))"
   ]
  },
  {
   "cell_type": "markdown",
   "metadata": {},
   "source": [
    "### RandomSearch CV"
   ]
  },
  {
   "cell_type": "code",
   "execution_count": 106,
   "metadata": {},
   "outputs": [
    {
     "name": "stdout",
     "output_type": "stream",
     "text": [
      "Fitting 5 folds for each of 10 candidates, totalling 50 fits\n"
     ]
    },
    {
     "name": "stderr",
     "output_type": "stream",
     "text": [
      "[Parallel(n_jobs=-1)]: Using backend LokyBackend with 8 concurrent workers.\n",
      "[Parallel(n_jobs=-1)]: Done  35 out of  50 | elapsed:    0.9s remaining:    0.3s\n",
      "[Parallel(n_jobs=-1)]: Done  50 out of  50 | elapsed:    1.8s finished\n"
     ]
    },
    {
     "name": "stdout",
     "output_type": "stream",
     "text": [
      "{'C': 10000.0, 'class_weight': None, 'dual': False, 'fit_intercept': True, 'intercept_scaling': 1, 'l1_ratio': None, 'max_iter': 5000, 'multi_class': 'auto', 'n_jobs': None, 'penalty': 'l2', 'random_state': 11, 'solver': 'sag', 'tol': 0.0001, 'verbose': 0, 'warm_start': False} \n",
      "\n",
      "Model accuracy is 0.7103658536585366\n"
     ]
    }
   ],
   "source": [
    "kfold = StratifiedKFold(n_splits=5)\n",
    "\n",
    "param_grid = [\n",
    "    {'penalty' : ['l1', 'l2'],\n",
    "    'C': np.logspace(-4, 4, 20),\n",
    "    'solver' : ['lbfgs','newton-cg','liblinear','sag','saga'],\n",
    "    'max_iter' : [100, 1000,2500, 5000]}\n",
    "]\n",
    "\n",
    "lr_bs_tf_rscv = RandomizedSearchCV(lr_bs_tf, param_distributions = param_grid, cv = kfold, verbose=True, n_jobs=-1, random_state = 11)\n",
    "best_lr_bs_tf_rscv = lr_bs_tf_rscv.fit(X_train, y_train)\n",
    "\n",
    "print(best_lr_bs_tf_rscv.best_estimator_.get_params(), '\\n')\n",
    "print('Model accuracy is',best_lr_bs_tf_rscv.score(X_test, y_test))"
   ]
  },
  {
   "cell_type": "code",
   "execution_count": 107,
   "metadata": {},
   "outputs": [
    {
     "name": "stdout",
     "output_type": "stream",
     "text": [
      "\n",
      " Accuracy          :  0.7103658536585366 \n",
      " Balanced Accuracy :  0.698377581120944 \n",
      " Precision         :  0.8291457286432161 \n",
      " Average Precision :  0.7913253673938438 \n",
      " F1-Score          :  0.7764705882352942 \n",
      " Recall            :  0.7300884955752213 \n",
      " ROC-AUC           :  0.7813096490202953 \n",
      "\n",
      "              precision    recall  f1-score   support\n",
      "\n",
      "         0.0       0.53      0.67      0.59       102\n",
      "         1.0       0.83      0.73      0.78       226\n",
      "\n",
      "    accuracy                           0.71       328\n",
      "   macro avg       0.68      0.70      0.68       328\n",
      "weighted avg       0.74      0.71      0.72       328\n",
      "\n"
     ]
    }
   ],
   "source": [
    "import sklearn.metrics as metrics\n",
    "\n",
    "probs = best_lr_bs_tf_rscv.predict_proba(X_test)\n",
    "preds = probs[:,1]\n",
    "\n",
    "fpr, tpr, threshold = metrics.roc_curve(y_test, preds)\n",
    "roc_auc = metrics.auc(fpr, tpr)\n",
    "\n",
    "classes = best_lr_bs_tf_rscv.predict(X_test)\n",
    "    \n",
    "accuracy = metrics.accuracy_score(classes, y_test)\n",
    "    \n",
    "balanced_accuracy = metrics.balanced_accuracy_score(classes, y_test)\n",
    "\n",
    "precision = metrics.precision_score(classes, y_test)\n",
    "    \n",
    "average_precision = metrics.average_precision_score(classes, y_test)\n",
    "    \n",
    "f1_score = metrics.f1_score(classes, y_test)\n",
    "    \n",
    "recall = metrics.recall_score(classes, y_test)\n",
    "\n",
    "print (\"\\n Accuracy          : \", accuracy, \"\\n Balanced Accuracy : \", balanced_accuracy, \"\\n Precision         : \", precision, \"\\n Average Precision : \", average_precision, \"\\n F1-Score          : \", f1_score, \"\\n Recall            : \", recall, \"\\n ROC-AUC           : \", roc_auc, \"\\n\")\n",
    "\n",
    "print(metrics.classification_report(classes, y_test))"
   ]
  },
  {
   "cell_type": "markdown",
   "metadata": {},
   "source": [
    "### Bayesian Optimization"
   ]
  },
  {
   "cell_type": "code",
   "execution_count": 108,
   "metadata": {},
   "outputs": [],
   "source": [
    "from hyperopt import fmin, tpe, hp, STATUS_OK, Trials\n",
    "import sklearn"
   ]
  },
  {
   "cell_type": "code",
   "execution_count": 109,
   "metadata": {},
   "outputs": [],
   "source": [
    "import warnings\n",
    "warnings.filterwarnings('ignore')"
   ]
  },
  {
   "cell_type": "code",
   "execution_count": 110,
   "metadata": {},
   "outputs": [
    {
     "name": "stdout",
     "output_type": "stream",
     "text": [
      "100%|██████████████████████████████████████████████| 100/100 [00:24<00:00,  4.10trial/s, best loss: -0.710426810318036]\n",
      "best:\n",
      "{'C': 3.9802952318528035, 'max_iter': 3, 'penalty': 1, 'solver': 3}\n",
      "Accuracy :  71.0426810318036\n"
     ]
    }
   ],
   "source": [
    "def f(params):\n",
    "    acc = hyperopt_train_test(params)\n",
    "    return {'loss': -acc, 'status': STATUS_OK}\n",
    "\n",
    "def hyperopt_train_test(params):\n",
    "    lr_bs_tf_bo = LogisticRegression(**params, random_state = 11)\n",
    "    return sklearn.model_selection.cross_val_score(lr_bs_tf_bo, X_train, y_train).mean()\n",
    "\n",
    "param_grid = {\n",
    "    'C': hp.uniform('C', 0, 20),\n",
    "    'penalty': hp.choice('penalty', ['l1', 'l2']),\n",
    "    'solver': hp.choice('solver', ['lbfgs','newton-cg','liblinear','sag','saga']),\n",
    "    'max_iter' : hp.choice('max_iter', [100, 1000,2500, 5000])\n",
    "}\n",
    "\n",
    "trials = Trials()\n",
    "best = fmin(f, param_grid, algo=tpe.suggest, max_evals=100, trials=trials)\n",
    "print('best:')\n",
    "print(best)\n",
    "print(\"Accuracy : \", -trials.best_trial['result']['loss']*100)"
   ]
  },
  {
   "cell_type": "code",
   "execution_count": null,
   "metadata": {},
   "outputs": [],
   "source": []
  },
  {
   "cell_type": "code",
   "execution_count": null,
   "metadata": {},
   "outputs": [],
   "source": []
  },
  {
   "cell_type": "markdown",
   "metadata": {},
   "source": [
    "### After Standardization"
   ]
  },
  {
   "cell_type": "code",
   "execution_count": 111,
   "metadata": {},
   "outputs": [],
   "source": [
    "X_train, X_test, y_train, y_test = train_test_split(X, y, test_size = 0.25, random_state = 11)"
   ]
  },
  {
   "cell_type": "code",
   "execution_count": 112,
   "metadata": {},
   "outputs": [
    {
     "data": {
      "text/plain": [
       "Index(['GP', 'MIN', 'PTS', 'FGM', 'FGA', 'FG%', '3P Made', '3PA', '3P%', 'FTM',\n",
       "       'FTA', 'FT%', 'OREB', 'DREB', 'REB', 'AST', 'STL', 'BLK', 'TOV'],\n",
       "      dtype='object')"
      ]
     },
     "execution_count": 112,
     "metadata": {},
     "output_type": "execute_result"
    }
   ],
   "source": [
    "X_train.columns"
   ]
  },
  {
   "cell_type": "code",
   "execution_count": 113,
   "metadata": {},
   "outputs": [],
   "source": [
    "X_train = X_train[['FGM', 'REB', 'FTM', 'FTA', 'GP', 'MIN', 'TOV', 'FG%', 'DREB', 'AST']]\n",
    "X_test = X_test[['FGM', 'REB', 'FTM', 'FTA', 'GP', 'MIN', 'TOV', 'FG%', 'DREB', 'AST']]"
   ]
  },
  {
   "cell_type": "code",
   "execution_count": 114,
   "metadata": {},
   "outputs": [],
   "source": [
    "train_mean = X_train.mean()\n",
    "train_std = X_train.std()"
   ]
  },
  {
   "cell_type": "code",
   "execution_count": 115,
   "metadata": {},
   "outputs": [],
   "source": [
    "X_train = (X_train - train_mean) / train_std"
   ]
  },
  {
   "cell_type": "code",
   "execution_count": 116,
   "metadata": {},
   "outputs": [
    {
     "data": {
      "text/html": [
       "<div>\n",
       "<style scoped>\n",
       "    .dataframe tbody tr th:only-of-type {\n",
       "        vertical-align: middle;\n",
       "    }\n",
       "\n",
       "    .dataframe tbody tr th {\n",
       "        vertical-align: top;\n",
       "    }\n",
       "\n",
       "    .dataframe thead th {\n",
       "        text-align: right;\n",
       "    }\n",
       "</style>\n",
       "<table border=\"1\" class=\"dataframe\">\n",
       "  <thead>\n",
       "    <tr style=\"text-align: right;\">\n",
       "      <th></th>\n",
       "      <th>FGM</th>\n",
       "      <th>REB</th>\n",
       "      <th>FTM</th>\n",
       "      <th>FTA</th>\n",
       "      <th>GP</th>\n",
       "      <th>MIN</th>\n",
       "      <th>TOV</th>\n",
       "      <th>FG%</th>\n",
       "      <th>DREB</th>\n",
       "      <th>AST</th>\n",
       "    </tr>\n",
       "  </thead>\n",
       "  <tbody>\n",
       "    <tr>\n",
       "      <th>count</th>\n",
       "      <td>9.840000e+02</td>\n",
       "      <td>9.840000e+02</td>\n",
       "      <td>9.840000e+02</td>\n",
       "      <td>9.840000e+02</td>\n",
       "      <td>9.840000e+02</td>\n",
       "      <td>9.840000e+02</td>\n",
       "      <td>9.840000e+02</td>\n",
       "      <td>9.840000e+02</td>\n",
       "      <td>9.840000e+02</td>\n",
       "      <td>9.840000e+02</td>\n",
       "    </tr>\n",
       "    <tr>\n",
       "      <th>mean</th>\n",
       "      <td>5.451827e-16</td>\n",
       "      <td>-1.996314e-15</td>\n",
       "      <td>-1.836550e-15</td>\n",
       "      <td>1.356695e-15</td>\n",
       "      <td>3.384826e-17</td>\n",
       "      <td>1.358218e-15</td>\n",
       "      <td>-7.536880e-17</td>\n",
       "      <td>-1.311665e-14</td>\n",
       "      <td>1.510535e-15</td>\n",
       "      <td>6.514662e-16</td>\n",
       "    </tr>\n",
       "    <tr>\n",
       "      <th>std</th>\n",
       "      <td>1.000000e+00</td>\n",
       "      <td>1.000000e+00</td>\n",
       "      <td>1.000000e+00</td>\n",
       "      <td>1.000000e+00</td>\n",
       "      <td>1.000000e+00</td>\n",
       "      <td>1.000000e+00</td>\n",
       "      <td>1.000000e+00</td>\n",
       "      <td>1.000000e+00</td>\n",
       "      <td>1.000000e+00</td>\n",
       "      <td>1.000000e+00</td>\n",
       "    </tr>\n",
       "    <tr>\n",
       "      <th>min</th>\n",
       "      <td>-1.399677e+00</td>\n",
       "      <td>-1.342269e+00</td>\n",
       "      <td>-1.239768e+00</td>\n",
       "      <td>-1.328974e+00</td>\n",
       "      <td>-2.845202e+00</td>\n",
       "      <td>-1.629782e+00</td>\n",
       "      <td>-1.506809e+00</td>\n",
       "      <td>-2.812406e+00</td>\n",
       "      <td>-1.353180e+00</td>\n",
       "      <td>-1.053552e+00</td>\n",
       "    </tr>\n",
       "    <tr>\n",
       "      <th>25%</th>\n",
       "      <td>-7.308572e-01</td>\n",
       "      <td>-7.448281e-01</td>\n",
       "      <td>-7.107428e-01</td>\n",
       "      <td>-6.973822e-01</td>\n",
       "      <td>-7.655035e-01</td>\n",
       "      <td>-8.168270e-01</td>\n",
       "      <td>-6.663555e-01</td>\n",
       "      <td>-6.568735e-01</td>\n",
       "      <td>-7.531557e-01</td>\n",
       "      <td>-6.398944e-01</td>\n",
       "    </tr>\n",
       "    <tr>\n",
       "      <th>50%</th>\n",
       "      <td>-3.052447e-01</td>\n",
       "      <td>-2.469605e-01</td>\n",
       "      <td>-2.875229e-01</td>\n",
       "      <td>-2.236886e-01</td>\n",
       "      <td>1.010378e-01</td>\n",
       "      <td>-1.737431e-01</td>\n",
       "      <td>-2.461287e-01</td>\n",
       "      <td>1.304316e-03</td>\n",
       "      <td>-2.281343e-01</td>\n",
       "      <td>-2.951796e-01</td>\n",
       "    </tr>\n",
       "    <tr>\n",
       "      <th>75%</th>\n",
       "      <td>4.851784e-01</td>\n",
       "      <td>4.500541e-01</td>\n",
       "      <td>3.473070e-01</td>\n",
       "      <td>4.079028e-01</td>\n",
       "      <td>9.675790e-01</td>\n",
       "      <td>6.392119e-01</td>\n",
       "      <td>4.542492e-01</td>\n",
       "      <td>6.101188e-01</td>\n",
       "      <td>4.468932e-01</td>\n",
       "      <td>2.563641e-01</td>\n",
       "    </tr>\n",
       "    <tr>\n",
       "      <th>max</th>\n",
       "      <td>3.890078e+00</td>\n",
       "      <td>4.632142e+00</td>\n",
       "      <td>5.002726e+00</td>\n",
       "      <td>5.302736e+00</td>\n",
       "      <td>1.256426e+00</td>\n",
       "      <td>2.835404e+00</td>\n",
       "      <td>4.236290e+00</td>\n",
       "      <td>3.637737e+00</td>\n",
       "      <td>5.097083e+00</td>\n",
       "      <td>5.358143e+00</td>\n",
       "    </tr>\n",
       "  </tbody>\n",
       "</table>\n",
       "</div>"
      ],
      "text/plain": [
       "                FGM           REB           FTM           FTA            GP  \\\n",
       "count  9.840000e+02  9.840000e+02  9.840000e+02  9.840000e+02  9.840000e+02   \n",
       "mean   5.451827e-16 -1.996314e-15 -1.836550e-15  1.356695e-15  3.384826e-17   \n",
       "std    1.000000e+00  1.000000e+00  1.000000e+00  1.000000e+00  1.000000e+00   \n",
       "min   -1.399677e+00 -1.342269e+00 -1.239768e+00 -1.328974e+00 -2.845202e+00   \n",
       "25%   -7.308572e-01 -7.448281e-01 -7.107428e-01 -6.973822e-01 -7.655035e-01   \n",
       "50%   -3.052447e-01 -2.469605e-01 -2.875229e-01 -2.236886e-01  1.010378e-01   \n",
       "75%    4.851784e-01  4.500541e-01  3.473070e-01  4.079028e-01  9.675790e-01   \n",
       "max    3.890078e+00  4.632142e+00  5.002726e+00  5.302736e+00  1.256426e+00   \n",
       "\n",
       "                MIN           TOV           FG%          DREB           AST  \n",
       "count  9.840000e+02  9.840000e+02  9.840000e+02  9.840000e+02  9.840000e+02  \n",
       "mean   1.358218e-15 -7.536880e-17 -1.311665e-14  1.510535e-15  6.514662e-16  \n",
       "std    1.000000e+00  1.000000e+00  1.000000e+00  1.000000e+00  1.000000e+00  \n",
       "min   -1.629782e+00 -1.506809e+00 -2.812406e+00 -1.353180e+00 -1.053552e+00  \n",
       "25%   -8.168270e-01 -6.663555e-01 -6.568735e-01 -7.531557e-01 -6.398944e-01  \n",
       "50%   -1.737431e-01 -2.461287e-01  1.304316e-03 -2.281343e-01 -2.951796e-01  \n",
       "75%    6.392119e-01  4.542492e-01  6.101188e-01  4.468932e-01  2.563641e-01  \n",
       "max    2.835404e+00  4.236290e+00  3.637737e+00  5.097083e+00  5.358143e+00  "
      ]
     },
     "execution_count": 116,
     "metadata": {},
     "output_type": "execute_result"
    }
   ],
   "source": [
    "X_train.describe()"
   ]
  },
  {
   "cell_type": "code",
   "execution_count": 117,
   "metadata": {},
   "outputs": [],
   "source": [
    "X_test = (X_test - train_mean) / train_std"
   ]
  },
  {
   "cell_type": "code",
   "execution_count": 118,
   "metadata": {},
   "outputs": [
    {
     "data": {
      "text/html": [
       "<div>\n",
       "<style scoped>\n",
       "    .dataframe tbody tr th:only-of-type {\n",
       "        vertical-align: middle;\n",
       "    }\n",
       "\n",
       "    .dataframe tbody tr th {\n",
       "        vertical-align: top;\n",
       "    }\n",
       "\n",
       "    .dataframe thead th {\n",
       "        text-align: right;\n",
       "    }\n",
       "</style>\n",
       "<table border=\"1\" class=\"dataframe\">\n",
       "  <thead>\n",
       "    <tr style=\"text-align: right;\">\n",
       "      <th></th>\n",
       "      <th>FGM</th>\n",
       "      <th>REB</th>\n",
       "      <th>FTM</th>\n",
       "      <th>FTA</th>\n",
       "      <th>GP</th>\n",
       "      <th>MIN</th>\n",
       "      <th>TOV</th>\n",
       "      <th>FG%</th>\n",
       "      <th>DREB</th>\n",
       "      <th>AST</th>\n",
       "    </tr>\n",
       "  </thead>\n",
       "  <tbody>\n",
       "    <tr>\n",
       "      <th>count</th>\n",
       "      <td>328.000000</td>\n",
       "      <td>328.000000</td>\n",
       "      <td>328.000000</td>\n",
       "      <td>328.000000</td>\n",
       "      <td>328.000000</td>\n",
       "      <td>328.000000</td>\n",
       "      <td>328.000000</td>\n",
       "      <td>328.000000</td>\n",
       "      <td>328.000000</td>\n",
       "      <td>328.000000</td>\n",
       "    </tr>\n",
       "    <tr>\n",
       "      <th>mean</th>\n",
       "      <td>0.010072</td>\n",
       "      <td>0.015634</td>\n",
       "      <td>0.031505</td>\n",
       "      <td>0.040357</td>\n",
       "      <td>0.018258</td>\n",
       "      <td>0.000382</td>\n",
       "      <td>0.037866</td>\n",
       "      <td>0.033611</td>\n",
       "      <td>0.002592</td>\n",
       "      <td>0.018637</td>\n",
       "    </tr>\n",
       "    <tr>\n",
       "      <th>std</th>\n",
       "      <td>0.999085</td>\n",
       "      <td>0.992538</td>\n",
       "      <td>0.960512</td>\n",
       "      <td>0.959364</td>\n",
       "      <td>1.011584</td>\n",
       "      <td>0.980169</td>\n",
       "      <td>0.953656</td>\n",
       "      <td>0.983559</td>\n",
       "      <td>0.973646</td>\n",
       "      <td>0.958121</td>\n",
       "    </tr>\n",
       "    <tr>\n",
       "      <th>min</th>\n",
       "      <td>-1.338875</td>\n",
       "      <td>-1.292482</td>\n",
       "      <td>-1.239768</td>\n",
       "      <td>-1.328974</td>\n",
       "      <td>-2.614125</td>\n",
       "      <td>-1.605515</td>\n",
       "      <td>-1.506809</td>\n",
       "      <td>-3.338948</td>\n",
       "      <td>-1.278177</td>\n",
       "      <td>-1.053552</td>\n",
       "    </tr>\n",
       "    <tr>\n",
       "      <th>25%</th>\n",
       "      <td>-0.730857</td>\n",
       "      <td>-0.744828</td>\n",
       "      <td>-0.604938</td>\n",
       "      <td>-0.618433</td>\n",
       "      <td>-0.722176</td>\n",
       "      <td>-0.819860</td>\n",
       "      <td>-0.666356</td>\n",
       "      <td>-0.595169</td>\n",
       "      <td>-0.753156</td>\n",
       "      <td>-0.639894</td>\n",
       "    </tr>\n",
       "    <tr>\n",
       "      <th>50%</th>\n",
       "      <td>-0.305245</td>\n",
       "      <td>-0.246961</td>\n",
       "      <td>-0.181718</td>\n",
       "      <td>-0.223689</td>\n",
       "      <td>0.216577</td>\n",
       "      <td>-0.191944</td>\n",
       "      <td>-0.246129</td>\n",
       "      <td>-0.039832</td>\n",
       "      <td>-0.228134</td>\n",
       "      <td>-0.226237</td>\n",
       "    </tr>\n",
       "    <tr>\n",
       "      <th>75%</th>\n",
       "      <td>0.485178</td>\n",
       "      <td>0.499841</td>\n",
       "      <td>0.453112</td>\n",
       "      <td>0.486852</td>\n",
       "      <td>0.967579</td>\n",
       "      <td>0.642245</td>\n",
       "      <td>0.454249</td>\n",
       "      <td>0.630687</td>\n",
       "      <td>0.521896</td>\n",
       "      <td>0.342543</td>\n",
       "    </tr>\n",
       "    <tr>\n",
       "      <th>max</th>\n",
       "      <td>4.376492</td>\n",
       "      <td>3.785767</td>\n",
       "      <td>4.156286</td>\n",
       "      <td>3.644809</td>\n",
       "      <td>1.256426</td>\n",
       "      <td>2.362191</td>\n",
       "      <td>3.816063</td>\n",
       "      <td>3.588374</td>\n",
       "      <td>3.672025</td>\n",
       "      <td>4.599771</td>\n",
       "    </tr>\n",
       "  </tbody>\n",
       "</table>\n",
       "</div>"
      ],
      "text/plain": [
       "              FGM         REB         FTM         FTA          GP         MIN  \\\n",
       "count  328.000000  328.000000  328.000000  328.000000  328.000000  328.000000   \n",
       "mean     0.010072    0.015634    0.031505    0.040357    0.018258    0.000382   \n",
       "std      0.999085    0.992538    0.960512    0.959364    1.011584    0.980169   \n",
       "min     -1.338875   -1.292482   -1.239768   -1.328974   -2.614125   -1.605515   \n",
       "25%     -0.730857   -0.744828   -0.604938   -0.618433   -0.722176   -0.819860   \n",
       "50%     -0.305245   -0.246961   -0.181718   -0.223689    0.216577   -0.191944   \n",
       "75%      0.485178    0.499841    0.453112    0.486852    0.967579    0.642245   \n",
       "max      4.376492    3.785767    4.156286    3.644809    1.256426    2.362191   \n",
       "\n",
       "              TOV         FG%        DREB         AST  \n",
       "count  328.000000  328.000000  328.000000  328.000000  \n",
       "mean     0.037866    0.033611    0.002592    0.018637  \n",
       "std      0.953656    0.983559    0.973646    0.958121  \n",
       "min     -1.506809   -3.338948   -1.278177   -1.053552  \n",
       "25%     -0.666356   -0.595169   -0.753156   -0.639894  \n",
       "50%     -0.246129   -0.039832   -0.228134   -0.226237  \n",
       "75%      0.454249    0.630687    0.521896    0.342543  \n",
       "max      3.816063    3.588374    3.672025    4.599771  "
      ]
     },
     "execution_count": 118,
     "metadata": {},
     "output_type": "execute_result"
    }
   ],
   "source": [
    "X_test.describe()"
   ]
  },
  {
   "cell_type": "code",
   "execution_count": null,
   "metadata": {},
   "outputs": [],
   "source": []
  },
  {
   "cell_type": "markdown",
   "metadata": {},
   "source": [
    "### Model - Logistic Regression "
   ]
  },
  {
   "cell_type": "code",
   "execution_count": 119,
   "metadata": {},
   "outputs": [
    {
     "name": "stdout",
     "output_type": "stream",
     "text": [
      "[[ 69  60]\n",
      " [ 32 167]]\n",
      "              precision    recall  f1-score   support\n",
      "\n",
      "         0.0       0.68      0.53      0.60       129\n",
      "         1.0       0.74      0.84      0.78       199\n",
      "\n",
      "    accuracy                           0.72       328\n",
      "   macro avg       0.71      0.69      0.69       328\n",
      "weighted avg       0.72      0.72      0.71       328\n",
      "\n",
      "Score: \n",
      " 72.15\n",
      "Test Score: \n",
      " 71.95\n",
      "Accuracy: \n",
      " 0.7195121951219512\n"
     ]
    }
   ],
   "source": [
    "from sklearn.linear_model import LogisticRegression\n",
    "\n",
    "lr_as_tf =  LogisticRegression(random_state = 11)\n",
    "lr_as_tf.fit(X_train, y_train)\n",
    "y_pred = lr_as_tf.predict(X_test)\n",
    "\n",
    "print(confusion_matrix(y_test, y_pred))\n",
    "print(classification_report(y_test, y_pred))\n",
    "\n",
    "lr_as_tf_score = round(lr_as_tf.score(X_train, y_train) * 100, 2)\n",
    "lr_as_tf_score_test = round(lr_as_tf.score(X_test, y_test) * 100, 2)\n",
    "print('Score: \\n', lr_as_tf_score)\n",
    "print('Test Score: \\n', lr_as_tf_score_test)\n",
    "print('Accuracy: \\n', accuracy_score(y_test, y_pred))"
   ]
  },
  {
   "cell_type": "markdown",
   "metadata": {},
   "source": [
    "### GridSearch CV"
   ]
  },
  {
   "cell_type": "code",
   "execution_count": 120,
   "metadata": {},
   "outputs": [
    {
     "name": "stdout",
     "output_type": "stream",
     "text": [
      "Fitting 5 folds for each of 800 candidates, totalling 4000 fits\n"
     ]
    },
    {
     "name": "stderr",
     "output_type": "stream",
     "text": [
      "[Parallel(n_jobs=-1)]: Using backend LokyBackend with 8 concurrent workers.\n",
      "[Parallel(n_jobs=-1)]: Done  56 tasks      | elapsed:    0.1s\n",
      "[Parallel(n_jobs=-1)]: Done 3644 tasks      | elapsed:    7.6s\n"
     ]
    },
    {
     "name": "stdout",
     "output_type": "stream",
     "text": [
      "{'C': 11.288378916846883, 'class_weight': None, 'dual': False, 'fit_intercept': True, 'intercept_scaling': 1, 'l1_ratio': None, 'max_iter': 100, 'multi_class': 'auto', 'n_jobs': None, 'penalty': 'l2', 'random_state': 11, 'solver': 'lbfgs', 'tol': 0.0001, 'verbose': 0, 'warm_start': False} \n",
      "\n",
      "Model accuracy is 0.7164634146341463\n"
     ]
    },
    {
     "name": "stderr",
     "output_type": "stream",
     "text": [
      "[Parallel(n_jobs=-1)]: Done 4000 out of 4000 | elapsed:    8.5s finished\n"
     ]
    }
   ],
   "source": [
    "kfold = StratifiedKFold(n_splits=5)\n",
    "\n",
    "param_grid = [\n",
    "    {'penalty' : ['l1', 'l2'],\n",
    "    'C': np.logspace(-4, 4, 20),\n",
    "    'solver' : ['lbfgs','newton-cg','liblinear','sag','saga'],\n",
    "    'max_iter' : [100, 1000,2500, 5000]}\n",
    "]\n",
    "\n",
    "lr_as_tf_gscv = GridSearchCV(lr_as_tf, param_grid = param_grid, cv = kfold, verbose=True, n_jobs=-1)\n",
    "best_lr_as_tf_gscv = lr_as_tf_gscv.fit(X_train, y_train)\n",
    "\n",
    "print(best_lr_as_tf_gscv.best_estimator_.get_params(), '\\n')\n",
    "print('Model accuracy is',best_lr_as_tf_gscv.score(X_test, y_test))"
   ]
  },
  {
   "cell_type": "code",
   "execution_count": 121,
   "metadata": {},
   "outputs": [
    {
     "name": "stdout",
     "output_type": "stream",
     "text": [
      "\n",
      " Accuracy          :  0.7164634146341463 \n",
      " Balanced Accuracy :  0.7048420329670331 \n",
      " Precision         :  0.8291457286432161 \n",
      " Average Precision :  0.7906327149685712 \n",
      " F1-Score          :  0.7801418439716313 \n",
      " Recall            :  0.7366071428571429 \n",
      " ROC-AUC           :  0.7801799696155195 \n",
      "\n",
      "              precision    recall  f1-score   support\n",
      "\n",
      "         0.0       0.54      0.67      0.60       104\n",
      "         1.0       0.83      0.74      0.78       224\n",
      "\n",
      "    accuracy                           0.72       328\n",
      "   macro avg       0.69      0.70      0.69       328\n",
      "weighted avg       0.74      0.72      0.72       328\n",
      "\n"
     ]
    }
   ],
   "source": [
    "import sklearn.metrics as metrics\n",
    "\n",
    "probs = best_lr_as_tf_gscv.predict_proba(X_test)\n",
    "preds = probs[:,1]\n",
    "\n",
    "fpr, tpr, threshold = metrics.roc_curve(y_test, preds)\n",
    "roc_auc = metrics.auc(fpr, tpr)\n",
    "\n",
    "classes = best_lr_as_tf_gscv.predict(X_test)\n",
    "    \n",
    "accuracy = metrics.accuracy_score(classes, y_test)\n",
    "    \n",
    "balanced_accuracy = metrics.balanced_accuracy_score(classes, y_test)\n",
    "\n",
    "precision = metrics.precision_score(classes, y_test)\n",
    "    \n",
    "average_precision = metrics.average_precision_score(classes, y_test)\n",
    "    \n",
    "f1_score = metrics.f1_score(classes, y_test)\n",
    "    \n",
    "recall = metrics.recall_score(classes, y_test)\n",
    "\n",
    "print (\"\\n Accuracy          : \", accuracy, \"\\n Balanced Accuracy : \", balanced_accuracy, \"\\n Precision         : \", precision, \"\\n Average Precision : \", average_precision, \"\\n F1-Score          : \", f1_score, \"\\n Recall            : \", recall, \"\\n ROC-AUC           : \", roc_auc, \"\\n\")\n",
    "\n",
    "print(metrics.classification_report(classes, y_test))"
   ]
  },
  {
   "cell_type": "markdown",
   "metadata": {},
   "source": [
    "### RandomSearch CV"
   ]
  },
  {
   "cell_type": "code",
   "execution_count": 122,
   "metadata": {},
   "outputs": [
    {
     "name": "stderr",
     "output_type": "stream",
     "text": [
      "[Parallel(n_jobs=-1)]: Using backend LokyBackend with 8 concurrent workers.\n"
     ]
    },
    {
     "name": "stdout",
     "output_type": "stream",
     "text": [
      "Fitting 5 folds for each of 10 candidates, totalling 50 fits\n",
      "{'C': 10000.0, 'class_weight': None, 'dual': False, 'fit_intercept': True, 'intercept_scaling': 1, 'l1_ratio': None, 'max_iter': 5000, 'multi_class': 'auto', 'n_jobs': None, 'penalty': 'l2', 'random_state': 11, 'solver': 'sag', 'tol': 0.0001, 'verbose': 0, 'warm_start': False} \n",
      "\n",
      "Model accuracy is 0.7134146341463414\n"
     ]
    },
    {
     "name": "stderr",
     "output_type": "stream",
     "text": [
      "[Parallel(n_jobs=-1)]: Done  50 out of  50 | elapsed:    0.1s finished\n"
     ]
    }
   ],
   "source": [
    "kfold = StratifiedKFold(n_splits=5)\n",
    "\n",
    "param_grid = [\n",
    "    {'penalty' : ['l1', 'l2'],\n",
    "    'C': np.logspace(-4, 4, 20),\n",
    "    'solver' : ['lbfgs','newton-cg','liblinear','sag','saga'],\n",
    "    'max_iter' : [100, 1000,2500, 5000]}\n",
    "]\n",
    "\n",
    "lr_as_tf_rscv = RandomizedSearchCV(lr_as_tf, param_distributions = param_grid, cv = kfold, verbose=True, n_jobs=-1, random_state = 11)\n",
    "best_lr_as_tf_rscv = lr_as_tf_rscv.fit(X_train, y_train)\n",
    "\n",
    "print(best_lr_as_tf_rscv.best_estimator_.get_params(), '\\n')\n",
    "print('Model accuracy is',best_lr_as_tf_rscv.score(X_test, y_test))"
   ]
  },
  {
   "cell_type": "code",
   "execution_count": 123,
   "metadata": {},
   "outputs": [
    {
     "name": "stdout",
     "output_type": "stream",
     "text": [
      "\n",
      " Accuracy          :  0.7134146341463414 \n",
      " Balanced Accuracy :  0.7016181229773463 \n",
      " Precision         :  0.8291457286432161 \n",
      " Average Precision :  0.7909670302733178 \n",
      " F1-Score          :  0.7783018867924528 \n",
      " Recall            :  0.7333333333333333 \n",
      " ROC-AUC           :  0.7801799696155195 \n",
      "\n",
      "              precision    recall  f1-score   support\n",
      "\n",
      "         0.0       0.53      0.67      0.59       103\n",
      "         1.0       0.83      0.73      0.78       225\n",
      "\n",
      "    accuracy                           0.71       328\n",
      "   macro avg       0.68      0.70      0.69       328\n",
      "weighted avg       0.74      0.71      0.72       328\n",
      "\n"
     ]
    }
   ],
   "source": [
    "import sklearn.metrics as metrics\n",
    "\n",
    "probs = best_lr_as_tf_rscv.predict_proba(X_test)\n",
    "preds = probs[:,1]\n",
    "\n",
    "fpr, tpr, threshold = metrics.roc_curve(y_test, preds)\n",
    "roc_auc = metrics.auc(fpr, tpr)\n",
    "\n",
    "classes = best_lr_as_tf_rscv.predict(X_test)\n",
    "    \n",
    "accuracy = metrics.accuracy_score(classes, y_test)\n",
    "    \n",
    "balanced_accuracy = metrics.balanced_accuracy_score(classes, y_test)\n",
    "\n",
    "precision = metrics.precision_score(classes, y_test)\n",
    "    \n",
    "average_precision = metrics.average_precision_score(classes, y_test)\n",
    "    \n",
    "f1_score = metrics.f1_score(classes, y_test)\n",
    "    \n",
    "recall = metrics.recall_score(classes, y_test)\n",
    "\n",
    "print (\"\\n Accuracy          : \", accuracy, \"\\n Balanced Accuracy : \", balanced_accuracy, \"\\n Precision         : \", precision, \"\\n Average Precision : \", average_precision, \"\\n F1-Score          : \", f1_score, \"\\n Recall            : \", recall, \"\\n ROC-AUC           : \", roc_auc, \"\\n\")\n",
    "\n",
    "print(metrics.classification_report(classes, y_test))"
   ]
  },
  {
   "cell_type": "markdown",
   "metadata": {},
   "source": [
    "### Bayesian Optimization"
   ]
  },
  {
   "cell_type": "code",
   "execution_count": 124,
   "metadata": {},
   "outputs": [],
   "source": [
    "from hyperopt import fmin, tpe, hp, STATUS_OK, Trials\n",
    "import sklearn"
   ]
  },
  {
   "cell_type": "code",
   "execution_count": 125,
   "metadata": {},
   "outputs": [],
   "source": [
    "import warnings\n",
    "warnings.filterwarnings('ignore')"
   ]
  },
  {
   "cell_type": "code",
   "execution_count": 126,
   "metadata": {},
   "outputs": [
    {
     "name": "stdout",
     "output_type": "stream",
     "text": [
      "100%|██████████████████████████████████████████████| 100/100 [00:03<00:00, 29.89trial/s, best loss: -0.708396353465244]\n",
      "best:\n",
      "{'C': 16.54547839312792, 'max_iter': 0, 'penalty': 1, 'solver': 0}\n",
      "Accuracy :  70.8396353465244\n"
     ]
    }
   ],
   "source": [
    "def f(params):\n",
    "    acc = hyperopt_train_test(params)\n",
    "    return {'loss': -acc, 'status': STATUS_OK}\n",
    "\n",
    "def hyperopt_train_test(params):\n",
    "    lr_as_tf_bo = LogisticRegression(**params, random_state = 11)\n",
    "    return sklearn.model_selection.cross_val_score(lr_as_tf_bo, X_train, y_train).mean()\n",
    "\n",
    "param_grid = {\n",
    "    'C': hp.uniform('C', 0, 20),\n",
    "    'penalty': hp.choice('penalty', ['l1', 'l2']),\n",
    "    'solver': hp.choice('solver', ['lbfgs','newton-cg','liblinear','sag','saga']),\n",
    "    'max_iter' : hp.choice('max_iter', [100, 1000,2500, 5000])\n",
    "}\n",
    "\n",
    "trials = Trials()\n",
    "best = fmin(f, param_grid, algo=tpe.suggest, max_evals=100, trials=trials)\n",
    "print('best:')\n",
    "print(best)\n",
    "print(\"Accuracy : \", -trials.best_trial['result']['loss']*100)"
   ]
  },
  {
   "cell_type": "code",
   "execution_count": null,
   "metadata": {},
   "outputs": [],
   "source": []
  },
  {
   "cell_type": "code",
   "execution_count": null,
   "metadata": {},
   "outputs": [],
   "source": []
  },
  {
   "cell_type": "markdown",
   "metadata": {},
   "source": [
    "### 5 Features"
   ]
  },
  {
   "cell_type": "markdown",
   "metadata": {},
   "source": [
    "### Before Standardization"
   ]
  },
  {
   "cell_type": "code",
   "execution_count": 127,
   "metadata": {},
   "outputs": [],
   "source": [
    "X_train, X_test, y_train, y_test = train_test_split(X, y, test_size = 0.25, random_state = 11)"
   ]
  },
  {
   "cell_type": "code",
   "execution_count": 128,
   "metadata": {},
   "outputs": [
    {
     "data": {
      "text/plain": [
       "Index(['GP', 'MIN', 'PTS', 'FGM', 'FGA', 'FG%', '3P Made', '3PA', '3P%', 'FTM',\n",
       "       'FTA', 'FT%', 'OREB', 'DREB', 'REB', 'AST', 'STL', 'BLK', 'TOV'],\n",
       "      dtype='object')"
      ]
     },
     "execution_count": 128,
     "metadata": {},
     "output_type": "execute_result"
    }
   ],
   "source": [
    "X_train.columns"
   ]
  },
  {
   "cell_type": "code",
   "execution_count": 129,
   "metadata": {},
   "outputs": [],
   "source": [
    "X_train = X_train[['GP', '3P Made', '3PA', 'AST', 'BLK']]\n",
    "X_test = X_test[['GP', '3P Made', '3PA', 'AST', 'BLK']]"
   ]
  },
  {
   "cell_type": "code",
   "execution_count": null,
   "metadata": {},
   "outputs": [],
   "source": []
  },
  {
   "cell_type": "code",
   "execution_count": null,
   "metadata": {},
   "outputs": [],
   "source": []
  },
  {
   "cell_type": "markdown",
   "metadata": {},
   "source": [
    "### Model - Naive Bayes Gaussian"
   ]
  },
  {
   "cell_type": "code",
   "execution_count": 130,
   "metadata": {},
   "outputs": [
    {
     "name": "stdout",
     "output_type": "stream",
     "text": [
      "[[ 92  37]\n",
      " [ 54 145]]\n",
      "              precision    recall  f1-score   support\n",
      "\n",
      "         0.0       0.63      0.71      0.67       129\n",
      "         1.0       0.80      0.73      0.76       199\n",
      "\n",
      "    accuracy                           0.72       328\n",
      "   macro avg       0.71      0.72      0.72       328\n",
      "weighted avg       0.73      0.72      0.72       328\n",
      "\n",
      "Score: \n",
      " 66.57\n",
      "Test Score: \n",
      " 72.26\n",
      "Accuracy: \n",
      " 0.7225609756097561\n"
     ]
    }
   ],
   "source": [
    "from sklearn.naive_bayes import GaussianNB\n",
    "\n",
    "gnb_bs_ff =  GaussianNB()\n",
    "gnb_bs_ff.fit(X_train, y_train)\n",
    "y_pred = gnb_bs_ff.predict(X_test)\n",
    "\n",
    "print(confusion_matrix(y_test, y_pred))\n",
    "print(classification_report(y_test, y_pred))\n",
    "\n",
    "gnb_bs_ff_score = round(gnb_bs_ff.score(X_train, y_train) * 100, 2)\n",
    "gnb_bs_ff_score_test = round(gnb_bs_ff.score(X_test, y_test) * 100, 2)\n",
    "print('Score: \\n', gnb_bs_ff_score)\n",
    "print('Test Score: \\n', gnb_bs_ff_score_test)\n",
    "print('Accuracy: \\n', accuracy_score(y_test, y_pred))"
   ]
  },
  {
   "cell_type": "markdown",
   "metadata": {},
   "source": [
    "### GridSearch CV"
   ]
  },
  {
   "cell_type": "code",
   "execution_count": 131,
   "metadata": {},
   "outputs": [
    {
     "name": "stdout",
     "output_type": "stream",
     "text": [
      "Fitting 5 folds for each of 100 candidates, totalling 500 fits\n"
     ]
    },
    {
     "name": "stderr",
     "output_type": "stream",
     "text": [
      "[Parallel(n_jobs=-1)]: Using backend LokyBackend with 8 concurrent workers.\n",
      "[Parallel(n_jobs=-1)]: Done  56 tasks      | elapsed:    0.1s\n"
     ]
    },
    {
     "name": "stdout",
     "output_type": "stream",
     "text": [
      "{'priors': None, 'var_smoothing': 0.01519911082952933} \n",
      "\n",
      "Model accuracy is 0.6890243902439024\n"
     ]
    },
    {
     "name": "stderr",
     "output_type": "stream",
     "text": [
      "[Parallel(n_jobs=-1)]: Done 500 out of 500 | elapsed:    0.5s finished\n"
     ]
    }
   ],
   "source": [
    "kfold = StratifiedKFold(n_splits=5)\n",
    "\n",
    "param_grid = [\n",
    "    {'var_smoothing': np.logspace(0,-9, num=100)}\n",
    "]\n",
    "\n",
    "gnb_bs_ff_gscv = GridSearchCV(gnb_bs_ff, param_grid = param_grid, cv = kfold, verbose=True, n_jobs=-1)\n",
    "best_gnb_bs_ff_gscv = gnb_bs_ff_gscv.fit(X_train, y_train)\n",
    "\n",
    "print(best_gnb_bs_ff_gscv.best_estimator_.get_params(), '\\n')\n",
    "print('Model accuracy is',best_gnb_bs_ff_gscv.score(X_test, y_test))"
   ]
  },
  {
   "cell_type": "code",
   "execution_count": 132,
   "metadata": {},
   "outputs": [
    {
     "name": "stdout",
     "output_type": "stream",
     "text": [
      "\n",
      " Accuracy          :  0.6890243902439024 \n",
      " Balanced Accuracy :  0.6740770146883683 \n",
      " Precision         :  0.8190954773869347 \n",
      " Average Precision :  0.7842438039596212 \n",
      " F1-Score          :  0.7616822429906541 \n",
      " Recall            :  0.7117903930131004 \n",
      " ROC-AUC           :  0.762494643761443 \n",
      "\n",
      "              precision    recall  f1-score   support\n",
      "\n",
      "         0.0       0.49      0.64      0.55        99\n",
      "         1.0       0.82      0.71      0.76       229\n",
      "\n",
      "    accuracy                           0.69       328\n",
      "   macro avg       0.65      0.67      0.66       328\n",
      "weighted avg       0.72      0.69      0.70       328\n",
      "\n"
     ]
    }
   ],
   "source": [
    "import sklearn.metrics as metrics\n",
    "\n",
    "probs = best_gnb_bs_ff_gscv.predict_proba(X_test)\n",
    "preds = probs[:,1]\n",
    "\n",
    "fpr, tpr, threshold = metrics.roc_curve(y_test, preds)\n",
    "roc_auc = metrics.auc(fpr, tpr)\n",
    "\n",
    "classes = best_gnb_bs_ff_gscv.predict(X_test)\n",
    "    \n",
    "accuracy = metrics.accuracy_score(classes, y_test)\n",
    "    \n",
    "balanced_accuracy = metrics.balanced_accuracy_score(classes, y_test)\n",
    "\n",
    "precision = metrics.precision_score(classes, y_test)\n",
    "    \n",
    "average_precision = metrics.average_precision_score(classes, y_test)\n",
    "    \n",
    "f1_score = metrics.f1_score(classes, y_test)\n",
    "    \n",
    "recall = metrics.recall_score(classes, y_test)\n",
    "\n",
    "print (\"\\n Accuracy          : \", accuracy, \"\\n Balanced Accuracy : \", balanced_accuracy, \"\\n Precision         : \", precision, \"\\n Average Precision : \", average_precision, \"\\n F1-Score          : \", f1_score, \"\\n Recall            : \", recall, \"\\n ROC-AUC           : \", roc_auc, \"\\n\")\n",
    "\n",
    "print(metrics.classification_report(classes, y_test))"
   ]
  },
  {
   "cell_type": "markdown",
   "metadata": {},
   "source": [
    "### RandomSearch CV"
   ]
  },
  {
   "cell_type": "code",
   "execution_count": 133,
   "metadata": {},
   "outputs": [
    {
     "name": "stderr",
     "output_type": "stream",
     "text": [
      "[Parallel(n_jobs=-1)]: Using backend LokyBackend with 8 concurrent workers.\n"
     ]
    },
    {
     "name": "stdout",
     "output_type": "stream",
     "text": [
      "Fitting 5 folds for each of 10 candidates, totalling 50 fits\n",
      "{'priors': None, 'var_smoothing': 0.01} \n",
      "\n",
      "Model accuracy is 0.6859756097560976\n"
     ]
    },
    {
     "name": "stderr",
     "output_type": "stream",
     "text": [
      "[Parallel(n_jobs=-1)]: Done  50 out of  50 | elapsed:    0.0s finished\n"
     ]
    }
   ],
   "source": [
    "kfold = StratifiedKFold(n_splits=5)\n",
    "\n",
    "param_grid = [\n",
    "    {'var_smoothing': np.logspace(0,-9, num=100)}\n",
    "]\n",
    "\n",
    "gnb_bs_ff_rscv = RandomizedSearchCV(gnb_bs_ff, param_distributions = param_grid, cv = kfold, verbose=True, n_jobs=-1, random_state = 11)\n",
    "best_gnb_bs_ff_rscv = gnb_bs_ff_rscv.fit(X_train, y_train)\n",
    "\n",
    "print(best_gnb_bs_ff_rscv.best_estimator_.get_params(), '\\n')\n",
    "print('Model accuracy is',best_gnb_bs_ff_rscv.score(X_test, y_test))"
   ]
  },
  {
   "cell_type": "code",
   "execution_count": 134,
   "metadata": {},
   "outputs": [
    {
     "name": "stdout",
     "output_type": "stream",
     "text": [
      "\n",
      " Accuracy          :  0.6859756097560976 \n",
      " Balanced Accuracy :  0.6696428571428572 \n",
      " Precision         :  0.8040201005025126 \n",
      " Average Precision :  0.7694220230070212 \n",
      " F1-Score          :  0.7565011820330969 \n",
      " Recall            :  0.7142857142857143 \n",
      " ROC-AUC           :  0.762377780374742 \n",
      "\n",
      "              precision    recall  f1-score   support\n",
      "\n",
      "         0.0       0.50      0.62      0.56       104\n",
      "         1.0       0.80      0.71      0.76       224\n",
      "\n",
      "    accuracy                           0.69       328\n",
      "   macro avg       0.65      0.67      0.66       328\n",
      "weighted avg       0.71      0.69      0.69       328\n",
      "\n"
     ]
    }
   ],
   "source": [
    "import sklearn.metrics as metrics\n",
    "\n",
    "probs = best_gnb_bs_ff_rscv.predict_proba(X_test)\n",
    "preds = probs[:,1]\n",
    "\n",
    "fpr, tpr, threshold = metrics.roc_curve(y_test, preds)\n",
    "roc_auc = metrics.auc(fpr, tpr)\n",
    "\n",
    "classes = best_gnb_bs_ff_rscv.predict(X_test)\n",
    "    \n",
    "accuracy = metrics.accuracy_score(classes, y_test)\n",
    "    \n",
    "balanced_accuracy = metrics.balanced_accuracy_score(classes, y_test)\n",
    "\n",
    "precision = metrics.precision_score(classes, y_test)\n",
    "    \n",
    "average_precision = metrics.average_precision_score(classes, y_test)\n",
    "    \n",
    "f1_score = metrics.f1_score(classes, y_test)\n",
    "    \n",
    "recall = metrics.recall_score(classes, y_test)\n",
    "\n",
    "print (\"\\n Accuracy          : \", accuracy, \"\\n Balanced Accuracy : \", balanced_accuracy, \"\\n Precision         : \", precision, \"\\n Average Precision : \", average_precision, \"\\n F1-Score          : \", f1_score, \"\\n Recall            : \", recall, \"\\n ROC-AUC           : \", roc_auc, \"\\n\")\n",
    "\n",
    "print(metrics.classification_report(classes, y_test))"
   ]
  },
  {
   "cell_type": "markdown",
   "metadata": {},
   "source": [
    "### Bayesian Optimization"
   ]
  },
  {
   "cell_type": "code",
   "execution_count": 135,
   "metadata": {},
   "outputs": [],
   "source": [
    "from hyperopt import fmin, tpe, hp, STATUS_OK, Trials"
   ]
  },
  {
   "cell_type": "code",
   "execution_count": 136,
   "metadata": {},
   "outputs": [],
   "source": [
    "import warnings\n",
    "warnings.filterwarnings('ignore')"
   ]
  },
  {
   "cell_type": "code",
   "execution_count": 137,
   "metadata": {},
   "outputs": [
    {
     "name": "stdout",
     "output_type": "stream",
     "text": [
      "100%|█████████████████████████████████████████████| 100/100 [00:02<00:00, 42.06trial/s, best loss: -0.6972081218274112]\n",
      "best:\n",
      "{'var_smoothing': 20}\n",
      "Accuracy :  69.72081218274113\n"
     ]
    }
   ],
   "source": [
    "def f(params):\n",
    "    acc = hyperopt_train_test(params)\n",
    "    return {'loss': -acc, 'status': STATUS_OK}\n",
    "\n",
    "def hyperopt_train_test(params):\n",
    "    gnb_bs_ff_bo = GaussianNB(**params)\n",
    "    return sklearn.model_selection.cross_val_score(gnb_bs_ff_bo, X_train, y_train).mean()\n",
    "\n",
    "param_grid = {\n",
    "    'var_smoothing': hp.choice('var_smoothing', np.logspace(0,-9, num=100))\n",
    "}\n",
    "\n",
    "trials = Trials()\n",
    "best = fmin(f, param_grid, algo=tpe.suggest, max_evals=100, trials=trials)\n",
    "print('best:')\n",
    "print(best)\n",
    "print(\"Accuracy : \", -trials.best_trial['result']['loss']*100)"
   ]
  },
  {
   "cell_type": "code",
   "execution_count": null,
   "metadata": {},
   "outputs": [],
   "source": []
  },
  {
   "cell_type": "code",
   "execution_count": null,
   "metadata": {},
   "outputs": [],
   "source": []
  },
  {
   "cell_type": "markdown",
   "metadata": {},
   "source": [
    "### After Standardization"
   ]
  },
  {
   "cell_type": "code",
   "execution_count": 138,
   "metadata": {},
   "outputs": [],
   "source": [
    "X_train, X_test, y_train, y_test = train_test_split(X, y, test_size = 0.25, random_state = 11)"
   ]
  },
  {
   "cell_type": "code",
   "execution_count": 139,
   "metadata": {},
   "outputs": [
    {
     "data": {
      "text/plain": [
       "Index(['GP', 'MIN', 'PTS', 'FGM', 'FGA', 'FG%', '3P Made', '3PA', '3P%', 'FTM',\n",
       "       'FTA', 'FT%', 'OREB', 'DREB', 'REB', 'AST', 'STL', 'BLK', 'TOV'],\n",
       "      dtype='object')"
      ]
     },
     "execution_count": 139,
     "metadata": {},
     "output_type": "execute_result"
    }
   ],
   "source": [
    "X_train.columns"
   ]
  },
  {
   "cell_type": "code",
   "execution_count": 140,
   "metadata": {},
   "outputs": [],
   "source": [
    "X_train = X_train[['GP', '3P Made', '3PA', 'AST', 'BLK']]\n",
    "X_test = X_test[['GP', '3P Made', '3PA', 'AST', 'BLK']]"
   ]
  },
  {
   "cell_type": "code",
   "execution_count": 141,
   "metadata": {},
   "outputs": [],
   "source": [
    "train_mean = X_train.mean()\n",
    "train_std = X_train.std()"
   ]
  },
  {
   "cell_type": "code",
   "execution_count": 142,
   "metadata": {},
   "outputs": [],
   "source": [
    "X_train = (X_train - train_mean) / train_std"
   ]
  },
  {
   "cell_type": "code",
   "execution_count": 143,
   "metadata": {},
   "outputs": [
    {
     "data": {
      "text/html": [
       "<div>\n",
       "<style scoped>\n",
       "    .dataframe tbody tr th:only-of-type {\n",
       "        vertical-align: middle;\n",
       "    }\n",
       "\n",
       "    .dataframe tbody tr th {\n",
       "        vertical-align: top;\n",
       "    }\n",
       "\n",
       "    .dataframe thead th {\n",
       "        text-align: right;\n",
       "    }\n",
       "</style>\n",
       "<table border=\"1\" class=\"dataframe\">\n",
       "  <thead>\n",
       "    <tr style=\"text-align: right;\">\n",
       "      <th></th>\n",
       "      <th>GP</th>\n",
       "      <th>3P Made</th>\n",
       "      <th>3PA</th>\n",
       "      <th>AST</th>\n",
       "      <th>BLK</th>\n",
       "    </tr>\n",
       "  </thead>\n",
       "  <tbody>\n",
       "    <tr>\n",
       "      <th>count</th>\n",
       "      <td>9.840000e+02</td>\n",
       "      <td>9.840000e+02</td>\n",
       "      <td>9.840000e+02</td>\n",
       "      <td>9.840000e+02</td>\n",
       "      <td>9.840000e+02</td>\n",
       "    </tr>\n",
       "    <tr>\n",
       "      <th>mean</th>\n",
       "      <td>3.384826e-17</td>\n",
       "      <td>1.186043e-15</td>\n",
       "      <td>-1.324370e-15</td>\n",
       "      <td>6.514662e-16</td>\n",
       "      <td>-2.123866e-15</td>\n",
       "    </tr>\n",
       "    <tr>\n",
       "      <th>std</th>\n",
       "      <td>1.000000e+00</td>\n",
       "      <td>1.000000e+00</td>\n",
       "      <td>1.000000e+00</td>\n",
       "      <td>1.000000e+00</td>\n",
       "      <td>1.000000e+00</td>\n",
       "    </tr>\n",
       "    <tr>\n",
       "      <th>min</th>\n",
       "      <td>-2.845202e+00</td>\n",
       "      <td>-6.520126e-01</td>\n",
       "      <td>-7.413625e-01</td>\n",
       "      <td>-1.053552e+00</td>\n",
       "      <td>-9.190461e-01</td>\n",
       "    </tr>\n",
       "    <tr>\n",
       "      <th>25%</th>\n",
       "      <td>-7.655035e-01</td>\n",
       "      <td>-6.520126e-01</td>\n",
       "      <td>-7.413625e-01</td>\n",
       "      <td>-6.398944e-01</td>\n",
       "      <td>-6.653027e-01</td>\n",
       "    </tr>\n",
       "    <tr>\n",
       "      <th>50%</th>\n",
       "      <td>1.010378e-01</td>\n",
       "      <td>-3.920530e-01</td>\n",
       "      <td>-4.586103e-01</td>\n",
       "      <td>-2.951796e-01</td>\n",
       "      <td>-4.115594e-01</td>\n",
       "    </tr>\n",
       "    <tr>\n",
       "      <th>75%</th>\n",
       "      <td>9.675790e-01</td>\n",
       "      <td>3.878260e-01</td>\n",
       "      <td>3.896464e-01</td>\n",
       "      <td>2.563641e-01</td>\n",
       "      <td>3.496707e-01</td>\n",
       "    </tr>\n",
       "    <tr>\n",
       "      <th>max</th>\n",
       "      <td>1.256426e+00</td>\n",
       "      <td>4.807140e+00</td>\n",
       "      <td>4.065425e+00</td>\n",
       "      <td>5.358143e+00</td>\n",
       "      <td>5.932025e+00</td>\n",
       "    </tr>\n",
       "  </tbody>\n",
       "</table>\n",
       "</div>"
      ],
      "text/plain": [
       "                 GP       3P Made           3PA           AST           BLK\n",
       "count  9.840000e+02  9.840000e+02  9.840000e+02  9.840000e+02  9.840000e+02\n",
       "mean   3.384826e-17  1.186043e-15 -1.324370e-15  6.514662e-16 -2.123866e-15\n",
       "std    1.000000e+00  1.000000e+00  1.000000e+00  1.000000e+00  1.000000e+00\n",
       "min   -2.845202e+00 -6.520126e-01 -7.413625e-01 -1.053552e+00 -9.190461e-01\n",
       "25%   -7.655035e-01 -6.520126e-01 -7.413625e-01 -6.398944e-01 -6.653027e-01\n",
       "50%    1.010378e-01 -3.920530e-01 -4.586103e-01 -2.951796e-01 -4.115594e-01\n",
       "75%    9.675790e-01  3.878260e-01  3.896464e-01  2.563641e-01  3.496707e-01\n",
       "max    1.256426e+00  4.807140e+00  4.065425e+00  5.358143e+00  5.932025e+00"
      ]
     },
     "execution_count": 143,
     "metadata": {},
     "output_type": "execute_result"
    }
   ],
   "source": [
    "X_train.describe()"
   ]
  },
  {
   "cell_type": "code",
   "execution_count": 144,
   "metadata": {},
   "outputs": [],
   "source": [
    "X_test = (X_test - train_mean) / train_std"
   ]
  },
  {
   "cell_type": "code",
   "execution_count": 145,
   "metadata": {},
   "outputs": [
    {
     "data": {
      "text/html": [
       "<div>\n",
       "<style scoped>\n",
       "    .dataframe tbody tr th:only-of-type {\n",
       "        vertical-align: middle;\n",
       "    }\n",
       "\n",
       "    .dataframe tbody tr th {\n",
       "        vertical-align: top;\n",
       "    }\n",
       "\n",
       "    .dataframe thead th {\n",
       "        text-align: right;\n",
       "    }\n",
       "</style>\n",
       "<table border=\"1\" class=\"dataframe\">\n",
       "  <thead>\n",
       "    <tr style=\"text-align: right;\">\n",
       "      <th></th>\n",
       "      <th>GP</th>\n",
       "      <th>3P Made</th>\n",
       "      <th>3PA</th>\n",
       "      <th>AST</th>\n",
       "      <th>BLK</th>\n",
       "    </tr>\n",
       "  </thead>\n",
       "  <tbody>\n",
       "    <tr>\n",
       "      <th>count</th>\n",
       "      <td>328.000000</td>\n",
       "      <td>328.000000</td>\n",
       "      <td>328.000000</td>\n",
       "      <td>328.000000</td>\n",
       "      <td>328.000000</td>\n",
       "    </tr>\n",
       "    <tr>\n",
       "      <th>mean</th>\n",
       "      <td>0.018258</td>\n",
       "      <td>-0.056008</td>\n",
       "      <td>-0.056033</td>\n",
       "      <td>0.018637</td>\n",
       "      <td>-0.039454</td>\n",
       "    </tr>\n",
       "    <tr>\n",
       "      <th>std</th>\n",
       "      <td>1.011584</td>\n",
       "      <td>0.905094</td>\n",
       "      <td>0.900421</td>\n",
       "      <td>0.958121</td>\n",
       "      <td>0.987205</td>\n",
       "    </tr>\n",
       "    <tr>\n",
       "      <th>min</th>\n",
       "      <td>-2.614125</td>\n",
       "      <td>-0.652013</td>\n",
       "      <td>-0.741363</td>\n",
       "      <td>-1.053552</td>\n",
       "      <td>-0.919046</td>\n",
       "    </tr>\n",
       "    <tr>\n",
       "      <th>25%</th>\n",
       "      <td>-0.722176</td>\n",
       "      <td>-0.652013</td>\n",
       "      <td>-0.741363</td>\n",
       "      <td>-0.639894</td>\n",
       "      <td>-0.665303</td>\n",
       "    </tr>\n",
       "    <tr>\n",
       "      <th>50%</th>\n",
       "      <td>0.216577</td>\n",
       "      <td>-0.392053</td>\n",
       "      <td>-0.458610</td>\n",
       "      <td>-0.226237</td>\n",
       "      <td>-0.411559</td>\n",
       "    </tr>\n",
       "    <tr>\n",
       "      <th>75%</th>\n",
       "      <td>0.967579</td>\n",
       "      <td>0.127866</td>\n",
       "      <td>0.295396</td>\n",
       "      <td>0.342543</td>\n",
       "      <td>0.095927</td>\n",
       "    </tr>\n",
       "    <tr>\n",
       "      <th>max</th>\n",
       "      <td>1.256426</td>\n",
       "      <td>4.287221</td>\n",
       "      <td>3.876924</td>\n",
       "      <td>4.599771</td>\n",
       "      <td>5.678281</td>\n",
       "    </tr>\n",
       "  </tbody>\n",
       "</table>\n",
       "</div>"
      ],
      "text/plain": [
       "               GP     3P Made         3PA         AST         BLK\n",
       "count  328.000000  328.000000  328.000000  328.000000  328.000000\n",
       "mean     0.018258   -0.056008   -0.056033    0.018637   -0.039454\n",
       "std      1.011584    0.905094    0.900421    0.958121    0.987205\n",
       "min     -2.614125   -0.652013   -0.741363   -1.053552   -0.919046\n",
       "25%     -0.722176   -0.652013   -0.741363   -0.639894   -0.665303\n",
       "50%      0.216577   -0.392053   -0.458610   -0.226237   -0.411559\n",
       "75%      0.967579    0.127866    0.295396    0.342543    0.095927\n",
       "max      1.256426    4.287221    3.876924    4.599771    5.678281"
      ]
     },
     "execution_count": 145,
     "metadata": {},
     "output_type": "execute_result"
    }
   ],
   "source": [
    "X_test.describe()"
   ]
  },
  {
   "cell_type": "markdown",
   "metadata": {},
   "source": [
    "### Model - Naive Bayes Gaussian"
   ]
  },
  {
   "cell_type": "code",
   "execution_count": 146,
   "metadata": {},
   "outputs": [
    {
     "name": "stdout",
     "output_type": "stream",
     "text": [
      "[[ 92  37]\n",
      " [ 54 145]]\n",
      "              precision    recall  f1-score   support\n",
      "\n",
      "         0.0       0.63      0.71      0.67       129\n",
      "         1.0       0.80      0.73      0.76       199\n",
      "\n",
      "    accuracy                           0.72       328\n",
      "   macro avg       0.71      0.72      0.72       328\n",
      "weighted avg       0.73      0.72      0.72       328\n",
      "\n",
      "Score: \n",
      " 66.57\n",
      "Test Score: \n",
      " 72.26\n",
      "Accuracy: \n",
      " 0.7225609756097561\n"
     ]
    }
   ],
   "source": [
    "from sklearn.naive_bayes import GaussianNB\n",
    "\n",
    "gnb_as_ff =  GaussianNB()\n",
    "gnb_as_ff.fit(X_train, y_train)\n",
    "y_pred = gnb_as_ff.predict(X_test)\n",
    "\n",
    "print(confusion_matrix(y_test, y_pred))\n",
    "print(classification_report(y_test, y_pred))\n",
    "\n",
    "gnb_as_ff_score = round(gnb_as_ff.score(X_train, y_train) * 100, 2)\n",
    "gnb_as_ff_score_test = round(gnb_as_ff.score(X_test, y_test) * 100, 2)\n",
    "print('Score: \\n', gnb_as_ff_score)\n",
    "print('Test Score: \\n', gnb_as_ff_score_test)\n",
    "print('Accuracy: \\n', accuracy_score(y_test, y_pred))"
   ]
  },
  {
   "cell_type": "markdown",
   "metadata": {},
   "source": [
    "### GridSearch CV"
   ]
  },
  {
   "cell_type": "code",
   "execution_count": 147,
   "metadata": {},
   "outputs": [
    {
     "name": "stdout",
     "output_type": "stream",
     "text": [
      "Fitting 5 folds for each of 100 candidates, totalling 500 fits\n"
     ]
    },
    {
     "name": "stderr",
     "output_type": "stream",
     "text": [
      "[Parallel(n_jobs=-1)]: Using backend LokyBackend with 8 concurrent workers.\n",
      "[Parallel(n_jobs=-1)]: Done  56 tasks      | elapsed:    0.1s\n"
     ]
    },
    {
     "name": "stdout",
     "output_type": "stream",
     "text": [
      "{'priors': None, 'var_smoothing': 1.0} \n",
      "\n",
      "Model accuracy is 0.7012195121951219\n"
     ]
    },
    {
     "name": "stderr",
     "output_type": "stream",
     "text": [
      "[Parallel(n_jobs=-1)]: Done 500 out of 500 | elapsed:    0.4s finished\n"
     ]
    }
   ],
   "source": [
    "kfold = StratifiedKFold(n_splits=5)\n",
    "\n",
    "param_grid = [\n",
    "    {'var_smoothing': np.logspace(0,-9, num=100)}\n",
    "]\n",
    "\n",
    "gnb_as_ff_gscv = GridSearchCV(gnb_as_ff, param_grid = param_grid, cv = kfold, verbose=True, n_jobs=-1)\n",
    "best_gnb_as_ff_gscv = gnb_as_ff_gscv.fit(X_train, y_train)\n",
    "\n",
    "print(best_gnb_as_ff_gscv.best_estimator_.get_params(), '\\n')\n",
    "print('Model accuracy is',best_gnb_as_ff_gscv.score(X_test, y_test))"
   ]
  },
  {
   "cell_type": "code",
   "execution_count": 148,
   "metadata": {},
   "outputs": [
    {
     "name": "stdout",
     "output_type": "stream",
     "text": [
      "\n",
      " Accuracy          :  0.7012195121951219 \n",
      " Balanced Accuracy :  0.6859394475493547 \n",
      " Precision         :  0.7788944723618091 \n",
      " Average Precision :  0.742283156944719 \n",
      " F1-Score          :  0.7598039215686274 \n",
      " Recall            :  0.7416267942583732 \n",
      " ROC-AUC           :  0.7646371391842935 \n",
      "\n",
      "              precision    recall  f1-score   support\n",
      "\n",
      "         0.0       0.58      0.63      0.60       119\n",
      "         1.0       0.78      0.74      0.76       209\n",
      "\n",
      "    accuracy                           0.70       328\n",
      "   macro avg       0.68      0.69      0.68       328\n",
      "weighted avg       0.71      0.70      0.70       328\n",
      "\n"
     ]
    }
   ],
   "source": [
    "import sklearn.metrics as metrics\n",
    "\n",
    "probs = best_gnb_as_ff_gscv.predict_proba(X_test)\n",
    "preds = probs[:,1]\n",
    "\n",
    "fpr, tpr, threshold = metrics.roc_curve(y_test, preds)\n",
    "roc_auc = metrics.auc(fpr, tpr)\n",
    "\n",
    "classes = best_gnb_as_ff_gscv.predict(X_test)\n",
    "    \n",
    "accuracy = metrics.accuracy_score(classes, y_test)\n",
    "    \n",
    "balanced_accuracy = metrics.balanced_accuracy_score(classes, y_test)\n",
    "\n",
    "precision = metrics.precision_score(classes, y_test)\n",
    "    \n",
    "average_precision = metrics.average_precision_score(classes, y_test)\n",
    "    \n",
    "f1_score = metrics.f1_score(classes, y_test)\n",
    "    \n",
    "recall = metrics.recall_score(classes, y_test)\n",
    "\n",
    "print (\"\\n Accuracy          : \", accuracy, \"\\n Balanced Accuracy : \", balanced_accuracy, \"\\n Precision         : \", precision, \"\\n Average Precision : \", average_precision, \"\\n F1-Score          : \", f1_score, \"\\n Recall            : \", recall, \"\\n ROC-AUC           : \", roc_auc, \"\\n\")\n",
    "\n",
    "print(metrics.classification_report(classes, y_test))"
   ]
  },
  {
   "cell_type": "markdown",
   "metadata": {},
   "source": [
    "### RandomSearch CV"
   ]
  },
  {
   "cell_type": "code",
   "execution_count": 149,
   "metadata": {},
   "outputs": [
    {
     "name": "stderr",
     "output_type": "stream",
     "text": [
      "[Parallel(n_jobs=-1)]: Using backend LokyBackend with 8 concurrent workers.\n"
     ]
    },
    {
     "name": "stdout",
     "output_type": "stream",
     "text": [
      "Fitting 5 folds for each of 10 candidates, totalling 50 fits\n",
      "{'priors': None, 'var_smoothing': 6.579332246575683e-05} \n",
      "\n",
      "Model accuracy is 0.7225609756097561\n"
     ]
    },
    {
     "name": "stderr",
     "output_type": "stream",
     "text": [
      "[Parallel(n_jobs=-1)]: Done  50 out of  50 | elapsed:    0.0s finished\n"
     ]
    }
   ],
   "source": [
    "kfold = StratifiedKFold(n_splits=5)\n",
    "\n",
    "param_grid = [\n",
    "    {'var_smoothing': np.logspace(0,-9, num=100)}\n",
    "]\n",
    "\n",
    "gnb_as_ff_rscv = RandomizedSearchCV(gnb_as_ff, param_distributions = param_grid, cv = kfold, verbose=True, n_jobs=-1, random_state = 11)\n",
    "best_gnb_as_ff_rscv = gnb_as_ff_rscv.fit(X_train, y_train)\n",
    "\n",
    "print(best_gnb_as_ff_rscv.best_estimator_.get_params(), '\\n')\n",
    "print('Model accuracy is',best_gnb_as_ff_rscv.score(X_test, y_test))"
   ]
  },
  {
   "cell_type": "code",
   "execution_count": 150,
   "metadata": {},
   "outputs": [
    {
     "name": "stdout",
     "output_type": "stream",
     "text": [
      "\n",
      " Accuracy          :  0.7225609756097561 \n",
      " Balanced Accuracy :  0.7134201415023332 \n",
      " Precision         :  0.7286432160804021 \n",
      " Average Precision :  0.6933173304205293 \n",
      " F1-Score          :  0.7611548556430446 \n",
      " Recall            :  0.7967032967032966 \n",
      " ROC-AUC           :  0.7573137002843675 \n",
      "\n",
      "              precision    recall  f1-score   support\n",
      "\n",
      "         0.0       0.71      0.63      0.67       146\n",
      "         1.0       0.73      0.80      0.76       182\n",
      "\n",
      "    accuracy                           0.72       328\n",
      "   macro avg       0.72      0.71      0.72       328\n",
      "weighted avg       0.72      0.72      0.72       328\n",
      "\n"
     ]
    }
   ],
   "source": [
    "import sklearn.metrics as metrics\n",
    "\n",
    "probs = best_gnb_as_ff_rscv.predict_proba(X_test)\n",
    "preds = probs[:,1]\n",
    "\n",
    "fpr, tpr, threshold = metrics.roc_curve(y_test, preds)\n",
    "roc_auc = metrics.auc(fpr, tpr)\n",
    "\n",
    "classes = best_gnb_as_ff_rscv.predict(X_test)\n",
    "    \n",
    "accuracy = metrics.accuracy_score(classes, y_test)\n",
    "    \n",
    "balanced_accuracy = metrics.balanced_accuracy_score(classes, y_test)\n",
    "\n",
    "precision = metrics.precision_score(classes, y_test)\n",
    "    \n",
    "average_precision = metrics.average_precision_score(classes, y_test)\n",
    "    \n",
    "f1_score = metrics.f1_score(classes, y_test)\n",
    "    \n",
    "recall = metrics.recall_score(classes, y_test)\n",
    "\n",
    "print (\"\\n Accuracy          : \", accuracy, \"\\n Balanced Accuracy : \", balanced_accuracy, \"\\n Precision         : \", precision, \"\\n Average Precision : \", average_precision, \"\\n F1-Score          : \", f1_score, \"\\n Recall            : \", recall, \"\\n ROC-AUC           : \", roc_auc, \"\\n\")\n",
    "\n",
    "print(metrics.classification_report(classes, y_test))"
   ]
  },
  {
   "cell_type": "markdown",
   "metadata": {},
   "source": [
    "### Bayesian Optimization"
   ]
  },
  {
   "cell_type": "code",
   "execution_count": 151,
   "metadata": {},
   "outputs": [],
   "source": [
    "from hyperopt import fmin, tpe, hp, STATUS_OK, Trials"
   ]
  },
  {
   "cell_type": "code",
   "execution_count": 152,
   "metadata": {},
   "outputs": [],
   "source": [
    "import warnings\n",
    "warnings.filterwarnings('ignore')"
   ]
  },
  {
   "cell_type": "code",
   "execution_count": 153,
   "metadata": {},
   "outputs": [
    {
     "name": "stdout",
     "output_type": "stream",
     "text": [
      "100%|█████████████████████████████████████████████| 100/100 [00:02<00:00, 44.12trial/s, best loss: -0.6880089091474153]\n",
      "best:\n",
      "{'var_smoothing': 0}\n",
      "Accuracy :  68.80089091474153\n"
     ]
    }
   ],
   "source": [
    "def f(params):\n",
    "    acc = hyperopt_train_test(params)\n",
    "    return {'loss': -acc, 'status': STATUS_OK}\n",
    "\n",
    "def hyperopt_train_test(params):\n",
    "    gnb_as_ff_bo = GaussianNB(**params)\n",
    "    return sklearn.model_selection.cross_val_score(gnb_as_ff_bo, X_train, y_train).mean()\n",
    "\n",
    "param_grid = {\n",
    "    'var_smoothing': hp.choice('var_smoothing', np.logspace(0,-9, num=100))\n",
    "}\n",
    "\n",
    "trials = Trials()\n",
    "best = fmin(f, param_grid, algo=tpe.suggest, max_evals=100, trials=trials)\n",
    "print('best:')\n",
    "print(best)\n",
    "print(\"Accuracy : \", -trials.best_trial['result']['loss']*100)"
   ]
  },
  {
   "cell_type": "code",
   "execution_count": null,
   "metadata": {},
   "outputs": [],
   "source": []
  },
  {
   "cell_type": "code",
   "execution_count": null,
   "metadata": {},
   "outputs": [],
   "source": []
  },
  {
   "cell_type": "markdown",
   "metadata": {},
   "source": [
    "### Some Better performing models from the fields"
   ]
  },
  {
   "cell_type": "markdown",
   "metadata": {},
   "source": [
    "### 5 Features"
   ]
  },
  {
   "cell_type": "markdown",
   "metadata": {},
   "source": [
    "### After Standardization"
   ]
  },
  {
   "cell_type": "code",
   "execution_count": 154,
   "metadata": {},
   "outputs": [],
   "source": [
    "X_train, X_test, y_train, y_test = train_test_split(X, y, test_size = 0.25, random_state = 11)"
   ]
  },
  {
   "cell_type": "code",
   "execution_count": 155,
   "metadata": {},
   "outputs": [
    {
     "data": {
      "text/plain": [
       "Index(['GP', 'MIN', 'PTS', 'FGM', 'FGA', 'FG%', '3P Made', '3PA', '3P%', 'FTM',\n",
       "       'FTA', 'FT%', 'OREB', 'DREB', 'REB', 'AST', 'STL', 'BLK', 'TOV'],\n",
       "      dtype='object')"
      ]
     },
     "execution_count": 155,
     "metadata": {},
     "output_type": "execute_result"
    }
   ],
   "source": [
    "X_train.columns"
   ]
  },
  {
   "cell_type": "code",
   "execution_count": 156,
   "metadata": {},
   "outputs": [],
   "source": [
    "X_train = X_train[['GP', '3P Made', '3PA', 'AST', 'BLK']]\n",
    "X_test = X_test[['GP', '3P Made', '3PA', 'AST', 'BLK']]"
   ]
  },
  {
   "cell_type": "code",
   "execution_count": 157,
   "metadata": {},
   "outputs": [],
   "source": [
    "train_mean = X_train.mean()\n",
    "train_std = X_train.std()"
   ]
  },
  {
   "cell_type": "code",
   "execution_count": 158,
   "metadata": {},
   "outputs": [],
   "source": [
    "X_train = (X_train - train_mean) / train_std"
   ]
  },
  {
   "cell_type": "code",
   "execution_count": 159,
   "metadata": {},
   "outputs": [
    {
     "data": {
      "text/html": [
       "<div>\n",
       "<style scoped>\n",
       "    .dataframe tbody tr th:only-of-type {\n",
       "        vertical-align: middle;\n",
       "    }\n",
       "\n",
       "    .dataframe tbody tr th {\n",
       "        vertical-align: top;\n",
       "    }\n",
       "\n",
       "    .dataframe thead th {\n",
       "        text-align: right;\n",
       "    }\n",
       "</style>\n",
       "<table border=\"1\" class=\"dataframe\">\n",
       "  <thead>\n",
       "    <tr style=\"text-align: right;\">\n",
       "      <th></th>\n",
       "      <th>GP</th>\n",
       "      <th>3P Made</th>\n",
       "      <th>3PA</th>\n",
       "      <th>AST</th>\n",
       "      <th>BLK</th>\n",
       "    </tr>\n",
       "  </thead>\n",
       "  <tbody>\n",
       "    <tr>\n",
       "      <th>count</th>\n",
       "      <td>9.840000e+02</td>\n",
       "      <td>9.840000e+02</td>\n",
       "      <td>9.840000e+02</td>\n",
       "      <td>9.840000e+02</td>\n",
       "      <td>9.840000e+02</td>\n",
       "    </tr>\n",
       "    <tr>\n",
       "      <th>mean</th>\n",
       "      <td>3.384826e-17</td>\n",
       "      <td>1.186043e-15</td>\n",
       "      <td>-1.324370e-15</td>\n",
       "      <td>6.514662e-16</td>\n",
       "      <td>-2.123866e-15</td>\n",
       "    </tr>\n",
       "    <tr>\n",
       "      <th>std</th>\n",
       "      <td>1.000000e+00</td>\n",
       "      <td>1.000000e+00</td>\n",
       "      <td>1.000000e+00</td>\n",
       "      <td>1.000000e+00</td>\n",
       "      <td>1.000000e+00</td>\n",
       "    </tr>\n",
       "    <tr>\n",
       "      <th>min</th>\n",
       "      <td>-2.845202e+00</td>\n",
       "      <td>-6.520126e-01</td>\n",
       "      <td>-7.413625e-01</td>\n",
       "      <td>-1.053552e+00</td>\n",
       "      <td>-9.190461e-01</td>\n",
       "    </tr>\n",
       "    <tr>\n",
       "      <th>25%</th>\n",
       "      <td>-7.655035e-01</td>\n",
       "      <td>-6.520126e-01</td>\n",
       "      <td>-7.413625e-01</td>\n",
       "      <td>-6.398944e-01</td>\n",
       "      <td>-6.653027e-01</td>\n",
       "    </tr>\n",
       "    <tr>\n",
       "      <th>50%</th>\n",
       "      <td>1.010378e-01</td>\n",
       "      <td>-3.920530e-01</td>\n",
       "      <td>-4.586103e-01</td>\n",
       "      <td>-2.951796e-01</td>\n",
       "      <td>-4.115594e-01</td>\n",
       "    </tr>\n",
       "    <tr>\n",
       "      <th>75%</th>\n",
       "      <td>9.675790e-01</td>\n",
       "      <td>3.878260e-01</td>\n",
       "      <td>3.896464e-01</td>\n",
       "      <td>2.563641e-01</td>\n",
       "      <td>3.496707e-01</td>\n",
       "    </tr>\n",
       "    <tr>\n",
       "      <th>max</th>\n",
       "      <td>1.256426e+00</td>\n",
       "      <td>4.807140e+00</td>\n",
       "      <td>4.065425e+00</td>\n",
       "      <td>5.358143e+00</td>\n",
       "      <td>5.932025e+00</td>\n",
       "    </tr>\n",
       "  </tbody>\n",
       "</table>\n",
       "</div>"
      ],
      "text/plain": [
       "                 GP       3P Made           3PA           AST           BLK\n",
       "count  9.840000e+02  9.840000e+02  9.840000e+02  9.840000e+02  9.840000e+02\n",
       "mean   3.384826e-17  1.186043e-15 -1.324370e-15  6.514662e-16 -2.123866e-15\n",
       "std    1.000000e+00  1.000000e+00  1.000000e+00  1.000000e+00  1.000000e+00\n",
       "min   -2.845202e+00 -6.520126e-01 -7.413625e-01 -1.053552e+00 -9.190461e-01\n",
       "25%   -7.655035e-01 -6.520126e-01 -7.413625e-01 -6.398944e-01 -6.653027e-01\n",
       "50%    1.010378e-01 -3.920530e-01 -4.586103e-01 -2.951796e-01 -4.115594e-01\n",
       "75%    9.675790e-01  3.878260e-01  3.896464e-01  2.563641e-01  3.496707e-01\n",
       "max    1.256426e+00  4.807140e+00  4.065425e+00  5.358143e+00  5.932025e+00"
      ]
     },
     "execution_count": 159,
     "metadata": {},
     "output_type": "execute_result"
    }
   ],
   "source": [
    "X_train.describe()"
   ]
  },
  {
   "cell_type": "code",
   "execution_count": 160,
   "metadata": {},
   "outputs": [],
   "source": [
    "X_test = (X_test - train_mean) / train_std"
   ]
  },
  {
   "cell_type": "code",
   "execution_count": 161,
   "metadata": {},
   "outputs": [
    {
     "data": {
      "text/html": [
       "<div>\n",
       "<style scoped>\n",
       "    .dataframe tbody tr th:only-of-type {\n",
       "        vertical-align: middle;\n",
       "    }\n",
       "\n",
       "    .dataframe tbody tr th {\n",
       "        vertical-align: top;\n",
       "    }\n",
       "\n",
       "    .dataframe thead th {\n",
       "        text-align: right;\n",
       "    }\n",
       "</style>\n",
       "<table border=\"1\" class=\"dataframe\">\n",
       "  <thead>\n",
       "    <tr style=\"text-align: right;\">\n",
       "      <th></th>\n",
       "      <th>GP</th>\n",
       "      <th>3P Made</th>\n",
       "      <th>3PA</th>\n",
       "      <th>AST</th>\n",
       "      <th>BLK</th>\n",
       "    </tr>\n",
       "  </thead>\n",
       "  <tbody>\n",
       "    <tr>\n",
       "      <th>count</th>\n",
       "      <td>328.000000</td>\n",
       "      <td>328.000000</td>\n",
       "      <td>328.000000</td>\n",
       "      <td>328.000000</td>\n",
       "      <td>328.000000</td>\n",
       "    </tr>\n",
       "    <tr>\n",
       "      <th>mean</th>\n",
       "      <td>0.018258</td>\n",
       "      <td>-0.056008</td>\n",
       "      <td>-0.056033</td>\n",
       "      <td>0.018637</td>\n",
       "      <td>-0.039454</td>\n",
       "    </tr>\n",
       "    <tr>\n",
       "      <th>std</th>\n",
       "      <td>1.011584</td>\n",
       "      <td>0.905094</td>\n",
       "      <td>0.900421</td>\n",
       "      <td>0.958121</td>\n",
       "      <td>0.987205</td>\n",
       "    </tr>\n",
       "    <tr>\n",
       "      <th>min</th>\n",
       "      <td>-2.614125</td>\n",
       "      <td>-0.652013</td>\n",
       "      <td>-0.741363</td>\n",
       "      <td>-1.053552</td>\n",
       "      <td>-0.919046</td>\n",
       "    </tr>\n",
       "    <tr>\n",
       "      <th>25%</th>\n",
       "      <td>-0.722176</td>\n",
       "      <td>-0.652013</td>\n",
       "      <td>-0.741363</td>\n",
       "      <td>-0.639894</td>\n",
       "      <td>-0.665303</td>\n",
       "    </tr>\n",
       "    <tr>\n",
       "      <th>50%</th>\n",
       "      <td>0.216577</td>\n",
       "      <td>-0.392053</td>\n",
       "      <td>-0.458610</td>\n",
       "      <td>-0.226237</td>\n",
       "      <td>-0.411559</td>\n",
       "    </tr>\n",
       "    <tr>\n",
       "      <th>75%</th>\n",
       "      <td>0.967579</td>\n",
       "      <td>0.127866</td>\n",
       "      <td>0.295396</td>\n",
       "      <td>0.342543</td>\n",
       "      <td>0.095927</td>\n",
       "    </tr>\n",
       "    <tr>\n",
       "      <th>max</th>\n",
       "      <td>1.256426</td>\n",
       "      <td>4.287221</td>\n",
       "      <td>3.876924</td>\n",
       "      <td>4.599771</td>\n",
       "      <td>5.678281</td>\n",
       "    </tr>\n",
       "  </tbody>\n",
       "</table>\n",
       "</div>"
      ],
      "text/plain": [
       "               GP     3P Made         3PA         AST         BLK\n",
       "count  328.000000  328.000000  328.000000  328.000000  328.000000\n",
       "mean     0.018258   -0.056008   -0.056033    0.018637   -0.039454\n",
       "std      1.011584    0.905094    0.900421    0.958121    0.987205\n",
       "min     -2.614125   -0.652013   -0.741363   -1.053552   -0.919046\n",
       "25%     -0.722176   -0.652013   -0.741363   -0.639894   -0.665303\n",
       "50%      0.216577   -0.392053   -0.458610   -0.226237   -0.411559\n",
       "75%      0.967579    0.127866    0.295396    0.342543    0.095927\n",
       "max      1.256426    4.287221    3.876924    4.599771    5.678281"
      ]
     },
     "execution_count": 161,
     "metadata": {},
     "output_type": "execute_result"
    }
   ],
   "source": [
    "X_test.describe()"
   ]
  },
  {
   "cell_type": "markdown",
   "metadata": {},
   "source": [
    "### Model - SGD (Stochastic Gradient Descent)"
   ]
  },
  {
   "cell_type": "code",
   "execution_count": 162,
   "metadata": {},
   "outputs": [
    {
     "name": "stdout",
     "output_type": "stream",
     "text": [
      "[[ 92  37]\n",
      " [ 54 145]]\n",
      "              precision    recall  f1-score   support\n",
      "\n",
      "         0.0       0.63      0.71      0.67       129\n",
      "         1.0       0.80      0.73      0.76       199\n",
      "\n",
      "    accuracy                           0.72       328\n",
      "   macro avg       0.71      0.72      0.72       328\n",
      "weighted avg       0.73      0.72      0.72       328\n",
      "\n",
      "Score: \n",
      " 67.68\n",
      "Test Score: \n",
      " 72.26\n",
      "Accuracy: \n",
      " 0.7225609756097561\n"
     ]
    }
   ],
   "source": [
    "from sklearn.linear_model import SGDClassifier\n",
    "\n",
    "sgd_as_ff =  SGDClassifier(random_state = 11)\n",
    "sgd_as_ff.fit(X_train, y_train)\n",
    "y_pred = sgd_as_ff.predict(X_test)\n",
    "\n",
    "print(confusion_matrix(y_test, y_pred))\n",
    "print(classification_report(y_test, y_pred))\n",
    "\n",
    "sgd_as_ff_score = round(sgd_as_ff.score(X_train, y_train) * 100, 2)\n",
    "sgd_as_ff_score_test = round(sgd_as_ff.score(X_test, y_test) * 100, 2)\n",
    "print('Score: \\n', sgd_as_ff_score)\n",
    "print('Test Score: \\n', sgd_as_ff_score_test)\n",
    "print('Accuracy: \\n', accuracy_score(y_test, y_pred))"
   ]
  },
  {
   "cell_type": "code",
   "execution_count": null,
   "metadata": {},
   "outputs": [],
   "source": []
  },
  {
   "cell_type": "markdown",
   "metadata": {},
   "source": [
    "### GridSearch CV"
   ]
  },
  {
   "cell_type": "code",
   "execution_count": 163,
   "metadata": {},
   "outputs": [
    {
     "name": "stdout",
     "output_type": "stream",
     "text": [
      "Fitting 5 folds for each of 400 candidates, totalling 2000 fits\n"
     ]
    },
    {
     "name": "stderr",
     "output_type": "stream",
     "text": [
      "[Parallel(n_jobs=-1)]: Using backend LokyBackend with 8 concurrent workers.\n",
      "[Parallel(n_jobs=-1)]: Done  64 tasks      | elapsed:    0.3s\n",
      "[Parallel(n_jobs=-1)]: Done 1830 tasks      | elapsed:    8.3s\n"
     ]
    },
    {
     "name": "stdout",
     "output_type": "stream",
     "text": [
      "{'alpha': 0.001, 'average': False, 'class_weight': None, 'early_stopping': False, 'epsilon': 0.1, 'eta0': 0.0, 'fit_intercept': True, 'l1_ratio': 0.15, 'learning_rate': 'optimal', 'loss': 'log', 'max_iter': 1000, 'n_iter_no_change': 100, 'n_jobs': None, 'penalty': 'l1', 'power_t': 0.5, 'random_state': 11, 'shuffle': True, 'tol': 0.001, 'validation_fraction': 0.1, 'verbose': 0, 'warm_start': False} \n",
      "\n",
      "Model accuracy is 0.6951219512195121\n"
     ]
    },
    {
     "name": "stderr",
     "output_type": "stream",
     "text": [
      "[Parallel(n_jobs=-1)]: Done 2000 out of 2000 | elapsed:    9.4s finished\n"
     ]
    }
   ],
   "source": [
    "kfold = StratifiedKFold(n_splits=5)\n",
    "\n",
    "param_grid = [\n",
    "    {'alpha': [1e-4, 1e-3, 1e-2, 1e-1, 1e0, 1e1, 1e2, 1e3], \n",
    "    'n_iter_no_change': [1, 5, 10, 100, 1000], \n",
    "    'loss' : ['hinge', 'log', 'modified_huber', 'squared_hinge',  'perceptron'],\n",
    "    'penalty': ['l1', 'l2'],\n",
    "    #'learning_rate' : ['constant', 'optimal', 'invscaling', 'adaptive'],\n",
    "    #'eta0' : ['eta0']\n",
    "    }\n",
    "]\n",
    "\n",
    "sgd_as_ff_gscv = GridSearchCV(sgd_as_ff, param_grid = param_grid, cv = kfold, verbose=True, n_jobs=-1)\n",
    "best_sgd_as_ff_gscv = sgd_as_ff_gscv.fit(X_train, y_train)\n",
    "\n",
    "print(best_sgd_as_ff_gscv.best_estimator_.get_params(), '\\n')\n",
    "print('Model accuracy is',best_sgd_as_ff_gscv.score(X_test, y_test))"
   ]
  },
  {
   "cell_type": "code",
   "execution_count": 164,
   "metadata": {},
   "outputs": [
    {
     "name": "stdout",
     "output_type": "stream",
     "text": [
      "\n",
      " Accuracy          :  0.6951219512195121 \n",
      " Balanced Accuracy :  0.6818851251840943 \n",
      " Precision         :  0.8291457286432161 \n",
      " Average Precision :  0.7934664612259906 \n",
      " F1-Score          :  0.7674418604651164 \n",
      " Recall            :  0.7142857142857143 \n",
      " ROC-AUC           :  0.7789334268240427 \n",
      "\n",
      "              precision    recall  f1-score   support\n",
      "\n",
      "         0.0       0.49      0.65      0.56        97\n",
      "         1.0       0.83      0.71      0.77       231\n",
      "\n",
      "    accuracy                           0.70       328\n",
      "   macro avg       0.66      0.68      0.66       328\n",
      "weighted avg       0.73      0.70      0.71       328\n",
      "\n"
     ]
    }
   ],
   "source": [
    "import sklearn.metrics as metrics\n",
    "\n",
    "probs = best_sgd_as_ff_gscv.predict_proba(X_test)\n",
    "preds = probs[:,1]\n",
    "\n",
    "fpr, tpr, threshold = metrics.roc_curve(y_test, preds)\n",
    "roc_auc = metrics.auc(fpr, tpr)\n",
    "\n",
    "classes = best_sgd_as_ff_gscv.predict(X_test)\n",
    "    \n",
    "accuracy = metrics.accuracy_score(classes, y_test)\n",
    "    \n",
    "balanced_accuracy = metrics.balanced_accuracy_score(classes, y_test)\n",
    "\n",
    "precision = metrics.precision_score(classes, y_test)\n",
    "    \n",
    "average_precision = metrics.average_precision_score(classes, y_test)\n",
    "    \n",
    "f1_score = metrics.f1_score(classes, y_test)\n",
    "    \n",
    "recall = metrics.recall_score(classes, y_test)\n",
    "\n",
    "print (\"\\n Accuracy          : \", accuracy, \"\\n Balanced Accuracy : \", balanced_accuracy, \"\\n Precision         : \", precision, \"\\n Average Precision : \", average_precision, \"\\n F1-Score          : \", f1_score, \"\\n Recall            : \", recall, \"\\n ROC-AUC           : \", roc_auc, \"\\n\")\n",
    "\n",
    "print(metrics.classification_report(classes, y_test))"
   ]
  },
  {
   "cell_type": "markdown",
   "metadata": {},
   "source": [
    "### RandomSearch CV"
   ]
  },
  {
   "cell_type": "code",
   "execution_count": 165,
   "metadata": {},
   "outputs": [
    {
     "name": "stderr",
     "output_type": "stream",
     "text": [
      "[Parallel(n_jobs=-1)]: Using backend LokyBackend with 8 concurrent workers.\n"
     ]
    },
    {
     "name": "stdout",
     "output_type": "stream",
     "text": [
      "Fitting 5 folds for each of 10 candidates, totalling 50 fits\n",
      "{'alpha': 0.01, 'average': False, 'class_weight': None, 'early_stopping': False, 'epsilon': 0.1, 'eta0': 0.0, 'fit_intercept': True, 'l1_ratio': 0.15, 'learning_rate': 'optimal', 'loss': 'modified_huber', 'max_iter': 1000, 'n_iter_no_change': 10, 'n_jobs': None, 'penalty': 'l1', 'power_t': 0.5, 'random_state': 11, 'shuffle': True, 'tol': 0.001, 'validation_fraction': 0.1, 'verbose': 0, 'warm_start': False} \n",
      "\n",
      "Model accuracy is 0.6890243902439024\n"
     ]
    },
    {
     "name": "stderr",
     "output_type": "stream",
     "text": [
      "[Parallel(n_jobs=-1)]: Done  50 out of  50 | elapsed:    0.3s finished\n"
     ]
    }
   ],
   "source": [
    "kfold = StratifiedKFold(n_splits=5)\n",
    "\n",
    "param_grid = [\n",
    "    {'alpha': [1e-4, 1e-3, 1e-2, 1e-1, 1e0, 1e1, 1e2, 1e3], \n",
    "    'n_iter_no_change': [1, 5, 10, 100, 1000], \n",
    "    'loss' : ['hinge', 'log', 'modified_huber', 'squared_hinge',  'perceptron'],\n",
    "    'penalty': ['l1', 'l2'],\n",
    "    #'learning_rate' : ['constant', 'optimal', 'invscaling', 'adaptive'],\n",
    "    #'eta0' : ['eta0']\n",
    "    }\n",
    "]\n",
    "\n",
    "sgd_as_ff_rscv = RandomizedSearchCV(sgd_as_ff, param_distributions = param_grid, cv = kfold, verbose=True, n_jobs=-1, random_state = 11)\n",
    "best_sgd_as_ff_rscv = sgd_as_ff_rscv.fit(X_train, y_train)\n",
    "\n",
    "print(best_sgd_as_ff_rscv.best_estimator_.get_params(), '\\n')\n",
    "print('Model accuracy is',best_sgd_as_ff_rscv.score(X_test, y_test))"
   ]
  },
  {
   "cell_type": "code",
   "execution_count": 166,
   "metadata": {},
   "outputs": [
    {
     "name": "stdout",
     "output_type": "stream",
     "text": [
      "\n",
      " Accuracy          :  0.6890243902439024 \n",
      " Balanced Accuracy :  0.6729348824210484 \n",
      " Precision         :  0.7638190954773869 \n",
      " Average Precision :  0.7285549196435814 \n",
      " F1-Score          :  0.748768472906404 \n",
      " Recall            :  0.7342995169082126 \n",
      " ROC-AUC           :  0.7719605780842195 \n",
      "\n",
      "              precision    recall  f1-score   support\n",
      "\n",
      "         0.0       0.57      0.61      0.59       121\n",
      "         1.0       0.76      0.73      0.75       207\n",
      "\n",
      "    accuracy                           0.69       328\n",
      "   macro avg       0.67      0.67      0.67       328\n",
      "weighted avg       0.69      0.69      0.69       328\n",
      "\n"
     ]
    }
   ],
   "source": [
    "import sklearn.metrics as metrics\n",
    "\n",
    "probs = best_sgd_as_ff_rscv.predict_proba(X_test)\n",
    "preds = probs[:,1]\n",
    "\n",
    "fpr, tpr, threshold = metrics.roc_curve(y_test, preds)\n",
    "roc_auc = metrics.auc(fpr, tpr)\n",
    "\n",
    "classes = best_sgd_as_ff_rscv.predict(X_test)\n",
    "    \n",
    "accuracy = metrics.accuracy_score(classes, y_test)\n",
    "    \n",
    "balanced_accuracy = metrics.balanced_accuracy_score(classes, y_test)\n",
    "\n",
    "precision = metrics.precision_score(classes, y_test)\n",
    "    \n",
    "average_precision = metrics.average_precision_score(classes, y_test)\n",
    "    \n",
    "f1_score = metrics.f1_score(classes, y_test)\n",
    "    \n",
    "recall = metrics.recall_score(classes, y_test)\n",
    "\n",
    "print (\"\\n Accuracy          : \", accuracy, \"\\n Balanced Accuracy : \", balanced_accuracy, \"\\n Precision         : \", precision, \"\\n Average Precision : \", average_precision, \"\\n F1-Score          : \", f1_score, \"\\n Recall            : \", recall, \"\\n ROC-AUC           : \", roc_auc, \"\\n\")\n",
    "\n",
    "print(metrics.classification_report(classes, y_test))"
   ]
  },
  {
   "cell_type": "markdown",
   "metadata": {},
   "source": [
    "### Bayesian Optimization"
   ]
  },
  {
   "cell_type": "code",
   "execution_count": 167,
   "metadata": {},
   "outputs": [],
   "source": [
    "from hyperopt import fmin, tpe, hp, STATUS_OK, Trials"
   ]
  },
  {
   "cell_type": "code",
   "execution_count": 168,
   "metadata": {},
   "outputs": [],
   "source": [
    "import warnings\n",
    "warnings.filterwarnings('ignore')"
   ]
  },
  {
   "cell_type": "code",
   "execution_count": 169,
   "metadata": {},
   "outputs": [
    {
     "name": "stdout",
     "output_type": "stream",
     "text": [
      "100%|█████████████████████████████████████████████| 100/100 [00:08<00:00, 12.29trial/s, best loss: -0.7032839531751787]\n",
      "best:\n",
      "{'alpha': 0, 'loss': 0, 'n_iter_no_change': 3, 'penalty': 0}\n",
      "Accuracy :  70.32839531751787\n"
     ]
    }
   ],
   "source": [
    "def f(params):\n",
    "    acc = hyperopt_train_test(params)\n",
    "    return {'loss': -acc, 'status': STATUS_OK}\n",
    "\n",
    "def hyperopt_train_test(params):\n",
    "    sgd_as_ff_bo = SGDClassifier(**params)\n",
    "    return sklearn.model_selection.cross_val_score(sgd_as_ff_bo, X_train, y_train).mean()\n",
    "\n",
    "param_grid = {\n",
    "    'alpha': hp.choice('alpha', [1e-4, 1e-3, 1e-2, 1e-1, 1e0, 1e1, 1e2, 1e3]),\n",
    "    'n_iter_no_change' : hp.choice('n_iter_no_change', [1, 5, 10, 100, 1000]),\n",
    "    'loss' : hp.choice('loss', ['hinge', 'log', 'modified_huber', 'squared_hinge',  'perceptron']),\n",
    "    'penalty' : hp.choice('penalty', ['l1', 'l2'])\n",
    "}\n",
    "\n",
    "trials = Trials()\n",
    "best = fmin(f, param_grid, algo=tpe.suggest, max_evals=100, trials=trials)\n",
    "print('best:')\n",
    "print(best)\n",
    "print(\"Accuracy : \", -trials.best_trial['result']['loss']*100)"
   ]
  },
  {
   "cell_type": "code",
   "execution_count": null,
   "metadata": {},
   "outputs": [],
   "source": []
  },
  {
   "cell_type": "code",
   "execution_count": null,
   "metadata": {},
   "outputs": [],
   "source": []
  },
  {
   "cell_type": "markdown",
   "metadata": {},
   "source": [
    "### Ensembling - Combining Two Classifiers"
   ]
  },
  {
   "cell_type": "code",
   "execution_count": null,
   "metadata": {},
   "outputs": [],
   "source": []
  },
  {
   "cell_type": "code",
   "execution_count": 170,
   "metadata": {
    "colab": {
     "base_uri": "https://localhost:8080/",
     "height": 34
    },
    "colab_type": "code",
    "id": "W9Cx5MAoKGUH",
    "outputId": "7b7d6894-61e9-4bf7-810a-76c695cdc28e"
   },
   "outputs": [
    {
     "name": "stderr",
     "output_type": "stream",
     "text": [
      "[MLENS] backend: threading\n"
     ]
    }
   ],
   "source": [
    "from mlens.ensemble import SuperLearner\n",
    "from mlens.model_selection import Evaluator\n",
    "from mlens.metrics import make_scorer\n",
    "from sklearn.metrics import accuracy_score\n",
    "from xgboost import XGBClassifier"
   ]
  },
  {
   "cell_type": "code",
   "execution_count": 171,
   "metadata": {},
   "outputs": [
    {
     "name": "stdout",
     "output_type": "stream",
     "text": [
      "\n",
      "Fitting 2 layers\n",
      "Processing layer-1             done | 00:00:00\n",
      "Processing layer-2             done | 00:00:00\n",
      "Fit complete                        | 00:00:00\n"
     ]
    },
    {
     "data": {
      "text/plain": [
       "SuperLearner(array_check=None, backend=None, folds=2,\n",
       "       layers=[Layer(backend='threading', dtype=<class 'numpy.float32'>, n_jobs=-1,\n",
       "   name='layer-1', propagate_features=None, raise_on_exception=True,\n",
       "   random_state=4782, shuffle=False,\n",
       "   stack=[Group(backend='threading', dtype=<class 'numpy.float32'>,\n",
       "   indexer=FoldIndex(X=None, folds=2, raise_on_ex...C22B438>)],\n",
       "   n_jobs=-1, name='group-1', raise_on_exception=True, transformers=[])],\n",
       "   verbose=1)],\n",
       "       model_selection=False, n_jobs=None, raise_on_exception=True,\n",
       "       random_state=555, sample_size=20,\n",
       "       scorer=<function accuracy_score at 0x000001C93C22B438>,\n",
       "       shuffle=False, verbose=2)"
      ]
     },
     "execution_count": 171,
     "metadata": {},
     "output_type": "execute_result"
    }
   ],
   "source": [
    "ensemble = SuperLearner(scorer=accuracy_score, random_state=555, verbose=2)\n",
    "ensemble.add([lr_as_af, sgd_as_ff])\n",
    "ensemble.add_meta(GaussianNB())\n",
    "ensemble.fit(X_train, y_train)"
   ]
  },
  {
   "cell_type": "code",
   "execution_count": 172,
   "metadata": {},
   "outputs": [
    {
     "name": "stdout",
     "output_type": "stream",
     "text": [
      "\n",
      "Predicting 2 layers\n",
      "Processing layer-1             done | 00:00:00\n",
      "Processing layer-2             done | 00:00:00\n",
      "Predict complete                    | 00:00:00\n",
      "Accuracy - Train :  0.6839430894308943\n",
      "\n",
      "Predicting 2 layers\n",
      "Processing layer-1             done | 00:00:00\n",
      "Processing layer-2             done | 00:00:00\n",
      "Predict complete                    | 00:00:00\n",
      "Accuracy - Test :  0.7225609756097561\n"
     ]
    }
   ],
   "source": [
    "print (\"Accuracy - Train : \", sklearn.metrics.accuracy_score(ensemble.predict(X_train), y_train))\n",
    "print (\"Accuracy - Test : \", sklearn.metrics.accuracy_score(ensemble.predict(X_test), y_test))"
   ]
  },
  {
   "cell_type": "code",
   "execution_count": 173,
   "metadata": {},
   "outputs": [
    {
     "name": "stdout",
     "output_type": "stream",
     "text": [
      "Fit data:\n",
      "                               score-m  score-s  ft-m  ft-s  pt-m  pt-s\n",
      "layer-1  logisticregression       0.70     0.02  0.02  0.00  0.00  0.00\n",
      "layer-1  sgdclassifier            0.69     0.01  0.02  0.00  0.00  0.00\n",
      "\n"
     ]
    }
   ],
   "source": [
    "print(\"Fit data:\\n%r\" % ensemble.data)"
   ]
  },
  {
   "cell_type": "code",
   "execution_count": null,
   "metadata": {},
   "outputs": [],
   "source": []
  }
 ],
 "metadata": {
  "kernelspec": {
   "display_name": "Python 3",
   "language": "python",
   "name": "python3"
  },
  "language_info": {
   "codemirror_mode": {
    "name": "ipython",
    "version": 3
   },
   "file_extension": ".py",
   "mimetype": "text/x-python",
   "name": "python",
   "nbconvert_exporter": "python",
   "pygments_lexer": "ipython3",
   "version": "3.8.3"
  }
 },
 "nbformat": 4,
 "nbformat_minor": 4
}
